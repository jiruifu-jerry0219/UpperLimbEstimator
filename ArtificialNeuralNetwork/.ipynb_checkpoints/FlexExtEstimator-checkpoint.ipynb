{
 "cells": [
  {
   "cell_type": "markdown",
   "id": "455480b6-7d8b-4be6-a827-6d68f00bfa0a",
   "metadata": {},
   "source": [
    "### Note:\n",
    "This notebook is used to estimate the joint angle through the EMG signal"
   ]
  },
  {
   "cell_type": "code",
   "execution_count": 1,
   "id": "280f3c3b-cdac-49ec-b42c-5eecf507d360",
   "metadata": {},
   "outputs": [],
   "source": [
    "import os\n",
    "import glob\n",
    "from tqdm import tqdm\n",
    "\n",
    "import torch\n",
    "import torch.nn as nn\n",
    "from torch.autograd import Variable\n",
    "import torch.nn.functional as F\n",
    "import torch.utils.data as Data\n",
    "import torch.optim as optim\n",
    "from torch.utils.data import Dataset, DataLoader, WeightedRandomSampler\n",
    "\n",
    "from sklearn.preprocessing import MinMaxScaler    \n",
    "from sklearn.model_selection import train_test_split\n",
    "from sklearn.metrics import mean_squared_error, r2_score\n",
    "\n",
    "import matplotlib.pyplot as plt\n",
    "import seaborn as sns\n",
    "\n",
    "import numpy as np\n",
    "import imageio\n",
    "\n",
    "import pandas as pd\n",
    "\n",
    "%matplotlib inline"
   ]
  },
  {
   "cell_type": "markdown",
   "id": "d7e6fad5-3cd3-474a-9b91-5bc75da38771",
   "metadata": {},
   "source": [
    "### Data preprocessing"
   ]
  },
  {
   "cell_type": "code",
   "execution_count": 4,
   "id": "8af7c0a1-ee2d-44c4-adf1-98def57f2def",
   "metadata": {},
   "outputs": [
    {
     "data": {
      "text/html": [
       "<div>\n",
       "<style scoped>\n",
       "    .dataframe tbody tr th:only-of-type {\n",
       "        vertical-align: middle;\n",
       "    }\n",
       "\n",
       "    .dataframe tbody tr th {\n",
       "        vertical-align: top;\n",
       "    }\n",
       "\n",
       "    .dataframe thead th {\n",
       "        text-align: right;\n",
       "    }\n",
       "</style>\n",
       "<table border=\"1\" class=\"dataframe\">\n",
       "  <thead>\n",
       "    <tr style=\"text-align: right;\">\n",
       "      <th></th>\n",
       "      <th>ch 1</th>\n",
       "      <th>ch 2</th>\n",
       "      <th>ch 3</th>\n",
       "      <th>ch 4</th>\n",
       "      <th>ch 5</th>\n",
       "      <th>ch 6</th>\n",
       "      <th>ch 7</th>\n",
       "      <th>ch 8</th>\n",
       "      <th>ch 9</th>\n",
       "      <th>ch 10</th>\n",
       "      <th>ch 11</th>\n",
       "      <th>ch 12</th>\n",
       "      <th>ch 13</th>\n",
       "      <th>ch 14</th>\n",
       "      <th>ch 15</th>\n",
       "      <th>angle</th>\n",
       "    </tr>\n",
       "  </thead>\n",
       "  <tbody>\n",
       "    <tr>\n",
       "      <th>0</th>\n",
       "      <td>0.017648</td>\n",
       "      <td>0.000315</td>\n",
       "      <td>0.000315</td>\n",
       "      <td>0.017640</td>\n",
       "      <td>7.067573e-17</td>\n",
       "      <td>0.175230</td>\n",
       "      <td>0.030838</td>\n",
       "      <td>0.030838</td>\n",
       "      <td>0.175326</td>\n",
       "      <td>0.000220</td>\n",
       "      <td>0.094976</td>\n",
       "      <td>0.009046</td>\n",
       "      <td>0.009046</td>\n",
       "      <td>0.094906</td>\n",
       "      <td>1.558396e-19</td>\n",
       "      <td>0.007801</td>\n",
       "    </tr>\n",
       "    <tr>\n",
       "      <th>1</th>\n",
       "      <td>0.016601</td>\n",
       "      <td>0.000279</td>\n",
       "      <td>0.000279</td>\n",
       "      <td>0.016591</td>\n",
       "      <td>6.507132e-17</td>\n",
       "      <td>0.150075</td>\n",
       "      <td>0.022609</td>\n",
       "      <td>0.022609</td>\n",
       "      <td>0.150071</td>\n",
       "      <td>0.000161</td>\n",
       "      <td>0.080666</td>\n",
       "      <td>0.006525</td>\n",
       "      <td>0.006525</td>\n",
       "      <td>0.080570</td>\n",
       "      <td>7.776342e-20</td>\n",
       "      <td>0.007804</td>\n",
       "    </tr>\n",
       "    <tr>\n",
       "      <th>2</th>\n",
       "      <td>0.016045</td>\n",
       "      <td>0.000261</td>\n",
       "      <td>0.000261</td>\n",
       "      <td>0.016034</td>\n",
       "      <td>6.218418e-17</td>\n",
       "      <td>0.137214</td>\n",
       "      <td>0.018890</td>\n",
       "      <td>0.018890</td>\n",
       "      <td>0.137146</td>\n",
       "      <td>0.000136</td>\n",
       "      <td>0.072566</td>\n",
       "      <td>0.005277</td>\n",
       "      <td>0.005277</td>\n",
       "      <td>0.072434</td>\n",
       "      <td>5.224302e-20</td>\n",
       "      <td>0.007807</td>\n",
       "    </tr>\n",
       "    <tr>\n",
       "      <th>3</th>\n",
       "      <td>0.015644</td>\n",
       "      <td>0.000248</td>\n",
       "      <td>0.000248</td>\n",
       "      <td>0.015633</td>\n",
       "      <td>6.013456e-17</td>\n",
       "      <td>0.134190</td>\n",
       "      <td>0.018065</td>\n",
       "      <td>0.018065</td>\n",
       "      <td>0.134110</td>\n",
       "      <td>0.000131</td>\n",
       "      <td>0.071210</td>\n",
       "      <td>0.005081</td>\n",
       "      <td>0.005081</td>\n",
       "      <td>0.071071</td>\n",
       "      <td>4.885590e-20</td>\n",
       "      <td>0.007811</td>\n",
       "    </tr>\n",
       "    <tr>\n",
       "      <th>4</th>\n",
       "      <td>0.015258</td>\n",
       "      <td>0.000236</td>\n",
       "      <td>0.000236</td>\n",
       "      <td>0.015247</td>\n",
       "      <td>5.819516e-17</td>\n",
       "      <td>0.136297</td>\n",
       "      <td>0.018637</td>\n",
       "      <td>0.018637</td>\n",
       "      <td>0.136219</td>\n",
       "      <td>0.000135</td>\n",
       "      <td>0.074915</td>\n",
       "      <td>0.005624</td>\n",
       "      <td>0.005624</td>\n",
       "      <td>0.074782</td>\n",
       "      <td>5.865443e-20</td>\n",
       "      <td>0.007815</td>\n",
       "    </tr>\n",
       "  </tbody>\n",
       "</table>\n",
       "</div>"
      ],
      "text/plain": [
       "       ch 1      ch 2      ch 3      ch 4          ch 5      ch 6      ch 7  \\\n",
       "0  0.017648  0.000315  0.000315  0.017640  7.067573e-17  0.175230  0.030838   \n",
       "1  0.016601  0.000279  0.000279  0.016591  6.507132e-17  0.150075  0.022609   \n",
       "2  0.016045  0.000261  0.000261  0.016034  6.218418e-17  0.137214  0.018890   \n",
       "3  0.015644  0.000248  0.000248  0.015633  6.013456e-17  0.134190  0.018065   \n",
       "4  0.015258  0.000236  0.000236  0.015247  5.819516e-17  0.136297  0.018637   \n",
       "\n",
       "       ch 8      ch 9     ch 10     ch 11     ch 12     ch 13     ch 14  \\\n",
       "0  0.030838  0.175326  0.000220  0.094976  0.009046  0.009046  0.094906   \n",
       "1  0.022609  0.150071  0.000161  0.080666  0.006525  0.006525  0.080570   \n",
       "2  0.018890  0.137146  0.000136  0.072566  0.005277  0.005277  0.072434   \n",
       "3  0.018065  0.134110  0.000131  0.071210  0.005081  0.005081  0.071071   \n",
       "4  0.018637  0.136219  0.000135  0.074915  0.005624  0.005624  0.074782   \n",
       "\n",
       "          ch 15     angle  \n",
       "0  1.558396e-19  0.007801  \n",
       "1  7.776342e-20  0.007804  \n",
       "2  5.224302e-20  0.007807  \n",
       "3  4.885590e-20  0.007811  \n",
       "4  5.865443e-20  0.007815  "
      ]
     },
     "execution_count": 4,
     "metadata": {},
     "output_type": "execute_result"
    }
   ],
   "source": [
    "# For load estimation\n",
    "\n",
    "# path = r'/home/jerry/GitHub/EMG_regressive_model/train_data/2'\n",
    "path = r'D:\\GitHub\\EMG_regressive_model\\ann\\train_data\\2'\n",
    "all_files = glob.glob(path + \"/*csv\")\n",
    "dfList = []\n",
    "\n",
    "for filename in all_files:\n",
    "    df = pd.read_csv(filename)\n",
    "    df.head()\n",
    "    dfList.append(df)\n",
    "frame = pd.concat(dfList, axis = 1, ignore_index = False)\n",
    "frame.head()"
   ]
  },
  {
   "cell_type": "code",
   "execution_count": 5,
   "id": "c5f296bc-6f39-4a2c-8dc8-7edd0d74d836",
   "metadata": {},
   "outputs": [],
   "source": [
    "# create input and output data\n",
    "x = frame.iloc[:, 0:-1]\n",
    "y = frame.iloc[:, -1]\n",
    "\n",
    "# split the data into train, validate, and test set\n",
    "# because there is a class imblance, should use the stratify opton to make each set has identical distribution\n",
    "X_trainval, X_test, y_trainval, y_test = train_test_split(x, y)\n",
    "\n",
    "X_train, X_val, y_train, y_val = train_test_split(X_trainval, y_trainval, test_size=0.1)"
   ]
  },
  {
   "cell_type": "code",
   "execution_count": 6,
   "id": "8c39aa99-df52-46b4-a627-4ad02dd3b4aa",
   "metadata": {},
   "outputs": [],
   "source": [
    "X_train, y_train = np.array(X_train), np.array(y_train)\n",
    "X_val, y_val = np.array(X_val), np.array(y_val)\n",
    "X_test, y_test = np.array(X_test), np.array(y_test)"
   ]
  },
  {
   "cell_type": "code",
   "execution_count": 7,
   "id": "8be33f3a-5713-4c59-8d92-aed81bc9ae6d",
   "metadata": {},
   "outputs": [],
   "source": [
    "y_train, y_test, y_val = y_train.astype(float), y_test.astype(float), y_val.astype(float)"
   ]
  },
  {
   "cell_type": "markdown",
   "id": "a3312e0b-98ba-4f31-9d53-a4bf3f20be5f",
   "metadata": {},
   "source": [
    "### Setup the Neural Network"
   ]
  },
  {
   "cell_type": "code",
   "execution_count": 8,
   "id": "0970d683",
   "metadata": {},
   "outputs": [
    {
     "data": {
      "text/plain": [
       "<torch._C.Generator at 0x20a280f10d0>"
      ]
     },
     "execution_count": 8,
     "metadata": {},
     "output_type": "execute_result"
    }
   ],
   "source": [
    "#Reproducible\n",
    "torch.manual_seed(1)"
   ]
  },
  {
   "cell_type": "markdown",
   "id": "ad6a11ce",
   "metadata": {},
   "source": [
    "### Check whether the GPU is available"
   ]
  },
  {
   "cell_type": "code",
   "execution_count": 9,
   "id": "570fcf1f",
   "metadata": {},
   "outputs": [
    {
     "name": "stdout",
     "output_type": "stream",
     "text": [
      "cuda:0\n"
     ]
    }
   ],
   "source": [
    "device = torch.device(\"cuda:0\" if torch.cuda.is_available() else \"cpu\")\n",
    "print(device)"
   ]
  },
  {
   "cell_type": "code",
   "execution_count": 11,
   "id": "be20de9e-8b63-4f17-b347-d91dc1b83e4a",
   "metadata": {},
   "outputs": [],
   "source": [
    "class RegressionDataset(Dataset):\n",
    "    def __init__(self, x_data, y_data):\n",
    "        self.x_data = x_data\n",
    "        self.y_data = y_data\n",
    "    \n",
    "    def __getitem__(self, index):\n",
    "        return self.x_data[index], self.y_data[index]\n",
    "    \n",
    "    def __len__(self):\n",
    "        return len(self.x_data)"
   ]
  },
  {
   "cell_type": "code",
   "execution_count": 12,
   "id": "b72d4bb6-c5cf-43f7-9694-5a28e6800f1d",
   "metadata": {},
   "outputs": [],
   "source": [
    "train_dataset = RegressionDataset(torch.from_numpy(X_train).float(),\n",
    "                                 torch.from_numpy(y_train).float())\n",
    "test_dataset = RegressionDataset(torch.from_numpy(X_test).float(),\n",
    "                                torch.from_numpy(y_test).float())\n",
    "val_dataset = RegressionDataset(torch.from_numpy(X_val).float(),\n",
    "                               torch.from_numpy(y_val).float())"
   ]
  },
  {
   "cell_type": "markdown",
   "id": "70a908cc",
   "metadata": {},
   "source": [
    "\n",
    "### Build the feedforward neural network"
   ]
  },
  {
   "cell_type": "code",
   "execution_count": 17,
   "id": "f6b414c1-d7be-4044-8eb1-741b08bbe2a1",
   "metadata": {},
   "outputs": [],
   "source": [
    "class MultipleRegression(nn.Module):\n",
    "    def __init__(self, num_features):\n",
    "        super(MultipleRegression, self).__init__()\n",
    "        self.fc1 = nn.Linear(num_features, 64)\n",
    "        self.fc2 = nn.Linear(64, 128)\n",
    "#         self.fc3 = nn.Linear(128, 64)\n",
    "        self.output = nn.Linear(128, 1)\n",
    "        \n",
    "        self.act = nn.Sigmoid()\n",
    "        self.dropout = nn.Dropout(p=0.5)\n",
    "    \n",
    "    def forward(self, inputs):\n",
    "        x = self.act(self.fc1(inputs))\n",
    "        x = self.dropout(x)\n",
    "        x = self.act(self.fc2(x))\n",
    "        x = self.dropout(x)\n",
    "        x = self.output(x)\n",
    "        return x\n",
    "    \n",
    "    def predict(self, test_inputs):\n",
    "        x = self.act(self.fc1(test_inputs))\n",
    "        x = self.dropout(x)\n",
    "        x = self.act(self.fc2(x))\n",
    "        x = self.dropout(x)\n",
    "        x = self.output(x)\n",
    "        \n",
    "        return x\n",
    "        \n",
    "        "
   ]
  },
  {
   "cell_type": "code",
   "execution_count": 18,
   "id": "daa2e008-c244-4e0f-bce5-461688252fc1",
   "metadata": {},
   "outputs": [],
   "source": [
    "EPOCHS = 50\n",
    "BATCH_SIZE = 1\n",
    "LEARNING_RATE = 0.001\n",
    "NUM_FEATURES = len(x.columns)"
   ]
  },
  {
   "cell_type": "code",
   "execution_count": 19,
   "id": "cbcbfaf6-52ea-4fca-91f8-2e73d8449dbb",
   "metadata": {},
   "outputs": [],
   "source": [
    "train_loader = DataLoader(dataset=train_dataset, batch_size=BATCH_SIZE, shuffle=True)\n",
    "val_loader = DataLoader(dataset=val_dataset, batch_size=1)\n",
    "test_loader = DataLoader(dataset=test_dataset, batch_size=1)"
   ]
  },
  {
   "cell_type": "code",
   "execution_count": 20,
   "id": "f9ddb3a2-59b3-48a9-8161-b000d6798f54",
   "metadata": {},
   "outputs": [
    {
     "name": "stdout",
     "output_type": "stream",
     "text": [
      "MultipleRegression(\n",
      "  (fc1): Linear(in_features=15, out_features=64, bias=True)\n",
      "  (fc2): Linear(in_features=64, out_features=128, bias=True)\n",
      "  (output): Linear(in_features=128, out_features=1, bias=True)\n",
      "  (act): Sigmoid()\n",
      "  (dropout): Dropout(p=0.2, inplace=False)\n",
      ")\n"
     ]
    }
   ],
   "source": [
    "model = MultipleRegression(NUM_FEATURES)\n",
    "model.to(device)\n",
    "\n",
    "print(model)\n",
    "\n",
    "criterion = nn.MSELoss()\n",
    "optimizer = optim.Adam(model.parameters(), lr = LEARNING_RATE)"
   ]
  },
  {
   "cell_type": "code",
   "execution_count": 21,
   "id": "769e1ada-e089-4f67-b8a2-a5b673e5f3b6",
   "metadata": {},
   "outputs": [],
   "source": [
    "# Define a dictionary which will store the loss / epoch for both train and validation sets\n",
    "loss_stats = {\n",
    "    'train':[],\n",
    "    'val':[]\n",
    "}"
   ]
  },
  {
   "cell_type": "markdown",
   "id": "b53da8ba",
   "metadata": {},
   "source": [
    "### Train the network"
   ]
  },
  {
   "cell_type": "code",
   "execution_count": null,
   "id": "8781069c",
   "metadata": {},
   "outputs": [
    {
     "name": "stdout",
     "output_type": "stream",
     "text": [
      "=========Begin Training=========\n",
      "Epoch 001: | Train Loss: 0.15402 | Validation Loss: 0.16067\n",
      "Epoch 002: | Train Loss: 0.14119 | Validation Loss: 0.16911\n",
      "Epoch 003: | Train Loss: 0.13664 | Validation Loss: 0.12630\n",
      "Epoch 004: | Train Loss: 0.13278 | Validation Loss: 0.12845\n",
      "Epoch 005: | Train Loss: 0.13086 | Validation Loss: 0.12718\n",
      "Epoch 006: | Train Loss: 0.12917 | Validation Loss: 0.12933\n",
      "Epoch 007: | Train Loss: 0.12847 | Validation Loss: 0.12716\n",
      "Epoch 008: | Train Loss: 0.12740 | Validation Loss: 0.12244\n",
      "Epoch 009: | Train Loss: 0.12673 | Validation Loss: 0.12052\n",
      "Epoch 010: | Train Loss: 0.12355 | Validation Loss: 0.12242\n",
      "Epoch 011: | Train Loss: 0.12151 | Validation Loss: 0.12542\n",
      "Epoch 012: | Train Loss: 0.12159 | Validation Loss: 0.12428\n",
      "Epoch 013: | Train Loss: 0.12133 | Validation Loss: 0.11468\n",
      "Epoch 014: | Train Loss: 0.11845 | Validation Loss: 0.11473\n",
      "Epoch 015: | Train Loss: 0.12198 | Validation Loss: 0.12013\n",
      "Epoch 016: | Train Loss: 0.11997 | Validation Loss: 0.12311\n",
      "Epoch 017: | Train Loss: 0.11864 | Validation Loss: 0.11854\n",
      "Epoch 018: | Train Loss: 0.11718 | Validation Loss: 0.11579\n",
      "Epoch 019: | Train Loss: 0.11863 | Validation Loss: 0.12554\n",
      "Epoch 020: | Train Loss: 0.11710 | Validation Loss: 0.12021\n",
      "Epoch 021: | Train Loss: 0.11744 | Validation Loss: 0.12045\n",
      "Epoch 022: | Train Loss: 0.11856 | Validation Loss: 0.11038\n",
      "Epoch 023: | Train Loss: 0.11661 | Validation Loss: 0.11297\n",
      "Epoch 024: | Train Loss: 0.11713 | Validation Loss: 0.11738\n",
      "Epoch 025: | Train Loss: 0.11514 | Validation Loss: 0.11306\n",
      "Epoch 026: | Train Loss: 0.11631 | Validation Loss: 0.12002\n",
      "Epoch 027: | Train Loss: 0.11625 | Validation Loss: 0.12802\n",
      "Epoch 028: | Train Loss: 0.11677 | Validation Loss: 0.11806\n",
      "Epoch 029: | Train Loss: 0.11568 | Validation Loss: 0.11117\n",
      "Epoch 030: | Train Loss: 0.11634 | Validation Loss: 0.11617\n",
      "Epoch 031: | Train Loss: 0.11584 | Validation Loss: 0.11203\n",
      "Epoch 032: | Train Loss: 0.11489 | Validation Loss: 0.11609\n",
      "Epoch 033: | Train Loss: 0.11542 | Validation Loss: 0.11103\n",
      "Epoch 034: | Train Loss: 0.11529 | Validation Loss: 0.11371\n",
      "Epoch 035: | Train Loss: 0.11434 | Validation Loss: 0.11108\n",
      "Epoch 036: | Train Loss: 0.11441 | Validation Loss: 0.11577\n",
      "Epoch 037: | Train Loss: 0.11521 | Validation Loss: 0.11792\n",
      "Epoch 038: | Train Loss: 0.11400 | Validation Loss: 0.11913\n",
      "Epoch 039: | Train Loss: 0.11374 | Validation Loss: 0.11304\n",
      "Epoch 040: | Train Loss: 0.11510 | Validation Loss: 0.11545\n",
      "Epoch 041: | Train Loss: 0.11566 | Validation Loss: 0.11201\n",
      "Epoch 042: | Train Loss: 0.11463 | Validation Loss: 0.11161\n",
      "Epoch 043: | Train Loss: 0.11411 | Validation Loss: 0.11237\n",
      "Epoch 044: | Train Loss: 0.11541 | Validation Loss: 0.11223\n",
      "Epoch 045: | Train Loss: 0.11339 | Validation Loss: 0.11269\n",
      "Epoch 046: | Train Loss: 0.11341 | Validation Loss: 0.11582\n"
     ]
    }
   ],
   "source": [
    "print('=========Begin Training=========')\n",
    "for e in range(1, EPOCHS+1):\n",
    "    \n",
    "    #TRAINING\n",
    "    train_epoch_loss = 0\n",
    "    model.train()\n",
    "    \n",
    "    for X_train_batch, y_train_batch in train_loader:\n",
    "        X_train_batch, y_train_batch = X_train_batch.to(device), y_train_batch.to(device)\n",
    "        optimizer.zero_grad()\n",
    "        \n",
    "        y_train_pred = model(X_train_batch)\n",
    "        \n",
    "        train_loss = criterion(y_train_pred, y_train_batch.unsqueeze(1))\n",
    "        \n",
    "        train_loss.backward()\n",
    "        optimizer.step()\n",
    "        \n",
    "        train_epoch_loss += train_loss.item()\n",
    "    \n",
    "    #VALIDATION\n",
    "    with torch.no_grad():\n",
    "        \n",
    "        val_epoch_loss = 0\n",
    "        \n",
    "        model.eval()\n",
    "        for X_val_batch, y_val_batch in val_loader:\n",
    "            X_val_batch, y_val_batch = X_val_batch.to(device), y_val_batch.to(device)\n",
    "            \n",
    "            y_val_pred = model(X_val_batch)\n",
    "            \n",
    "            val_loss = criterion(y_val_pred, y_val_batch.unsqueeze(1))\n",
    "            \n",
    "            val_epoch_loss += val_loss.item()\n",
    "            \n",
    "    loss_stats['train'].append(train_epoch_loss / len(train_loader))\n",
    "    loss_stats['val'].append(val_epoch_loss / len(val_loader))\n",
    "    print(f'Epoch {e+0:03}: | Train Loss: {train_epoch_loss/len(train_loader):.5f} | Validation Loss: {val_epoch_loss/len(val_loader):.5f}')\n",
    "    \n",
    "    "
   ]
  },
  {
   "cell_type": "markdown",
   "id": "bb69f83d-0464-49bb-a32f-b73e1ef0e17b",
   "metadata": {},
   "source": [
    "### Post processing\n",
    "1. Vsiualize loss and accuracy\n",
    "2. Test trained model"
   ]
  },
  {
   "cell_type": "code",
   "execution_count": 65,
   "id": "3c1a58b7-8a54-4cff-a3c4-a3ebc18ddc13",
   "metadata": {},
   "outputs": [
    {
     "data": {
      "text/plain": [
       "Text(0.5, 1.0, 'Train-Val Loss/Epoch')"
      ]
     },
     "execution_count": 65,
     "metadata": {},
     "output_type": "execute_result"
    },
    {
     "data": {
      "image/png": "[encoded data removed]",
      "text/plain": [
       "<Figure size 1080x576 with 1 Axes>"
      ]
     },
     "metadata": {
      "needs_background": "light"
     },
     "output_type": "display_data"
    }
   ],
   "source": [
    "train_val_loss_df = pd.DataFrame.from_dict(loss_stats).reset_index().melt(id_vars=['index']).rename(columns={\"index\":\"epochs\"})\n",
    "plt.figure(figsize=(15,8))\n",
    "sns.lineplot(data=train_val_loss_df, x = \"epochs\", y=\"value\", hue=\"variable\").set_title('Train-Val Loss/Epoch')"
   ]
  },
  {
   "cell_type": "code",
   "execution_count": 66,
   "id": "84433825-4df5-4452-a367-e854d6cffd42",
   "metadata": {},
   "outputs": [],
   "source": [
    "y_pred_list = []\n",
    "\n",
    "with torch.no_grad():\n",
    "    model.eval()\n",
    "    for X_batch, _ in test_loader:\n",
    "        X_batch = X_batch.to(device)\n",
    "        y_test_pred = model(X_batch)\n",
    "        y_pred_list.append(y_test_pred.cpu().numpy())"
   ]
  },
  {
   "cell_type": "code",
   "execution_count": 67,
   "id": "3e570b69-85dd-4ae4-93f2-5945d19d083c",
   "metadata": {},
   "outputs": [],
   "source": [
    "y_pred_list = [a.squeeze().tolist() for a in y_pred_list]"
   ]
  },
  {
   "cell_type": "markdown",
   "id": "73f06e88-cda7-4d5a-84a5-d02b4fb9cc67",
   "metadata": {},
   "source": [
    "### Batch = 1, Epoches = 1000"
   ]
  },
  {
   "cell_type": "code",
   "execution_count": 68,
   "id": "2db24f1f-20d6-43c5-8f09-680ddd6a271b",
   "metadata": {},
   "outputs": [
    {
     "name": "stdout",
     "output_type": "stream",
     "text": [
      "Mean Squared Error : 0.11477606725625061\n",
      "R^2 : 0.21814162699884354\n"
     ]
    }
   ],
   "source": [
    "mse = mean_squared_error(y_test, y_pred_list)\n",
    "r_square = r2_score(y_test, y_pred_list)\n",
    "\n",
    "print(\"Mean Squared Error :\",mse)\n",
    "print(\"R^2 :\",r_square)"
   ]
  },
  {
   "cell_type": "markdown",
   "id": "f973e898",
   "metadata": {},
   "source": [
    "### Comments:\n",
    "    By observing the MSE and R^2 for the test set, the trained model is acceptable for one set of data. However, the validation losee still fluctuates as previous trial. Also, overfit problem exists in the training process. Therefore, drop out method should be added to the neural netwrok architecture. For validation, we can use K-fold validation to replace current validation method.\n",
    "    Next step should test the model with data collect from different session."
   ]
  },
  {
   "cell_type": "code",
   "execution_count": null,
   "id": "2f262b8d",
   "metadata": {},
   "outputs": [],
   "source": []
  },
  {
   "cell_type": "code",
   "execution_count": null,
   "id": "517fb798",
   "metadata": {},
   "outputs": [],
   "source": []
  }
 ],
 "metadata": {
  "kernelspec": {
   "display_name": "Python 3",
   "language": "python",
   "name": "python3"
  },
  "language_info": {
   "codemirror_mode": {
    "name": "ipython",
    "version": 3
   },
   "file_extension": ".py",
   "mimetype": "text/x-python",
   "name": "python",
   "nbconvert_exporter": "python",
   "pygments_lexer": "ipython3",
   "version": "3.9.5"
  }
 },
 "nbformat": 4,
 "nbformat_minor": 5
}
