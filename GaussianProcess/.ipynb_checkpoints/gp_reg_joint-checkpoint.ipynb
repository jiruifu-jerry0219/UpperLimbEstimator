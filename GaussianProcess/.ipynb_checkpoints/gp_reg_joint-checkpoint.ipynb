{
 "cells": [
  {
   "cell_type": "code",
   "execution_count": 42,
   "id": "dde4f452",
   "metadata": {},
   "outputs": [],
   "source": [
    "np.random.seed(1)"
   ]
  },
  {
   "cell_type": "code",
   "execution_count": 43,
   "id": "ba025871",
   "metadata": {},
   "outputs": [],
   "source": [
    "import numpy as np\n",
    "import pandas as pd\n",
    "import seaborn as sns\n",
    "import matplotlib.pyplot as ply\n",
    "import itertools\n",
    "from sklearn.gaussian_process import GaussianProcessRegressor\n",
    "from sklearn.gaussian_process.kernels import ConstantKernel, RBF\n",
    "from sklearn.model_selection import train_test_split"
   ]
  },
  {
   "cell_type": "code",
   "execution_count": 45,
   "id": "b947b174",
   "metadata": {},
   "outputs": [
    {
     "data": {
      "text/html": [
       "<div>\n",
       "<style scoped>\n",
       "    .dataframe tbody tr th:only-of-type {\n",
       "        vertical-align: middle;\n",
       "    }\n",
       "\n",
       "    .dataframe tbody tr th {\n",
       "        vertical-align: top;\n",
       "    }\n",
       "\n",
       "    .dataframe thead th {\n",
       "        text-align: right;\n",
       "    }\n",
       "</style>\n",
       "<table border=\"1\" class=\"dataframe\">\n",
       "  <thead>\n",
       "    <tr style=\"text-align: right;\">\n",
       "      <th></th>\n",
       "      <th>ch1</th>\n",
       "      <th>angle</th>\n",
       "    </tr>\n",
       "  </thead>\n",
       "  <tbody>\n",
       "    <tr>\n",
       "      <th>0</th>\n",
       "      <td>0.007240</td>\n",
       "      <td>1.195211</td>\n",
       "    </tr>\n",
       "    <tr>\n",
       "      <th>1</th>\n",
       "      <td>0.083861</td>\n",
       "      <td>1.190142</td>\n",
       "    </tr>\n",
       "    <tr>\n",
       "      <th>2</th>\n",
       "      <td>0.187648</td>\n",
       "      <td>1.185074</td>\n",
       "    </tr>\n",
       "    <tr>\n",
       "      <th>3</th>\n",
       "      <td>0.221901</td>\n",
       "      <td>1.180009</td>\n",
       "    </tr>\n",
       "    <tr>\n",
       "      <th>4</th>\n",
       "      <td>0.158749</td>\n",
       "      <td>1.174926</td>\n",
       "    </tr>\n",
       "  </tbody>\n",
       "</table>\n",
       "</div>"
      ],
      "text/plain": [
       "        ch1     angle\n",
       "0  0.007240  1.195211\n",
       "1  0.083861  1.190142\n",
       "2  0.187648  1.185074\n",
       "3  0.221901  1.180009\n",
       "4  0.158749  1.174926"
      ]
     },
     "execution_count": 45,
     "metadata": {},
     "output_type": "execute_result"
    }
   ],
   "source": [
    "df = pd.read_csv('data/train.csv')\n",
    "df.head()"
   ]
  },
  {
   "cell_type": "code",
   "execution_count": 46,
   "id": "607cec4d",
   "metadata": {},
   "outputs": [],
   "source": [
    "df_array = np.asarray(df)"
   ]
  },
  {
   "cell_type": "code",
   "execution_count": 47,
   "id": "f24382fb",
   "metadata": {},
   "outputs": [],
   "source": [
    "emg = df_array[:, 0]\n",
    "joint_angle = df_array[:, 1]"
   ]
  },
  {
   "cell_type": "code",
   "execution_count": 48,
   "id": "2539c536",
   "metadata": {},
   "outputs": [],
   "source": [
    "y = np.asarray([joint_angle]).T"
   ]
  },
  {
   "cell_type": "code",
   "execution_count": 49,
   "id": "07c74286",
   "metadata": {},
   "outputs": [],
   "source": [
    "x = np.asarray([emg_1]).T"
   ]
  },
  {
   "cell_type": "markdown",
   "id": "c1127949",
   "metadata": {},
   "source": [
    "### Part of Gaussian Process Regression"
   ]
  },
  {
   "cell_type": "code",
   "execution_count": 50,
   "id": "9758b882",
   "metadata": {},
   "outputs": [],
   "source": [
    "# Define kernel parameters. \n",
    "l = 0.1\n",
    "sigma_f = 2\n",
    "sigma_n = 0.4\n",
    "\n",
    "# Define kernel object. \n",
    "kernel = ConstantKernel(constant_value=sigma_f,constant_value_bounds=(1e-3, 1e3)) \\\n",
    "            * RBF(length_scale=l, length_scale_bounds=(1e-3, 1e3))"
   ]
  },
  {
   "cell_type": "code",
   "execution_count": 51,
   "id": "1cb5518c",
   "metadata": {},
   "outputs": [
    {
     "name": "stderr",
     "output_type": "stream",
     "text": [
      "C:\\Users\\jirui\\.conda\\envs\\torch\\lib\\site-packages\\sklearn\\gaussian_process\\kernels.py:411: ConvergenceWarning: The optimal value found for dimension 0 of parameter k1__constant_value is close to the specified upper bound 1000.0. Increasing the bound and calling fit again may find a better value.\n",
      "  warnings.warn(\"The optimal value found for \"\n",
      "C:\\Users\\jirui\\.conda\\envs\\torch\\lib\\site-packages\\sklearn\\gaussian_process\\kernels.py:402: ConvergenceWarning: The optimal value found for dimension 0 of parameter k2__length_scale is close to the specified lower bound 0.001. Decreasing the bound and calling fit again may find a better value.\n",
      "  warnings.warn(\"The optimal value found for \"\n"
     ]
    },
    {
     "data": {
      "text/plain": [
       "GaussianProcessRegressor(alpha=0.16000000000000003,\n",
       "                         kernel=1.41**2 * RBF(length_scale=0.1),\n",
       "                         n_restarts_optimizer=10)"
      ]
     },
     "execution_count": 51,
     "metadata": {},
     "output_type": "execute_result"
    }
   ],
   "source": [
    "from sklearn.gaussian_process import GaussianProcessRegressor\n",
    "# Define GaussianProcessRegressor object. \n",
    "gp = GaussianProcessRegressor(kernel=kernel, alpha=sigma_n**2, n_restarts_optimizer=10)\n",
    "\n",
    "# X = x.reshape(n, d)\n",
    "# X_star = x_star.reshape(n_star, d)\n",
    "# Fit to data using Maximum Likelihood Estimation of the parameters.\n",
    "gp.fit(x, y)\n",
    "\n",
    "# Make the prediction on test set.\n",
    "# # y_pred = gp.predict(X_star)\n",
    "\n",
    "# fig, ax = plt.subplots()\n",
    "# # Plot \"true\" linear fit.\n",
    "# sns.lineplot(x=x, y=f_x, color='red', label='f(x)', ax=ax)\n",
    "# # Plot prediction. \n",
    "# sns.lineplot(x=x_star, y=y_pred, color='green', label='pred', ax=ax)\n",
    "# ax.set(title=f'Prediction GaussianProcessRegressor, sigma_f = {sigma_f} and l = {l}')\n",
    "# ax.legend(loc='upper right');\n",
    "\n",
    "# # Set dimension. \n",
    "# d = 1\n",
    "# # Number of training points.\n",
    "# n = 1000\n",
    "# # Length of the training set. \n",
    "# L = 2\n",
    "# # Generate training features.\n",
    "# x = np.linspace(start=0, stop=L, num=n)\n",
    "# X = x.reshape(n, d)\n",
    "# # Error standar deviation. \n",
    "# sigma_n = 0.4\n",
    "# # Errors.\n",
    "# epsilon = np.random.normal(loc=0, scale=sigma_n, size=n)\n",
    "\n",
    "# # Generate non-linear function.\n",
    "# def f(x):\n",
    "#     f = np.sin((4*np.pi)*x) + np.sin((7*np.pi)*x) + np.sin((3*np.pi)*x) \n",
    "#     return(f)\n",
    "\n",
    "# f_x = f(x)\n",
    "\n",
    "# # Observed target variable. \n",
    "# y = f_x + epsilon\n",
    "\n",
    "# n_star = n + 300\n",
    "# x_star = np.linspace(start=0, stop=(L + 0.5), num=n_star)\n",
    "\n",
    "# X_star = x_star.reshape(n_star, d)\n",
    "\n",
    "\n",
    "# # Define kernel parameters. \n",
    "# l = 0.1\n",
    "# sigma_f = 2\n",
    "\n",
    "# # Define kernel object. \n",
    "# kernel = ConstantKernel(constant_value=sigma_f, constant_value_bounds=(1e-2, 1e2)) \\\n",
    "#             * RBF(length_scale=l, length_scale_bounds=(1e-2, 1e2))\n",
    "# # Define GaussianProcessRegressor object. \n",
    "# gp = GaussianProcessRegressor(kernel=kernel, alpha=sigma_n**2, n_restarts_optimizer=10, )\n",
    "\n",
    "\n",
    "# # Fit to data using Maximum Likelihood Estimation of the parameters.\n",
    "# gp.fit(X, y)\n",
    "# # Make the prediction on test set.\n",
    "# y_pred = gp.predict(X_star)\n",
    "# # Generate samples from posterior distribution. \n",
    "# y_hat_samples = gp.sample_y(X_star, n_samples=n_star)\n",
    "# # Compute the mean of the sample. \n",
    "# y_hat = np.apply_over_axes(func=np.mean, a=y_hat_samples, axes=1).squeeze()\n",
    "# # Compute the standard deviation of the sample. \n",
    "# y_hat_sd = np.apply_over_axes(func=np.std, a=y_hat_samples, axes=1).squeeze()"
   ]
  },
  {
   "cell_type": "code",
   "execution_count": 52,
   "id": "9af9bdce",
   "metadata": {},
   "outputs": [
    {
     "data": {
      "text/html": [
       "<div>\n",
       "<style scoped>\n",
       "    .dataframe tbody tr th:only-of-type {\n",
       "        vertical-align: middle;\n",
       "    }\n",
       "\n",
       "    .dataframe tbody tr th {\n",
       "        vertical-align: top;\n",
       "    }\n",
       "\n",
       "    .dataframe thead th {\n",
       "        text-align: right;\n",
       "    }\n",
       "</style>\n",
       "<table border=\"1\" class=\"dataframe\">\n",
       "  <thead>\n",
       "    <tr style=\"text-align: right;\">\n",
       "      <th></th>\n",
       "      <th>ch1</th>\n",
       "      <th>joint_angle</th>\n",
       "    </tr>\n",
       "  </thead>\n",
       "  <tbody>\n",
       "    <tr>\n",
       "      <th>0</th>\n",
       "      <td>0.001064</td>\n",
       "      <td>1.499587</td>\n",
       "    </tr>\n",
       "    <tr>\n",
       "      <th>1</th>\n",
       "      <td>0.019652</td>\n",
       "      <td>1.499776</td>\n",
       "    </tr>\n",
       "    <tr>\n",
       "      <th>2</th>\n",
       "      <td>0.086742</td>\n",
       "      <td>1.499968</td>\n",
       "    </tr>\n",
       "    <tr>\n",
       "      <th>3</th>\n",
       "      <td>0.094404</td>\n",
       "      <td>1.500162</td>\n",
       "    </tr>\n",
       "    <tr>\n",
       "      <th>4</th>\n",
       "      <td>0.042492</td>\n",
       "      <td>1.500346</td>\n",
       "    </tr>\n",
       "  </tbody>\n",
       "</table>\n",
       "</div>"
      ],
      "text/plain": [
       "        ch1  joint_angle\n",
       "0  0.001064     1.499587\n",
       "1  0.019652     1.499776\n",
       "2  0.086742     1.499968\n",
       "3  0.094404     1.500162\n",
       "4  0.042492     1.500346"
      ]
     },
     "execution_count": 52,
     "metadata": {},
     "output_type": "execute_result"
    }
   ],
   "source": [
    "df = pd.read_csv('data/test.csv')\n",
    "df.head()"
   ]
  },
  {
   "cell_type": "code",
   "execution_count": 53,
   "id": "d8915007",
   "metadata": {},
   "outputs": [],
   "source": [
    "df_array = np.asarray(df)\n",
    "emg = df_array[:, 0]\n",
    "joint_angle = df_array[:, 1]\n",
    "y_test = np.asarray([joint_angle]).T\n",
    "x_test = np.asarray([emg]).T"
   ]
  },
  {
   "cell_type": "code",
   "execution_count": 54,
   "id": "70168da1",
   "metadata": {},
   "outputs": [],
   "source": [
    "# Make the prediction on test set.\n",
    "y_pred = gp.predict(x_test)"
   ]
  },
  {
   "cell_type": "code",
   "execution_count": 55,
   "id": "3d2b7a59",
   "metadata": {},
   "outputs": [
    {
     "data": {
      "text/plain": [
       "(5320, 1)"
      ]
     },
     "execution_count": 55,
     "metadata": {},
     "output_type": "execute_result"
    }
   ],
   "source": [
    "y_test.shape"
   ]
  },
  {
   "cell_type": "code",
   "execution_count": 56,
   "id": "d2140493",
   "metadata": {},
   "outputs": [
    {
     "data": {
      "text/plain": [
       "(5320, 1)"
      ]
     },
     "execution_count": 56,
     "metadata": {},
     "output_type": "execute_result"
    }
   ],
   "source": [
    "t = np.linspace(start = 0, stop = 5320, num = 5320)\n",
    "t = np.asarray([t]).T\n",
    "t.shape"
   ]
  },
  {
   "cell_type": "code",
   "execution_count": 58,
   "id": "b6b10d6c",
   "metadata": {},
   "outputs": [],
   "source": [
    "from numpy import savetxt\n",
    "savetxt('pred.csv', y_pred, delimiter=',')"
   ]
  },
  {
   "cell_type": "code",
   "execution_count": 57,
   "id": "c7bfe7f6",
   "metadata": {},
   "outputs": [
    {
     "data": {
      "image/png": "[encoded data removed]",
      "text/plain": [
       "<Figure size 432x288 with 1 Axes>"
      ]
     },
     "metadata": {
      "needs_background": "light"
     },
     "output_type": "display_data"
    }
   ],
   "source": [
    "import matplotlib.pyplot as plt\n",
    "import seaborn as sns\n",
    "\n",
    "plt.plot(t, y_test, label = \"real\")\n",
    "plt.plot(t, y_pred, label = \"predict\")\n",
    "plt.legend()\n",
    "plt.show()"
   ]
  },
  {
   "cell_type": "code",
   "execution_count": 39,
   "id": "5cdfdfab",
   "metadata": {},
   "outputs": [
    {
     "data": {
      "text/plain": [
       "(5320, 1)"
      ]
     },
     "execution_count": 39,
     "metadata": {},
     "output_type": "execute_result"
    }
   ],
   "source": [
    "y_pred.shape"
   ]
  },
  {
   "cell_type": "code",
   "execution_count": 40,
   "id": "9a2e8196",
   "metadata": {},
   "outputs": [
    {
     "data": {
      "text/plain": [
       "array([[ 1.08762845e+00],\n",
       "       [ 1.03173428e-01],\n",
       "       [-5.99687813e-01],\n",
       "       ...,\n",
       "       [ 2.06269386e-06],\n",
       "       [ 1.27800937e+00],\n",
       "       [ 2.43916467e+00]])"
      ]
     },
     "execution_count": 40,
     "metadata": {},
     "output_type": "execute_result"
    }
   ],
   "source": [
    "y_pred"
   ]
  },
  {
   "cell_type": "code",
   "execution_count": null,
   "id": "53048ecd",
   "metadata": {},
   "outputs": [],
   "source": []
  }
 ],
 "metadata": {
  "kernelspec": {
   "display_name": "Python 3",
   "language": "python",
   "name": "python3"
  },
  "language_info": {
   "codemirror_mode": {
    "name": "ipython",
    "version": 3
   },
   "file_extension": ".py",
   "mimetype": "text/x-python",
   "name": "python",
   "nbconvert_exporter": "python",
   "pygments_lexer": "ipython3",
   "version": "3.9.2"
  }
 },
 "nbformat": 4,
 "nbformat_minor": 5
}
