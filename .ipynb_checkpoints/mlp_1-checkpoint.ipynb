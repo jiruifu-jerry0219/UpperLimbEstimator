{
 "cells": [
  {
   "cell_type": "code",
   "execution_count": 106,
   "id": "15d030e1",
   "metadata": {},
   "outputs": [],
   "source": [
    "import os\n",
    "import glob\n",
    "from tqdm import tqdm\n",
    "\n",
    "import torch\n",
    "import torch.nn as nn\n",
    "from torch.autograd import Variable\n",
    "import torch.nn.functional as F\n",
    "import torch.utils.data as Data\n",
    "import torch.optim as optim\n",
    "from torch.utils.data import Dataset, DataLoader, WeightedRandomSampler\n",
    "\n",
    "from sklearn.preprocessing import MinMaxScaler    \n",
    "from sklearn.model_selection import train_test_split\n",
    "from sklearn.metrics import mean_squared_error, r2_score\n",
    "\n",
    "import matplotlib.pyplot as plt\n",
    "import seaborn as sns\n",
    "\n",
    "import numpy as np\n",
    "import imageio\n",
    "\n",
    "import pandas as pd\n",
    "\n",
    "%matplotlib inline"
   ]
  },
  {
   "cell_type": "markdown",
   "id": "d7e6fad5-3cd3-474a-9b91-5bc75da38771",
   "metadata": {},
   "source": [
    "### Data preprocessing"
   ]
  },
  {
   "cell_type": "code",
   "execution_count": 53,
   "id": "67135d72-bcb1-45c5-a1ca-3cde17de676f",
   "metadata": {},
   "outputs": [],
   "source": [
    "# # Read the data and cocatanate the data frame\n",
    "\n",
    "# # Read two CSV files which includes joint angle and EMG features\n",
    "\n",
    "# # For joint angle estimation\n",
    "# path = r'D:\\GitHub\\EMG_regressive_model\\data\\2'\n",
    "# all_files = glob.glob(path + \"/*csv\")\n",
    "# print(all_files)\n",
    "\n",
    "# dfList = []\n",
    "\n",
    "# for filename in all_files:\n",
    "#     df = pd.read_csv(filename)\n",
    "#     df.head()\n",
    "#     dfList.append(df)\n",
    "# frame = pd.concat(dfList, axis = 1, ignore_index = False)\n",
    "# frame.head()"
   ]
  },
  {
   "cell_type": "code",
   "execution_count": 107,
   "id": "8af7c0a1-ee2d-44c4-adf1-98def57f2def",
   "metadata": {},
   "outputs": [
    {
     "data": {
      "text/html": [
       "<div>\n",
       "<style scoped>\n",
       "    .dataframe tbody tr th:only-of-type {\n",
       "        vertical-align: middle;\n",
       "    }\n",
       "\n",
       "    .dataframe tbody tr th {\n",
       "        vertical-align: top;\n",
       "    }\n",
       "\n",
       "    .dataframe thead th {\n",
       "        text-align: right;\n",
       "    }\n",
       "</style>\n",
       "<table border=\"1\" class=\"dataframe\">\n",
       "  <thead>\n",
       "    <tr style=\"text-align: right;\">\n",
       "      <th></th>\n",
       "      <th>ch1</th>\n",
       "      <th>ch2</th>\n",
       "      <th>ch3</th>\n",
       "      <th>joint_angle</th>\n",
       "    </tr>\n",
       "  </thead>\n",
       "  <tbody>\n",
       "    <tr>\n",
       "      <th>0</th>\n",
       "      <td>2.690000e-06</td>\n",
       "      <td>0.000000e+00</td>\n",
       "      <td>0.000011</td>\n",
       "      <td>1.195211</td>\n",
       "    </tr>\n",
       "    <tr>\n",
       "      <th>1</th>\n",
       "      <td>2.840000e-05</td>\n",
       "      <td>4.030000e-07</td>\n",
       "      <td>0.000208</td>\n",
       "      <td>1.190142</td>\n",
       "    </tr>\n",
       "    <tr>\n",
       "      <th>2</th>\n",
       "      <td>1.720000e-05</td>\n",
       "      <td>5.460000e-07</td>\n",
       "      <td>0.000349</td>\n",
       "      <td>1.185074</td>\n",
       "    </tr>\n",
       "    <tr>\n",
       "      <th>3</th>\n",
       "      <td>8.370000e-07</td>\n",
       "      <td>4.080000e-06</td>\n",
       "      <td>0.000714</td>\n",
       "      <td>1.180009</td>\n",
       "    </tr>\n",
       "    <tr>\n",
       "      <th>4</th>\n",
       "      <td>2.580000e-05</td>\n",
       "      <td>3.220000e-05</td>\n",
       "      <td>0.001778</td>\n",
       "      <td>1.174926</td>\n",
       "    </tr>\n",
       "  </tbody>\n",
       "</table>\n",
       "</div>"
      ],
      "text/plain": [
       "            ch1           ch2       ch3  joint_angle\n",
       "0  2.690000e-06  0.000000e+00  0.000011     1.195211\n",
       "1  2.840000e-05  4.030000e-07  0.000208     1.190142\n",
       "2  1.720000e-05  5.460000e-07  0.000349     1.185074\n",
       "3  8.370000e-07  4.080000e-06  0.000714     1.180009\n",
       "4  2.580000e-05  3.220000e-05  0.001778     1.174926"
      ]
     },
     "execution_count": 107,
     "metadata": {},
     "output_type": "execute_result"
    }
   ],
   "source": [
    "# For load estimation\n",
    "\n",
    "path = r'D:\\GitHub\\EMG_regressive_model\\data\\2'\n",
    "all_files = glob.glob(path + \"/*csv\")\n",
    "dfList = []\n",
    "\n",
    "for filename in all_files:\n",
    "    df = pd.read_csv(filename)\n",
    "    df.head()\n",
    "    dfList.append(df)\n",
    "frame = pd.concat(dfList, axis = 1, ignore_index = False)\n",
    "frame.head()"
   ]
  },
  {
   "cell_type": "code",
   "execution_count": 55,
   "id": "27b7beea-6dd9-4284-90ea-f5d0f4650d0a",
   "metadata": {},
   "outputs": [
    {
     "data": {
      "text/plain": [
       "<AxesSubplot:xlabel='load', ylabel='count'>"
      ]
     },
     "execution_count": 55,
     "metadata": {},
     "output_type": "execute_result"
    },
    {
     "data": {
      "image/png": "[encoded data removed]",
      "text/plain": [
       "<Figure size 432x288 with 1 Axes>"
      ]
     },
     "metadata": {
      "needs_background": "light"
     },
     "output_type": "display_data"
    }
   ],
   "source": [
    "# sns.countplot(x = 'load', data=frame)"
   ]
  },
  {
   "cell_type": "code",
   "execution_count": 110,
   "id": "c5f296bc-6f39-4a2c-8dc8-7edd0d74d836",
   "metadata": {},
   "outputs": [],
   "source": [
    "# create input and output data\n",
    "x = frame.iloc[:, 0:-1]\n",
    "y = frame.iloc[:, -1]\n",
    "\n",
    "# split the data into train, validate, and test set\n",
    "# because there is a class imblance, should use the stratify opton to make each set has identical distribution\n",
    "X_trainval, X_test, y_trainval, y_test = train_test_split(x, y)\n",
    "\n",
    "X_train, X_val, y_train, y_val = train_test_split(X_trainval, y_trainval, test_size=0.1)"
   ]
  },
  {
   "cell_type": "code",
   "execution_count": 112,
   "id": "8c39aa99-df52-46b4-a627-4ad02dd3b4aa",
   "metadata": {},
   "outputs": [],
   "source": [
    "X_train, y_train = np.array(X_train), np.array(y_train)\n",
    "X_val, y_val = np.array(X_val), np.array(y_val)\n",
    "X_test, y_test = np.array(X_test), np.array(y_test)"
   ]
  },
  {
   "cell_type": "code",
   "execution_count": 113,
   "id": "83a1d292-7fd7-49e1-b722-29faa513b984",
   "metadata": {},
   "outputs": [],
   "source": [
    "# def get_load_distribution(obj):\n",
    "#     count_dict = {\n",
    "#         'load_1': 0,\n",
    "#         'load_2': 0,\n",
    "#         'load_3': 0,\n",
    "#     }\n",
    "#     for i in obj:\n",
    "#         if i == 5.5:\n",
    "#             count_dict['load_1'] += 1\n",
    "#         elif i == 8.88:\n",
    "#             count_dict['load_2'] += 1\n",
    "#         elif i == 11.1:\n",
    "#             count_dict['load_3'] += 1\n",
    "#         else:\n",
    "#             print('Check load labels')\n",
    "#     return count_dict\n",
    "# fig, axes = plt.subplots(nrows = 1, ncols = 3, figsize = (25, 7))\n",
    "\n",
    "# #Train\n",
    "# sns.barplot(data=\n",
    "#            pd.DataFrame.from_dict([get_load_distribution(y_train)]).melt(),\n",
    "#            x = 'variable',\n",
    "#            y = 'value',\n",
    "#            hue = 'variable',\n",
    "#            ax = axes[0]).set_title('Class distribution in train set')\n",
    "\n",
    "# #Validation\n",
    "# sns.barplot(data=\n",
    "#            pd.DataFrame.from_dict([get_load_distribution(y_val)]).melt(),\n",
    "#            x = 'variable',\n",
    "#            y = 'value',\n",
    "#            hue = 'variable',\n",
    "#            ax = axes[1]).set_title('Class distribution in validation set')\n",
    "\n",
    "# #Test\n",
    "# sns.barplot(data=\n",
    "#            pd.DataFrame.from_dict([get_load_distribution(y_test)]).melt(),\n",
    "#            x = 'variable',\n",
    "#            y = 'value',\n",
    "#            hue = 'variable',\n",
    "#            ax = axes[2]).set_title('Class distribution in test set')\n"
   ]
  },
  {
   "cell_type": "code",
   "execution_count": 114,
   "id": "8be33f3a-5713-4c59-8d92-aed81bc9ae6d",
   "metadata": {},
   "outputs": [],
   "source": [
    "y_train, y_test, y_val = y_train.astype(float), y_test.astype(float), y_val.astype(float)"
   ]
  },
  {
   "cell_type": "markdown",
   "id": "a3312e0b-98ba-4f31-9d53-a4bf3f20be5f",
   "metadata": {},
   "source": [
    "### Setup the Neural Network"
   ]
  },
  {
   "cell_type": "code",
   "execution_count": 115,
   "id": "0970d683",
   "metadata": {},
   "outputs": [
    {
     "data": {
      "text/plain": [
       "<torch._C.Generator at 0x1da6406fbb0>"
      ]
     },
     "execution_count": 115,
     "metadata": {},
     "output_type": "execute_result"
    }
   ],
   "source": [
    "#Reproducible\n",
    "torch.manual_seed(1)"
   ]
  },
  {
   "cell_type": "markdown",
   "id": "ad6a11ce",
   "metadata": {},
   "source": [
    "### Check whether the GPU is available"
   ]
  },
  {
   "cell_type": "code",
   "execution_count": 116,
   "id": "570fcf1f",
   "metadata": {},
   "outputs": [
    {
     "name": "stdout",
     "output_type": "stream",
     "text": [
      "cuda:0\n"
     ]
    }
   ],
   "source": [
    "device = torch.device(\"cuda:0\" if torch.cuda.is_available() else \"cpu\")\n",
    "print(device)"
   ]
  },
  {
   "cell_type": "code",
   "execution_count": 117,
   "id": "be20de9e-8b63-4f17-b347-d91dc1b83e4a",
   "metadata": {},
   "outputs": [],
   "source": [
    "class RegressionDataset(Dataset):\n",
    "    def __init__(self, x_data, y_data):\n",
    "        self.x_data = x_data\n",
    "        self.y_data = y_data\n",
    "    \n",
    "    def __getitem__(self, index):\n",
    "        return self.x_data[index], self.y_data[index]\n",
    "    \n",
    "    def __len__(self):\n",
    "        return len(self.x_data)"
   ]
  },
  {
   "cell_type": "code",
   "execution_count": 118,
   "id": "b72d4bb6-c5cf-43f7-9694-5a28e6800f1d",
   "metadata": {},
   "outputs": [],
   "source": [
    "train_dataset = RegressionDataset(torch.from_numpy(X_train).float(),\n",
    "                                 torch.from_numpy(y_train).float())\n",
    "test_dataset = RegressionDataset(torch.from_numpy(X_test).float(),\n",
    "                                torch.from_numpy(y_test).float())\n",
    "val_dataset = RegressionDataset(torch.from_numpy(X_val).float(),\n",
    "                               torch.from_numpy(y_val).float())"
   ]
  },
  {
   "cell_type": "markdown",
   "id": "70a908cc",
   "metadata": {},
   "source": [
    "### Build the feedforward neural network"
   ]
  },
  {
   "cell_type": "code",
   "execution_count": 119,
   "id": "f6b414c1-d7be-4044-8eb1-741b08bbe2a1",
   "metadata": {},
   "outputs": [],
   "source": [
    "class MultipleRegression(nn.Module):\n",
    "    def __init__(self, num_features):\n",
    "        super(MultipleRegression, self).__init__()\n",
    "        self.fc1 = nn.Linear(num_features, 64)\n",
    "        self.fc2 = nn.Linear(64, 128)\n",
    "        self.fc3 = nn.Linear(128, 64)\n",
    "        self.output = nn.Linear(64, 1)\n",
    "        \n",
    "        self.relu = nn.ReLU()\n",
    "    \n",
    "    def forward(self, inputs):\n",
    "        x = self.relu(self.fc1(inputs))\n",
    "        x = self.relu(self.fc2(x))\n",
    "        x = self.relu(self.fc3(x))\n",
    "        x = self.output(x)\n",
    "        \n",
    "        return x\n",
    "    \n",
    "    def predict(self, test_inputs):\n",
    "        x = self.relu(self.fc1(test_inputs))\n",
    "        x = self.relu(self.fc2(x))\n",
    "        x = self.relu(self.fc3(x))\n",
    "        x = self.output(x)\n",
    "        \n",
    "        return x\n",
    "        \n",
    "        "
   ]
  },
  {
   "cell_type": "code",
   "execution_count": 120,
   "id": "daa2e008-c244-4e0f-bce5-461688252fc1",
   "metadata": {},
   "outputs": [],
   "source": [
    "EPOCHS = 150\n",
    "BATCH_SIZE = 16\n",
    "LEARNING_RATE = 0.001\n",
    "NUM_FEATURES = len(x.columns)"
   ]
  },
  {
   "cell_type": "code",
   "execution_count": 121,
   "id": "cbcbfaf6-52ea-4fca-91f8-2e73d8449dbb",
   "metadata": {},
   "outputs": [],
   "source": [
    "train_loader = DataLoader(dataset=train_dataset, batch_size=BATCH_SIZE, shuffle=True)\n",
    "val_loader = DataLoader(dataset=val_dataset, batch_size=1)\n",
    "test_loader = DataLoader(dataset=test_dataset, batch_size=1)"
   ]
  },
  {
   "cell_type": "code",
   "execution_count": 122,
   "id": "f9ddb3a2-59b3-48a9-8161-b000d6798f54",
   "metadata": {},
   "outputs": [
    {
     "name": "stdout",
     "output_type": "stream",
     "text": [
      "MultipleRegression(\n",
      "  (fc1): Linear(in_features=3, out_features=64, bias=True)\n",
      "  (fc2): Linear(in_features=64, out_features=128, bias=True)\n",
      "  (fc3): Linear(in_features=128, out_features=64, bias=True)\n",
      "  (output): Linear(in_features=64, out_features=1, bias=True)\n",
      "  (relu): ReLU()\n",
      ")\n"
     ]
    }
   ],
   "source": [
    "model = MultipleRegression(NUM_FEATURES)\n",
    "model.to(device)\n",
    "\n",
    "print(model)\n",
    "\n",
    "criterion = nn.MSELoss()\n",
    "optimizer = optim.Adam(model.parameters(), lr = LEARNING_RATE)"
   ]
  },
  {
   "cell_type": "code",
   "execution_count": 123,
   "id": "769e1ada-e089-4f67-b8a2-a5b673e5f3b6",
   "metadata": {},
   "outputs": [],
   "source": [
    "# Define a dictionary which will store the loss / epoch for both train and validation sets\n",
    "loss_stats = {\n",
    "    'train':[],\n",
    "    'val':[]\n",
    "}"
   ]
  },
  {
   "cell_type": "markdown",
   "id": "b53da8ba",
   "metadata": {},
   "source": [
    "### Train the network"
   ]
  },
  {
   "cell_type": "code",
   "execution_count": 125,
   "id": "8781069c",
   "metadata": {},
   "outputs": [
    {
     "name": "stdout",
     "output_type": "stream",
     "text": [
      "=========Begin Training=========\n"
     ]
    },
    {
     "data": {
      "application/vnd.jupyter.widget-view+json": {
       "model_id": "ffa9f95e69874343abf0244ee22c1bcf",
       "version_major": 2,
       "version_minor": 0
      },
      "text/plain": [
       "  0%|          | 0/150 [00:00<?, ?it/s]"
      ]
     },
     "metadata": {},
     "output_type": "display_data"
    }
   ],
   "source": [
    "print('=========Begin Training=========')\n",
    "for e in tqdm(range(1, EPOCHS+1)):\n",
    "    \n",
    "    #TRAINING\n",
    "    train_epoch_loss = 0\n",
    "    model.train()\n",
    "    \n",
    "    for X_train_batch, y_train_batch in train_loader:\n",
    "        X_train_batch, y_train_batch = X_train_batch.to(device), y_train_batch.to(device)\n",
    "        optimizer.zero_grad()\n",
    "        \n",
    "        y_train_pred = model(X_train_batch)\n",
    "        \n",
    "        train_loss = criterion(y_train_pred, y_train_batch.unsqueeze(1))\n",
    "        \n",
    "        train_loss.backward()\n",
    "        optimizer.step()\n",
    "        \n",
    "        train_epoch_loss += train_loss.item()\n",
    "    \n",
    "    #VALIDATION\n",
    "    with torch.no_grad():\n",
    "        \n",
    "        val_epoch_loss = 0\n",
    "        \n",
    "        model.eval()\n",
    "        for X_val_batch, y_val_batch in val_loader:\n",
    "            X_val_batch, y_val_batch = X_val_batch.to(device), y_val_batch.to(device)\n",
    "            \n",
    "            y_val_pred = model(X_val_batch)\n",
    "            \n",
    "            val_loss = criterion(y_val_pred, y_val_batch.unsqueeze(1))\n",
    "            \n",
    "            val_epoch_loss += val_loss.item()\n",
    "            \n",
    "    loss_stats['train'].append(train_epoch_loss / len(train_loader))\n",
    "    loss_stats['val'].append(val_epoch_loss / len(val_loader))\n",
    "    \n",
    "#     print(f'Epoch {e+0:03}: | Train Loss: {train_epoch_loss/len(train_loader):.5f} | Val Loss: {val_epoch_loss/len(val_loader):.5f}')\n",
    "    \n",
    "    "
   ]
  },
  {
   "cell_type": "markdown",
   "id": "bb69f83d-0464-49bb-a32f-b73e1ef0e17b",
   "metadata": {},
   "source": [
    "### Post processing\n",
    "1. Vsiualize loss and accuracy\n",
    "2. Test trained model"
   ]
  },
  {
   "cell_type": "code",
   "execution_count": 86,
   "id": "3c1a58b7-8a54-4cff-a3c4-a3ebc18ddc13",
   "metadata": {},
   "outputs": [
    {
     "data": {
      "text/plain": [
       "Text(0.5, 1.0, 'Train-Val Loss/Epoch')"
      ]
     },
     "execution_count": 86,
     "metadata": {},
     "output_type": "execute_result"
    },
    {
     "data": {
      "image/png": "[encoded data removed]",
      "text/plain": [
       "<Figure size 1080x576 with 1 Axes>"
      ]
     },
     "metadata": {
      "needs_background": "light"
     },
     "output_type": "display_data"
    }
   ],
   "source": [
    "train_val_loss_df = pd.DataFrame.from_dict(loss_stats).reset_index().melt(id_vars=['index']).rename(columns={\"index\":\"epochs\"})\n",
    "plt.figure(figsize=(15,8))\n",
    "sns.lineplot(data=train_val_loss_df, x = \"epochs\", y=\"value\", hue=\"variable\").set_title('Train-Val Loss/Epoch')"
   ]
  },
  {
   "cell_type": "code",
   "execution_count": 87,
   "id": "84433825-4df5-4452-a367-e854d6cffd42",
   "metadata": {},
   "outputs": [],
   "source": [
    "y_pred_list = []\n",
    "\n",
    "with torch.no_grad():\n",
    "    model.eval()\n",
    "    for X_batch, _ in test_loader:\n",
    "        X_batch = X_batch.to(device)\n",
    "        y_test_pred = model(X_batch)\n",
    "        y_pred_list.append(y_test_pred.cpu().numpy())"
   ]
  },
  {
   "cell_type": "code",
   "execution_count": 88,
   "id": "3e570b69-85dd-4ae4-93f2-5945d19d083c",
   "metadata": {},
   "outputs": [],
   "source": [
    "y_pred_list = [a.squeeze().tolist() for a in y_pred_list]"
   ]
  },
  {
   "cell_type": "code",
   "execution_count": 89,
   "id": "6a35e059-ee8a-4982-906a-ddf40b1eb72b",
   "metadata": {},
   "outputs": [
    {
     "name": "stdout",
     "output_type": "stream",
     "text": [
      "Mean Squared Error : 0.0004469420216682099\n",
      "R^2 : 0.9999142725855602\n"
     ]
    }
   ],
   "source": [
    "mse = mean_squared_error(y_test, y_pred_list)\n",
    "r_square = r2_score(y_test, y_pred_list)\n",
    "\n",
    "print(\"Mean Squared Error :\",mse)\n",
    "print(\"R^2 :\",r_square)"
   ]
  },
  {
   "cell_type": "code",
   "execution_count": null,
   "id": "27e17b7e-7c91-4b94-a3bc-14f2ab8b76bd",
   "metadata": {},
   "outputs": [],
   "source": []
  }
 ],
 "metadata": {
  "kernelspec": {
   "display_name": "Python 3",
   "language": "python",
   "name": "python3"
  },
  "language_info": {
   "codemirror_mode": {
    "name": "ipython",
    "version": 3
   },
   "file_extension": ".py",
   "mimetype": "text/x-python",
   "name": "python",
   "nbconvert_exporter": "python",
   "pygments_lexer": "ipython3",
   "version": "3.9.5"
  }
 },
 "nbformat": 4,
 "nbformat_minor": 5
}
