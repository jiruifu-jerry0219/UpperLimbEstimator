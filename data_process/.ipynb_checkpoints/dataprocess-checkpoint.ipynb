{
 "cells": [
  {
   "cell_type": "code",
   "execution_count": 3,
   "id": "85a66cb1",
   "metadata": {},
   "outputs": [
    {
     "ename": "ModuleNotFoundError",
     "evalue": "No module named 'getFeaturesTD'",
     "output_type": "error",
     "traceback": [
      "\u001b[1;31m---------------------------------------------------------------------------\u001b[0m",
      "\u001b[1;31mModuleNotFoundError\u001b[0m                       Traceback (most recent call last)",
      "\u001b[1;32m<ipython-input-3-b5ee5a96181a>\u001b[0m in \u001b[0;36m<module>\u001b[1;34m\u001b[0m\n\u001b[0;32m     14\u001b[0m \u001b[1;33m\u001b[0m\u001b[0m\n\u001b[0;32m     15\u001b[0m \u001b[1;32mfrom\u001b[0m \u001b[0mutils\u001b[0m\u001b[1;33m.\u001b[0m\u001b[0mbutterworth\u001b[0m \u001b[1;32mimport\u001b[0m \u001b[0mband_pass\u001b[0m\u001b[1;33m,\u001b[0m \u001b[0mlow_pass\u001b[0m\u001b[1;33m,\u001b[0m \u001b[0mhigh_pass\u001b[0m\u001b[1;33m,\u001b[0m \u001b[0mband_stop\u001b[0m\u001b[1;33m\u001b[0m\u001b[1;33m\u001b[0m\u001b[0m\n\u001b[1;32m---> 16\u001b[1;33m \u001b[1;32mfrom\u001b[0m \u001b[0mutils\u001b[0m\u001b[1;33m.\u001b[0m\u001b[0mutils\u001b[0m \u001b[1;32mimport\u001b[0m \u001b[0mfull_wave_rectify\u001b[0m\u001b[1;33m,\u001b[0m \u001b[0mplot_signal_one\u001b[0m\u001b[1;33m,\u001b[0m \u001b[0mplot_multiple\u001b[0m\u001b[1;33m\u001b[0m\u001b[1;33m\u001b[0m\u001b[0m\n\u001b[0m\u001b[0;32m     17\u001b[0m \u001b[1;31m# from utils.utils import getEMGfeatures, toDataframe, normalization\u001b[0m\u001b[1;33m\u001b[0m\u001b[1;33m\u001b[0m\u001b[1;33m\u001b[0m\u001b[0m\n",
      "\u001b[1;32mD:\\GitHub\\UpperLimbEstimator\\data_process\\utils\\utils.py\u001b[0m in \u001b[0;36m<module>\u001b[1;34m\u001b[0m\n\u001b[0;32m      8\u001b[0m \u001b[1;32mimport\u001b[0m \u001b[0mseaborn\u001b[0m\u001b[1;33m\u001b[0m\u001b[1;33m\u001b[0m\u001b[0m\n\u001b[0;32m      9\u001b[0m \u001b[1;33m\u001b[0m\u001b[0m\n\u001b[1;32m---> 10\u001b[1;33m \u001b[1;32mfrom\u001b[0m \u001b[0mgetFeaturesTD\u001b[0m \u001b[1;32mimport\u001b[0m \u001b[0mgetfeaturesTD\u001b[0m \u001b[1;32mas\u001b[0m \u001b[0mF\u001b[0m\u001b[1;33m\u001b[0m\u001b[1;33m\u001b[0m\u001b[0m\n\u001b[0m\u001b[0;32m     11\u001b[0m \u001b[1;33m\u001b[0m\u001b[0m\n\u001b[0;32m     12\u001b[0m \u001b[1;32mimport\u001b[0m \u001b[0mpandas\u001b[0m \u001b[1;32mas\u001b[0m \u001b[0mpd\u001b[0m\u001b[1;33m\u001b[0m\u001b[1;33m\u001b[0m\u001b[0m\n",
      "\u001b[1;31mModuleNotFoundError\u001b[0m: No module named 'getFeaturesTD'"
     ]
    }
   ],
   "source": [
    "import os\n",
    "import glob\n",
    "\n",
    "import numpy as np\n",
    "import pandas as pd\n",
    "import matplotlib.pyplot as plt\n",
    "import seaborn\n",
    "\n",
    "import scipy\n",
    "from scipy import signal\n",
    "from scipy.signal import freqz\n",
    "\n",
    "import math\n",
    "\n",
    "from utils.butterworth import band_pass, low_pass, high_pass, band_stop\n",
    "from utils.utils import full_wave_rectify, plot_signal_one, plot_multiple\n",
    "# from utils.utils import getEMGfeatures, toDataframe, normalization"
   ]
  },
  {
   "cell_type": "code",
   "execution_count": 1,
   "id": "1a405fb5",
   "metadata": {},
   "outputs": [
    {
     "ename": "NameError",
     "evalue": "name 'glob' is not defined",
     "output_type": "error",
     "traceback": [
      "\u001b[1;31m---------------------------------------------------------------------------\u001b[0m",
      "\u001b[1;31mNameError\u001b[0m                                 Traceback (most recent call last)",
      "\u001b[1;32m<ipython-input-1-2477826648a1>\u001b[0m in \u001b[0;36m<module>\u001b[1;34m\u001b[0m\n\u001b[0;32m      8\u001b[0m \u001b[1;31m# pathEmg = r'/home/jerry/GitHub/EMG_regressive_model/data_process/raw_data/type2/emg'\u001b[0m\u001b[1;33m\u001b[0m\u001b[1;33m\u001b[0m\u001b[1;33m\u001b[0m\u001b[0m\n\u001b[0;32m      9\u001b[0m \u001b[1;33m\u001b[0m\u001b[0m\n\u001b[1;32m---> 10\u001b[1;33m \u001b[0memg_files\u001b[0m \u001b[1;33m=\u001b[0m \u001b[0mglob\u001b[0m\u001b[1;33m.\u001b[0m\u001b[0mglob\u001b[0m\u001b[1;33m(\u001b[0m\u001b[0mpathEmg\u001b[0m\u001b[1;33m+\u001b[0m\u001b[1;34m'/*.csv'\u001b[0m\u001b[1;33m)\u001b[0m\u001b[1;33m\u001b[0m\u001b[1;33m\u001b[0m\u001b[0m\n\u001b[0m\u001b[0;32m     11\u001b[0m \u001b[0mdfList\u001b[0m \u001b[1;33m=\u001b[0m \u001b[1;33m[\u001b[0m\u001b[1;33m]\u001b[0m\u001b[1;33m\u001b[0m\u001b[1;33m\u001b[0m\u001b[0m\n\u001b[0;32m     12\u001b[0m \u001b[1;33m\u001b[0m\u001b[0m\n",
      "\u001b[1;31mNameError\u001b[0m: name 'glob' is not defined"
     ]
    }
   ],
   "source": [
    "# Setup the parameters of signal\n",
    "f = 2000\n",
    "\n",
    "\n",
    "# path = r'/home/jerry/GitHub/EMG_regressive_model/data_process/raw_data'\n",
    "# path = r'D:/GitHub/EMG_regressive_model/data_process/raw_data'\n",
    "pathEmg = r'D:/GitHub/UpperLimbEstimator/data_process/raw_data/type2'\n",
    "# pathEmg = r'/home/jerry/GitHub/EMG_regressive_model/data_process/raw_data/type2/emg'\n",
    "\n",
    "emg_files = glob.glob(pathEmg+'/*.csv')\n",
    "dfList = []\n",
    "\n",
    "for filename in emg_files:\n",
    "    headers = [*pd.read_csv(filename, nrows  = 1)]\n",
    "    df = pd.read_csv(filename, usecols=[c for c in headers if c != 'time'])\n",
    "    dfList.append(df)\n",
    "\n",
    "#Concatenate individual column dataframes into one data frame (don't forget axis)\n",
    "# emgData = pd.concat(dfList, axis = 1)\n",
    "\n",
    "# pathElbow = r'/home/jerry/GitHub/EMG_regressive_model/data_process/raw_data/type2/kin'\n",
    "# imu_files = glob.glob(pathElbow+'/*.csv')\n",
    "\n",
    "# dfList2 = []\n",
    "\n",
    "# for filename in imu_files:\n",
    "#     headers = [*pd.read_csv(filename, nrows  = 1)]\n",
    "#     df = pd.read_csv(filename, usecols=[c for c in headers if c != 'time'])\n",
    "#     dfList2.append(df)\n",
    "#Concatenate individual column dataframes into one data frame (don't forget axis)\n",
    "# angleData = pd.concat(dfList2, axis = 1)\n",
    "# angle = angleData.to_numpy()\n",
    "# angle = angle[:, 0]\n",
    "# notch = band_stop(angle, fs = 200, fh = 9, fl = 10, order = 4)\n",
    "# imu_filter = low_pass(notch, fs = 200, low_pass = 2, order = 2)\n",
    "# imu = np.reshape(imu_filter, (-1, 1))\n",
    "# normImu = normalization(imu)\n",
    "# print(normImu.shape)\n",
    "\n",
    "\n",
    "#Convert the dataframe to numpy array\n",
    "emg = emgData.to_numpy()\n",
    "time = np.array([i/f for i in range(0, len(emg), 1)]) # sampling rate 2000 Hz\n",
    "mean = np.mean(emg, axis = 0)\n",
    "emgAvg = emg - mean\n",
    "emgSize = emgAvg.shape\n",
    "\n",
    "bpEmg = np.zeros(emgSize)\n",
    "\n",
    "for i in range(emgSize[-1]):\n",
    "    input = emgAvg[:, i]\n",
    "    iuput = input.T\n",
    "    notch = band_stop(input, fs = f, fh = 2, fl = 20, order = 2)\n",
    "    bandpass = low_pass(notch ,fs = f, low_pass = 20, order = 4)\n",
    "    bpEmg[:, i] = bandpass\n",
    "\n",
    "# erform the full wave rectification\n",
    "rectEmg = full_wave_rectify(bpEmg)\n",
    "fig, ax = plt.subplots()\n",
    "# Plot \"true\" linear fit.\n",
    "sns.lineplot(x=time, y=rectEmg, color='red', label='EMG', ax=ax)\n",
    "# # Plot prediction. \n",
    "# sns.lineplot(x=x_star, y=y_pred, color='green', label='pred', ax=ax)\n",
    "ax.set(title=f'Prediction GaussianProcessRegressor, sigma_f = {sigma_f} and l = {l}')\n",
    "# ax.legend(loc='upper right');      \n",
    "\n",
    "# print(rectEmg.shape)\n",
    "\n",
    "# #Feature extraction\n",
    "# emgFeatures = getEMGfeatures(rectEmg, 10, 10)\n",
    "# emgNorm = normalization(emgFeatures)\n",
    "# print(emgNorm.shape)\n",
    "\n",
    "# #Concatenate emg data and elbow data\n",
    "# dataset = np.hstack((emgNorm, normImu))\n",
    "# print(dataset.shape)\n",
    "\n",
    "# a = ['ch '+ str(x) for x in range(1, 16)]\n",
    "# a.append('angle')\n",
    "# dfFeatures = toDataframe(dataset,\n",
    "#         head = a,\n",
    "#         save = True,\n",
    "#         path = r'/home/jerry/GitHub/EMG_regressive_model/data_process/data/export.csv')\n"
   ]
  },
  {
   "cell_type": "code",
   "execution_count": null,
   "id": "5e81d180-8eb2-49d2-91fd-554fc8183b2d",
   "metadata": {},
   "outputs": [],
   "source": []
  }
 ],
 "metadata": {
  "kernelspec": {
   "display_name": "Python 3",
   "language": "python",
   "name": "python3"
  },
  "language_info": {
   "codemirror_mode": {
    "name": "ipython",
    "version": 3
   },
   "file_extension": ".py",
   "mimetype": "text/x-python",
   "name": "python",
   "nbconvert_exporter": "python",
   "pygments_lexer": "ipython3",
   "version": "3.9.5"
  }
 },
 "nbformat": 4,
 "nbformat_minor": 5
}
