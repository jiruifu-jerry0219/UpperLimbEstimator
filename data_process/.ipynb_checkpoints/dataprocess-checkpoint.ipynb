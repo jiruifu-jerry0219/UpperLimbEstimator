{
 "cells": [
  {
   "cell_type": "code",
<<<<<<< HEAD
   "execution_count": 5,
=======
   "execution_count": 14,
>>>>>>> beaf67d98e8c06b12d56da99c1c62a80a595da8c
   "id": "85a66cb1",
   "metadata": {},
   "outputs": [],
   "source": [
    "import os\n",
    "import glob\n",
    "\n",
    "import numpy as np\n",
    "import pandas as pd\n",
    "import matplotlib.pyplot as plt\n",
    "import seaborn as sns\n",
    "\n",
    "import scipy\n",
    "from scipy import signal\n",
    "from scipy.signal import freqz\n",
    "\n",
    "import math\n",
    "\n",
<<<<<<< HEAD
    "from butterworth import band_pass, low_pass, high_pass, band_stop\n",
    "from utils import full_wave_rectify, plot_signal_one, plot_multiple\n",
    "from utils import getEMGfeatures, toDataframe, normalization"
=======
    "from utils.butterworth import band_pass, low_pass, high_pass, band_stop\n",
    "from utils.utils import full_wave_rectify, plot_signal_one, plot_multiple\n",
    "from utils.utils import getEMGfeatures, toDataframe, normalization"
>>>>>>> beaf67d98e8c06b12d56da99c1c62a80a595da8c
   ]
  },
  {
   "cell_type": "code",
<<<<<<< HEAD
   "execution_count": 10,
   "id": "1a405fb5",
   "metadata": {},
   "outputs": [],
=======
   "execution_count": 19,
   "id": "1a405fb5",
   "metadata": {},
   "outputs": [
    {
     "data": {
      "text/plain": [
       "[Text(0.5, 1.0, 'Prediction GaussianProcessRegressor')]"
      ]
     },
     "execution_count": 19,
     "metadata": {},
     "output_type": "execute_result"
    },
    {
     "data": {
      "image/png": "iVBORw0KGgoAAAANSUhEUgAAAX8AAAEICAYAAAC3Y/QeAAAAOXRFWHRTb2Z0d2FyZQBNYXRwbG90bGliIHZlcnNpb24zLjQuMiwgaHR0cHM6Ly9tYXRwbG90bGliLm9yZy8rg+JYAAAACXBIWXMAAAsTAAALEwEAmpwYAAA2QUlEQVR4nO2debgUxbXAf0dAQUURIagsgoCyqCFyo5IgomgEN9zFaNTEQOIWTUyCuEeDGp9xezEmaNwXHgliiEFRXIK7XhVZRATcuCiLICIqhOW8P6rb23fuzNxZuqd7Zs7v++brnuruqlO9nK4+VXWOqCqGYRhGdbFZ3AIYhmEYpceUv2EYRhViyt8wDKMKMeVvGIZRhZjyNwzDqEJM+RuGYVQhpvyrABG5W0R+763vJyLzCsznLyJyabjSJRMROVlEnohbDsOIClP+CUFEPhCRr0VkjYgs9RT21mGXo6rPqepuOchzuog8n3Lsz1X1qrBl8srrKSLjRWS5iKwWkfki8r8i0imK8ppCVR9Q1R+EkVeprm2YeNd/oyfzahF5S0QOj1suIzxM+SeLI1R1a2AvoAa4JHUHEWlecqkiRkR6AK8AHwPfUdVtgO8DC4GBccoWIuV4bV/yZG4D/BkYLyJtwi5ERJqFnWee5SftvJcEU/4JRFUXA48BuwOIiIrI2SIyH5jvpR0uIjNEZJWIvCgie/rHi8h3ROQNEflCRP4PaBnYNlhE6gL/O4vIw16Le4WI/ElEegN/AQZ4Lb9V3r7fmI+8/yNFZIGIrBSRySKyU2CbisjPvRb8KhG5VUQkQ5WvAF5Q1V+pap13Dpap6k2qOt7LbzsRedST8zNv/ZuvAq91fVDg/xUicr+33lJE7vfqt0pEXhORDt6200XkPe9cvS8iJwfSnw/kd7OILPJawa+LyH4pZU0QkXu9fOaISE0R1zbbee0rIk9625aKyEVe+mYicqGILPTqOUFE2hZa/xSZNwH3AVsBPb3jthCR60XkI0+Ov4hIq4CcvxWRT0TkYxH5qVfPHt62u0XkNhGZIiJfAgeIyE4iMtG7vu+LyC8Cee0tIrXeuV8qIjfkUK+dvHO30juXI1Ou1z+8Y1cDp6e7VpWOKf8EIiKdgUOBNwPJRwH7AH1E5DvAncDPgO2BvwKTvQdyc+AR3MPaFvg7cGyGcpoBjwIfAl2BjsB4VZ0L/Byv5aeqbdIceyBwDXACsKOXx/iU3Q4Hvgvs6e13SIYqHwRMzLDNZzPgLmBnoAvwNfCnJo7xOQ3YFuiMO18/B74Wka2AW4Bhqtoa+B4wI0MerwH9cOf0QeDvItIysP1IXP3bAJMzyZbDtc14XkWkNTANeBzYCegBPOXlca6Xz/7ets+AW8Oov3ef/BhY78kDcC2wq3dOeuDuncu8/YcCv8Jd1x7A4DSn4ofAWKA18CLwL+AtL58hwPki4t8vNwM3e1+E3YEJ2erlbRsP1Hnn4jjgau/c+gwH/oG7Xg+kka/yUVX7JeAHfACsAVbhHrA/A628bQocGNj3NuCqlOPn4R78QTjziQS2vQj83lsfDNR56wOA5UDzNPKcDjyfknZ3IJ+/AdcFtm2NUw5dAzIPDGyfAFyYoe4bgKGB/+d452ENcHuGY/oBn6Wcv4MC/68A7vfWf+Kdgz1T8tjKK+dY/1xnq3/K9s+AbwfKmhbY1gf4usBrm/G8AicBb2aQZy4wJPB/R++45kXUf4O3fT1OqZ7gbRPgS6B7YP8BwPve+p3ANYFtPbx69gjcR/cGtu8DfJRS/hjgLm99OvA7oF3KPpnq1RnYCLQOpF0D3B24XtNL9Wwn9Wct/2RxlKq2UdWdVfUsVf06sG1RYH1n4ALvU3eVOLNMZ1wrZydgsXp3uceHpKcz8KGqbihA1p2C+arqGmAFruXmsySw/hVOkaVjBU5Z+Xn9Sd3Xxk1ACwAR2VJE/ioiH3qf6tOBNpKbvfg+YCrOZv2xiFwnIi1U9UvgRFyL8RMR+beI9EqXgYj8WkTmisjn3vneFmiXpa4tpaEtOddrm+28dsb1g6RjZ2BS4H6Yi1OAHYqo/8veddgO9zXjm7raA1sCrwfKe9xL9+sQrFNwPV3azsBOKffzRZ7sAGfgvjLe8Uw7fsdz2np55a9U1S8CZXxIw3sznUxVhSn/8iGozBcBYz1l4v+2VNWHgE+AjiIN7OtdMuS5COgi6Tu8mnL3+jHuoQXAMyFsDyxuqiJpeAo4pol9LgB2A/ZR9/k/yC/aW36JU0g+O/grqrpeVX+nqn1wpo3DgVO9bVNV9WDcy+cd4PbUgsXZ93+LM8Vs5ynEzwNlF0vwXGc7r4uAXTLksQhnvgneEy1VdXGx9fdeQGcCP/JMjp/ivgT6BsraVl3nMLh7MDhKq3MTdV6E+2oIyt5aVQ/1yp+vqicB3wL+APxDRLbKUq+PgbaemcynCw3vzap3Z2zKvzy5Hfi5iOwjjq1E5DDvZn8J97n+CxFpISLHAHtnyOdV3IN6rZdHSxH5vrdtKdDJ60NIx0PAj0Wkn4hsAVwNvKKqHxRQnyuA/UTkBhHpCCAi7YDegX1a4xTOKnEdmZen5DEDGOHVuQZn58XL6wAR2cP7SliNM2NsEpEOIjLcU7DrcKaZTWnka407p8uB5iJyGbBNAfXMhWzn9VFgRxE53+vfaS0i+3jH/QUYKyI7e3VuLyLDQ6o/qroSuAO4TF0H8O3AjSLyLa+MjgEb/QSvDr1FZEugqbkhrwJfiMhoEWklIs1EZHcR+a6X9yki0t4rd5V3zKZM9VLVRThz0DXePb0n7uvh/ibkqCpM+ZchqloLjMR1Kn4GLMAbsaCq/8W1ok8HVuI+6x/OkM9G4AicTfYjXAfZid7mp4E5wBIR+TTNsdNwD/VE3AukOzCiwPq8i7P7dgLeEpEvgBdwLThfcdwEtMK1Ol/GmRmCXOrJ8BnOPvxgYNsOuM691ThzyH9wJoPNcB2TH+PO1f64Fm4qU73y3sWZD9YSkdkg23n1zBgH467ZEtzooAO8Q2/GmWae8M7fy7hzCsXX3+cm4FBPmY7G3Xcve2a4abgvM1T1MVxH8jP+Pt7x6zLUeSOu1d4PeB93je/AmdYAhgJzRGSNV88RntksU73A9Y909eo2CbjcO7eGhzQ0DRuGYYSLuKHDs4EtCuxfMiLAWv6GYYSOiBztmaa2w9np/2WKP1mY8jcMIwp+BizDjU7aSHZzkhEDZvYxDMOoQqzlbxiGUYWUjUOjdu3aadeuXeMWwzAMo2x4/fXXP1XV9um2lY3y79q1K7W1tXGLYRiGUTaISKbZ/Wb2MQzDqEZM+RuGYVQhpvwNwzCqkLKx+RuGYRTC+vXrqaurY+3atXGLEhktW7akU6dOtGjRIudjTPkbhlHR1NXV0bp1a7p27YpkDCZXvqgqK1asoK6ujm7duuV8XNFmH3FhAJ8RkbfFha87z0tvKy7c3HxvuZ2XLiJyi7jQajNFZK9iZTAMw8jE2rVr2X777StS8QOICNtvv33eXzZh2Pw3ABd4PrX3Bc4WkT7AhcBTqtoT56/9Qm//Ybg4oD2BUbioVIZhGJFRqYrfp5D6Fa38VfUTVX3DW/8C51q1Iy5G5j3ebvfg4ovipd+rjpdx0Zh2xDBSmTcPnnkmbikMoyIJdbSPiHQFvgO8AnRQ1U+8TUuoD8nWkYa+0OtoGF4tmN8oEakVkdrly5eHKapRDvTqBQce2PR+hpFwmjVrRr9+/b75XXvttQAMHjyYLl26EPSxdtRRR7H11vURT+fPn8/hhx9O9+7d6d+/PwcccADTp08vWqbQOnxFZGtcAIrzVXV18DNEVVVE8vYgp6rjgHEANTU15oHOMIyypFWrVsyYMSPttjZt2vDCCy8wcOBAVq1axSeffPLNtrVr13LYYYdx/fXXc+SRRwIwe/ZsamtrGTRoUNr8ciWUlr8XNHki8ICq+lGjlvrmHG+5zEtfTMOYnp0oLO6rYRhG2TNixAjGjx8PwMMPP8wxx9SHs37ggQcYMGDAN4ofYPfdd+f0008vutyiW/5eoPC/AXNV9YbApsnAacC13vKfgfRzRGQ8Lszc5wHzkGEYRnScfz5kaIEXTL9+cNNNWXf5+uuv6dev3zf/x4wZw4knuoipQ4YMYeTIkWzcuJHx48czbtw4rrrqKgDmzJnDXntFMyAyDLPP94EfAbNEZIaXdhFO6U8QkTNwcU9P8LZNAQ7Fxfb8CvhxCDIYhmEklmxmn2bNmjFw4EDGjx/P119/TTbvxUcffTTz589n11135eGH04bmzpmilb+qPg9kGmc0JM3+CpxdbLmGYRh500QLPS5GjBjB0UcfzRVXXNEgvW/fvg06dydNmkRtbS2//vWviy7TfPsYhmHEzH777ceYMWM46aSTGqT/8Ic/5IUXXmDy5MnfpH311VehlGnuHQzDMCIm1eY/dOjQb4Z7gpukla4136pVKx599FF+9atfcf7559OhQwdat27NJZdcUrRMpvwNwzAiZuPGjWnTn3322bTpa9as+Wa9V69eTJkyJXSZzOxjGIZRhZjyNwzDqEJM+RuGUfEE3SdUIoXUz5S/YRgVTcuWLVmxYkXFvgB8f/4tW7bM6zjr8DUMo6Lp1KkTdXV1VLJzSD+SVz6Y8jcMo6Jp0aJFXhGuqgUz+xiGYVQhpvwNwzCqEFP+hmEYVYgpf8MwjCrElL9hGEYVYsrfMAyjCjHlbxiGUYWY8jcMw6hCTPkbhmFUIab8DcMwqhBT/oZhGFVIKMpfRO4UkWUiMjuQdoWILBaRGd7v0MC2MSKyQETmicghYchgGIZh5E5YLf+7gaFp0m9U1X7ebwqAiPQBRgB9vWP+LCLNQpLDMAzDyIFQlL+qTgdW5rj7cGC8qq5T1feBBcDeYchhGIZh5EbUNv9zRGSmZxbazkvrCCwK7FPnpTVCREaJSK2I1FayL27DMIxSE6Xyvw3oDvQDPgH+mG8GqjpOVWtUtaZ9+/Yhi2cYhlG9RKb8VXWpqm5U1U3A7dSbdhYDnQO7dvLSDMMwjBIRmfIXkR0Df48G/JFAk4ERIrKFiHQDegKvRiWHYRiG0ZhQwjiKyEPAYKCdiNQBlwODRaQfoMAHwM8AVHWOiEwA3gY2AGer6sYw5DAMwzByQ8olon1NTY3W1tbGLYZRSkTcskzuUcNIGiLyuqrWpNtmM3wNwzCqEFP+hmEYVYgpf8MwjCrElL9hGEYVYsrfMAyjCjHlbxiGUYWY8jcMw6hCTPkbhmFUIab8DcMwqhBT/oZhGFWIKX/DMIwqxJS/YRhGFWLK3zAMowox5W8YhlGFmPI3DMOoQkz5G4ZR/kyb5uI/zJwZtyRlgyl/wzDKn0mT3PK55+KVo4ww5W8Y5cb69bBwYdxSGGWOKX/DKDfOOw969IClS+OWJDnMmuWWFvIzZ0z5G0a58dRTbrlqVaxiJArf3LNkSbxylBGhKH8RuVNElonI7EBaWxF5UkTme8vtvHQRkVtEZIGIzBSRvcKQwTCqBmvdZkYkbgnKhrBa/ncDQ1PSLgSeUtWewFPef4BhQE/vNwq4LSQZDKM68JW/KbpwWboUvvwybilKRijKX1WnAytTkocD93jr9wBHBdLvVcfLQBsR2TEMOQyjqjDlHy477AADBsQtRcmI0ubfQVU/8daXAB289Y7AosB+dV5aI0RklIjUikjt8uXLo5PUMIzKoNgXot9xXAWUpMNXVRXI21CpquNUtUZVa9q3bx+BZEZZMWUKPPFE3FLEj9n8M2NfQznTPMK8l4rIjqr6iWfWWealLwY6B/br5KUZRnYOO8wtTfk53noLevaMW4pksdhUSa5E2fKfDJzmrZ8G/DOQfqo36mdf4POAecgwjKbwX37HHx+vHEnkb3+rHwprZCWsoZ4PAS8Bu4lInYicAVwLHCwi84GDvP8AU4D3gAXA7cBZYchgGIYBwIwZcUtQFoRi9lHVkzJsGpJmXwXODqNcwyiKTZvg+uth1Cho0yZuaYx8+P3voXdvOPbYuCUpW6K0+RtGsnnySRg92o3wuO++uKXJHevzgEsvdUs7FwVj7h2M6mXtWrdcvTpeOSqZ556DO+4obZlXXFHa8soUU/7VwHPPmc+TSiLM1u5zz8Ebb8CaNeHlGWTQIBg5Mpq8wd3X113XMC2qulQYZvapBgYNgh13hI8/jlsSIwzCVP6DBrll797w9tvh5VsqTj4Znn46binKEmv5Vwuf2GjaRsyf75b2VQRz58YtQdO8/z5MngxffFGfZia7grGWv1F9rFgB7drV/3/11fhkMXKnT5/6fhof6/AtGGv5G9XH7NlN72Mkj1TFbxSFKX8jOdx5J6xMdQ6bhjPPhE8/jV6eJPHhh3D++W5uQlit3Tht/B9/DLfe6upTDK+/Ho48Qaqkw9iUf1x8/DFccknxN39TvPxytPmHxZw5cMYZcMopTe/7l7/Ab34TvUxJYOJE+Owz17F5883uen70UTh5H3xwOPnkwuef16+//z507AjnnAPjx5dOhmwE+8RWrIhPjhJiyj8uTj0Vxo6FV16Jtpz/+79o8w8L/5M+17i0Ub80k8BHH8Fxx8GJJ8LGjS6ttrbhPn56IZRSyX3wQfr1pHTYBkfClbIfYc0auOoq2LChdGV6mPKPi6++csuolVilKMnUl2Q1dPT5JrAnn6z/gktV9nfeWXj+69YVfmw5MHt27sOb47qfLr4YLrssli8gU/6Vzi23xC1B8axfD/vum37b3XfD1KklFSdyrr7a+aW/+OKm9x01Knp5oiRKpbvHHtC5c9P7pVLqlj/E8iI25R836YJP1NXBNddUR+s2lXR1zvb18uMfw9DU8NFN8N57+e0fNitXuuv+yCPpt191lVumM4GlOz+ZXozlQNT3eK5fvnE/azGUb8o/iRx7LFx0EbzzTtySlI5sEZjSPRiqcM89jdOz0bkz3HAD/OQn+R0XNnPmuOUf/5h9v3T1Tneeou43CpukR9sKWxEvXOjq7F/3hGDKPy6y3WD+p2Cl2OsLYfLk7Nvvvx9OPz2/POvq4IILChYpdJpSMum2P/dcNLLERdwtbp9FgbDiYcv0j3+45b33Nt4W44vQlH/cRHnxL788uryj5rXX6tdvvDE+OaKgqWvub0+nhCZNSn/Mm286B21B3normnHwhZDk1v5xx1VlXABT/nHzve/BQw81TAur5XHlleHkU0r8ugfPwUUXxSNL2LzzTn6f/vncB3vtBf37N0zr1w9qanLPI0qKuafff7/xi60pJkzIfd+JExv+j/JrZPFiOOKIhv6JYsKUfxK49FI3plvEmTN8ktxaCpvUuub7AI4Z41q/SaZ3b9h999z3j9LslxRndrlc5112afxia4oTT8xtv3SjbK6+Or+ymuLCC+vXL7sMHn00v5dTRJjyj4vgTb/ZZvUtwgceSL9PGPz3v+HmFyX5TrG/9tryHvUSpBQv/V12ib6MIEltyPj2+CB33VV6OUaOLHns4ciVv4h8ICKzRGSGiNR6aW1F5EkRme8tt4tajkSzWcpliOpB2XXXaPKNgrDmJ7zyCixYEE5ehbJxY+YRS3GwaRN8/XX6bQsXwoEHRmuWCN7fcXf4xlW+704ieC4ef7ykIpSq5X+AqvZTVd8AeSHwlKr2BJ7y/lcvQeWvGt0N+eGH0eQbJjNmwH/+E15+++4LPXuGl18hNG/ecHhpri/3qMw+t92WedtFF8Ezz8CUKdGUnUq1Kn8/BnGQ6dNLKkJcZp/hgD9I+x7gqJjkSAapysAPrJHUT+VCOeeczHUKpg8eXFj+2c5XKV98X33VuGV9992N93vxxezeSaNSTHEG9rnyyobmjWJ8E4VB3C+fGCmF8lfgCRF5XUT8uegdVNW/A5cAHUogR7II3nTvvlu/XmkKP8itt8ZX9ogR0eW9bl3DVvpWW0Hbtpn3D177J5+MTq5M5DJXIAylGHRWdthhLs/LL3euqX3GjCm+nCTz/PO571viPqtSKP+BqroXMAw4W0QGBTeqquJeEI0QkVEiUisitcuXLy+BqAHOO690NrjgQxIcfVDoA/j22+lbmtVMVC1MVWjZEs49t2F6tsAjwRFdQZPfsGFulIrv9C+qVmmpzAvr19ev19Wlr08czuWmTav3Jhp1y3+//Rr+z1Zeib9CIlf+qrrYWy4DJgF7A0tFZEcAb7ksw7HjVLVGVWvat28ftagNueUW9zCWCl9ZPPNM8Xn17et83lQb2b6acvmi6tfPxQrIB7/Fn89xwUhizZrVrz/+eMMhgIUog0wO4Vavdl9eueYZxhdoEk0qS5a4OAb+l2DYAW0+/NCdu9S5O7lQ4hn9kSp/EdlKRFr768APgNnAZOA0b7fTgH9GKUciSX0wjjmm8T6VbAJKIm+95aKEhUWmsfTB65o60isMbrihcdrZZ7s+l2efzXzc00/Xr4ehuFPziOtlMGxY/RBqvy/G71e77rpwy5o50y0ffDD9cOXgtb/rroZfiCU+P1EHcO8ATBJX4ebAg6r6uIi8BkwQkTOAD4ETIpYjeQTdFxjRE4V5Yd68hhGqUpkzB3bYoXF60A6cTfkXqgzWrm1oclmzpn6GbDZz1O23F9/gUIU//MEFK2rduvG2fMk0JDUfHn/c/U4+ufi8msKv48qVjesv0vAcpDoYLHHLP1Llr6rvAd9Ok74CGBJl2RXBiSfCUUe5cI9bbBG3NNESRqtn7VpYtgy+9a3G2956q/j8U+nVq/g8gmafVIpRBr/4Rf36AQfkZt4YPx5OKKId9sEH8OqrrhP3X/+Cxx4rPC+fqFrDqtm/gool14h0QSqs5W8Uw+zZ7tesGVxxRcNt77zj3AU88URpY7EmnQ4dCnuIcgkcn410ijqXVnS2lv/8+YXLE+yDCIZ+DKNPKRPdutWvv/hi43OStD6AXILl5Esxday0Dl8jBH73O7dct67+BnnwQbccPjy/+J9JdRMdZv/Gxo0wejT89Ke5HxOlUsxGtpZ/FPzP/2TfHuZ12C5l4n4hyi1MhSji/Or46y++mNtxP/xh/u4wMsmd7fxWUoevkYaNG+GUU/I/7rPP3JDCa65x//1oT19/DTfdlHs+++yTf9m5sH69+9RPAtOmuY68v/0t92OCD6X/Yi2E1AA8TZmboujwDYO//tUtP/205DNPIyXXeQXXXQf+8PKHHnKeRfMhXbS4yZOzK3hr+Vc48+Y1dN6WK34A77vugptvbrjNty8+95xzF5uNoAkgTC67DI48Ep56Kpr888EfyZEPQeVfzMSjoNfOIUPc8NFspF7LpPDss84R4P77u19T5OJR9aWXiharaL780i0/+yz7fqNHw6BB2fcJcscd8PDD2feZOzf7/Btr+Vc4d9xR2HGHHuqWCxY0nCHpc/HF7mb1P2uzcd558MILhcmRiYUL3TKbu4JS8ctf5n+M/3IFWLGisHLfeCP/yWSl8qGTK8FgMSK5j4Pfa6+m9ynEbUdUreFso7R88gmjOnKkCwhTjLym/CscX0mGyccf5+eD/JZbYOBANzLDcATHe/utw2wEXXL45OtzPokE3X4Hv4Y+/9zdZ6UmaZ3EUVJiP0em/EtNFBO3CrVRL14crhzFUE4P+bp1sNtucUsRPcF7tWdP6NixdGWvXw9nnBG/J9pSTrQ05W+UjL/+NRyle+216Setqbo5Cqk2+NTOMNXycvB1/PHh51moqalUBH1rrV8ffRjCZ56BO+905pSkkMuoumLcReQzai8ETPn73H6766AL2n7DZu3a9OaCuJg6Ff4ZgmeNMWPcBJ9Uli2DsWMbz0NIVf4LFzpZksbkyeknAkUxqqmpjuE4yNTqPeII2Gab0siQpC/CNm2adoddzNwBa/nHxKhRzrfJgAHRlXHaaYWNRImSo4/OHE90w4b8P7tHjHCf648/Xt+BtXhxww7m1Cn7SXrAfa67zs2hOOCA0pRXV1eacvIh6IDOZ+rU0ryok3hPfPkl7LRTdH0f1uFbwSQgaHNaMgW7Hj0aunbNfrO/8krjtDvvdM60grNMBw6sX0/9vE3igz56dP3600+7r5hZs+KTJw6+3cgzS0PznD/EOIqYt/49ke7+iptgFK4VK8Iz15jyTwC5fNarujG7qQ7DfvlL97kcNG3MnZt/QPJS84tfOBONiPtt3Fh/HrIN38wWgOLKK9OnB52OlQNDhjg/PnvuGbck8RMcz+87iUt1UBYGSWwQpPLll9CunZvfEgYlNvuYbx9ofKMFL+ZBBzkHVS1aNNzn4Yedz/x33204zNKfbdu9e32+ffrkNlEmTv73fxv+bx64NR5+uLHi27QJ7rmHgggOJ5wwofB8Sok/KShsF8DlzM03w+GHxy1F6fG/hP1O7zAc2EHpQ1qqaln8+vfvr5Hx4IN+2PT0v1mzVF95RfXTT+uPuf12t61PH9WpU+vTg8epqm7alD3vcvntvrtbnn226oYNqn37Fp7XjTemP1/V+qv285COf/87frmy/T7/XPXyy0tzLooAqFVNr1Ot5Q9Nd+CcdZZzndC7d+OhXG+/DYcc4i5dOjKllxt+59+tt0KrVs5XfaGkfkUZRipJf2623TZuCYrGbP7QdIeNH/B67lwXX/Xvf09/c6Y6f3rjjeTfxIVw/fXFHb/55uHIYRiVxBlnuOX06fk7kisAa/lDfra2XXZJH6jh+uvhN79pmNa/f/l1bpaCJUvcfIp7741bkmQwdmzcEsTPBx/AzjvXzy2oxEZTU2zc6Nxo+P2DUZ+DTPagpP0is/l//HG0tsE1a+KxSdrPfuXymznTLa+7rv65nDw5frlK/Tv55Ib/VVVff1111aqC1RtZbP5m9knnITNMtt462vwNo9w56yy3/O1v68e6xxVcJ06Co+DAvQL694ehQyMpTtzLIfnU1NRobRS+6EvpuMkwjOz07OnCQT7xRNySlJ4tt3R9iukoUE+LyOuqWpNuW2wtfxEZKiLzRGSBiFwYlxyGYSSI+fOrU/FDZsUfEbEofxFpBtwKDAP6ACeJSJ9ICnv44fpZqyIubF7wv2EYRhUSV8t/b2CBqr6nqv8FxgPDIynp2GMb/i8TM5dRJZTSR75hBIhL+XcEFgX+13lpDRCRUSJSKyK1y4P+xA2jUkhSQB2jqkj0aB9VHaeqNapa0759+0IyCF8owzCMCiAu5b8Y6Bz438lLCxeReje899/vgoZs2gTTprkoVka8dO8etwSGUbXEMtRTRJoD7wJDcEr/NeCHqprRYUxkQz3POgtuuy38fI2mWboUOnSIWwrDSD6VMtRTVTcA5wBTgbnAhGyKP1IutFGmsfGtb8UtgZEkVq9uPECjWpkxo369R49IiojN5q+qU1R1V1XtrqrxOTdp3bqw4wYPDlUMw6h6WreGBx9MZvSuUnL66S6K2jHHQN++8NJLkRST6A7fkrDddvkfc9llcPnljdPnzWuctt9++edvGNXGzJluufnmsPfe8coSN/78o4kTnSv1du0iKcaUP8CPfpR9e8+eDf//7newxRZu/bvfhc5e37Wqu1iHH+7e3Nts4+K/Gpnxz6NR3ey+e9wSJIdmzUpSjCl/aDqM4FVXZd622WYwbhx06eJc0vbt62Lfzpjh3LM2N6/ZWSlx0OpE8sILcUsQP6mz7a+9Nh45kkC3biUpxpQ/NO3m4dvfrl+/5JKGx6g6r3sffggtW0YjXyXy8stueeut8cqRBL73vbglSB4//WncEsTHb39bkmJM+afjZz9r+L9XLxeUZcOG+q+A3XZzywsuaDq/p55yLwejnn32ccuRI22WK1RvaMsNG9IHPKpmv1slshaYS2ef4M22aZMz54CzvzUV5rGQMqqd1Puums+NKuy4o4twVm1k0j8rV8L225dWlqQQok5O3Dj/xBPVC3HBArj44mjyLiVNBbxviv/8Jxw5KgE/hGOfaJzali1l0igtZ0z5+0yZUr8ejOkbZou0e/d6c1E5s+OOhR/bpQsMGtQ4/ZxzCs+znLnoIrecONFmmhslxZS/z7Bh9cMOg2aeajZHZGP6dDfKKV8ync9qHt0B0KYN/PzncUthVBGm/IPcfbebSm1jz5tmv/1cZ20qRx1VclFKyk47wbJlcUtR+STd7FMBI7RM+QcZMcKFkdsscFoqwUxTSvr2zb69XL+krr3WjcJ45x0oxL24UVnssUfcEhSNKf+mmDYt3PyS3qKJgqCyzKT8k/5SGD3aDUks1BdUpXDggaUtL6kjfpJ+v+aAKf9MNGvmHCuF7XK40pV/ly6N0y67DJ591q1XwENT1ZTKJJr05+S44+KWoGhM+WdiwwY3AiNsjj8eTj01/HxLRbaH8rHH0vcDbLaZ69AEU/7lzjbbxC1BvPTu7Z6BIUPq08o0xKwp/1Kz5ZZN+xIqRz74wLm5SKfcDzmkPr3SlP/ZZ4ebX7phsEkinRnm8cfDLyeJ98kRR8C99zZOT+d1s18/56E0V9q2LVisQjHlb+TOqFGZt+28c/16sDNs0iQ3v6Ep5Z/Ehz0XUl2B5MIvf5l5W7lNgFuzJhoXzEk0+0yeDDWBybKPPAITJmTeP5+vpBjuf1P+Rj2rV9ebZ3z++Ef497+dl9J0cY93371x+syZ7uFdsqR+6GeltvwL4YYb4pYgHHr1gq22iiZvv2P9vPOiyT8Mhg93ZtwyxZS/UU/r1s4BXXAc+z77wKGHNvRsGmTWrMxfBOk6y8tR+R9wQOZtwRbq+ec7s56RnWeeaXqfli3dub300ujlSQLW8jdiZ5tt3NDMF1+Ec8+F738/nHzLueWfqz+m665LP9qpHDnooOjyrobodiJw0klxS5EVU/5JYfjwuCVoyIABcMst4eVXSpv/GWcUd3zqxL509ucOHRq/GFu0cO67iyXsuSWFMGgQrFjhZjRnYtgwt9xmm2gjcd1yS/mYV55/vn79xhtzP66SWv4icoWILBaRGd7v0MC2MSKyQETmicghUclQVsQV8euJJ0pTTik78M4/P9z80kUbW7Kk4YPuk01Z5sqQIeFMbrr/fth//8KOFck+AmXMGPelA25OzKxZueX73e/mL8u552bvWE0SwYBOJQrHWChRt/xvVNV+3m8KgIj0AUYAfYGhwJ9FJNlnKQpSx8OH8ebfdtv8jzn44OLLzQVf+W9Wgo/Nvn1h/PjCj0+9FtmuTVQvtTDuh5NPjq5F3rFj5gbL1KmZx75ffnn5mP46dcr/mELrVkkt/ywMB8ar6jpVfR9YAEQwVqzMCOPiJ/mhKlXL/6uv3HnYZZfC8wiex1//OrtLA3/Ga//+hZcXJb//vRsxc8op4eR34olume2c/OAH6ce+9+4dr70/KPORRza9/+jR+ZeR733uDyaoQOV/jojMFJE7RWQ7L60jsCiwT52X1ggRGSUitSJSu7xMZ9FlpFBlmDqhxg/2fPzxyVb+PlHb/Fu1csuaGvjzn+tjLueDL8sWW8D//E/2z/devdxQ17AnOoXVYm/TBm66KX+3DMEY1eAmsw0a5H6qTpGnMnOmGwvvk2qqefvteGcI+/fCXnvBXXc1vf855xT+nOZyPy9bBn/6U/3/iRNh7tzCyiuAopS/iEwTkdlpfsOB24DuQD/gE+CP+eavquNUtUZVa9pXuyfF0093D9YhKV0kv/mNW7Zu7dwrJJVST9oRgTPPLGzmpG+a6tEjt/1HjUrf0i2GSZPCza9YxoxpegLaHnu4WbA+mTpp42qkHHCA89pbWxvdjNpdd3XLXIaotm9fbzoTcb7EevWKRq40FNXLqKo5jQcTkduBR72/i4HOgc2dvLTqIt8HYNCghg+WT3AKuR8UPReWLYN16+r/R+2i1lf+5fB1svnm8OijDWdzFsLxx8Pf/17YsamT7fKl2PNczkNzs5HrC71QWrfOr6ET4/mNcrRPMNbf0cBsb30yMEJEthCRbkBP4NWo5EgscQcwb9++vkPrrbeidysQtfK/6ip47bXG6cHytt7axWzIhcMOC9+jaykZOLDh/yS6S4ib99+PW4J6Kszmf52IzBKRmcABwC8BVHUOMAF4G3gcOFtVN2bOpkrwOyjzHaN+0klOofmBwHO5iVI7Q/fcE7bbLv2+YRPFTd6rl7PnpmupB8vbZ5/c6hmWoozC500lkJSvia5d45Yg1nMR2eByVf1Rlm1jgbFRlV0WpCoYPyj6lls6fziPPNJwe9DFQLt28Omnzka45Zbw0EP12zZtgnffzR6BbOHCYiQvjKYUajEKN9uwztSHq5TzKS64wLnG+O533Sgkozy5/3546aXs+wwZkn0Yc7du2b80YngJxDSzyMhIJiUYbKXU1bn9ghNKgvidTun48suCRQuFOFt9cXQ69+lT2jIzkZTWdjly8snul42mZmX7jY4332zYMKvElr9RBE3dEMVEU4rL8Vg+Nv+ttgrvJRUsTzW3F0C5KsrDD3cuJiZNalzPfF985XoOkop/Plu1qh+OnG57CTHfPkmjUh+6ppS/n96mjfMRH0WLOVflHzY33lgac9M//pE9VoARP3EP9Ahgyj8u8lFCL7wQnRyloqn6brEF/OEPzptovmQblZOEl+moUS74e5T85je5fRHmGnwmCeetkkidNJdpewkx5Z800t0cJZz4ETnZbvLf/jb9zNGm2GGH3MpTdZ3k5cKqVeHl5Y/wGjw4vDwrgR9lHJcSLpmUv7X8q5Cob4LZs5vep5TENckrtbwDD6z3RhkVb7wBH31UfD7FuEJIvb8uvNBFZDvssOJkqjTSxeQNk7//3d0PTd33NtqnignbFt23r5tt+MUX4eZbKEmY4bvXXrntV4hDryDf+U5xx/uEea6aNXPDTtesKX3Z1cxxx+W2n5l9jLQ3QaE3RpJmMOZLOlcWheCfu5oa16eQCyecEE7ZcVKKoDn5cM018ZSbNMzsY2Qk3RdAoSNFUgOC+E7g4sAPyN2zZ277jw3MAXy1CO8f/sPVv78bBhknl16a3RVykghbKaULiJMUfv3r6MtIYIevmX3iIpcWwO23u8ldvuIslqht3dno3ds5S8u1wzHoRrmQ6E8+6R66uPzcXHlldHmn3j+FKJkuXcLpqyg3cm2QFEMm5R+jzyVr+SeZtm2jDaRdag47zE3gKoRi/dtXi2OzYlqQM2fC0UeHJ0uQajn/mUhgh68p/7hItSv7M2+33rr0spQDhYTUg3D7UJLA2DQusdq1g5/+NLfj/bqncw2y7bbQvXvD/cIiDOX/2GPZh/WWA9byNxg2rOGFP+00uPpquOyy+rRqby0ZTrEPG1b/P51SXr48d9OFf3ymRsaee7pl2HNLwriXhw6Fs87Kbd9LL3UO/956q/hywyCBLX+z+SeF5s1dtCQo75ZpKXn2WViyJLd9k2DzL4Tly+Ff/8ocpW3cuPTpmerYsiXccIMzwaXz/HrKKdCvX31wn2CwoGIo9Tnv0aM+3vB//gM771za8lM5/niYNavxl0uM96Ip/yRSTsopTvbfv+l9mhplUe6MHNnwfy4Nh2z+f0QaRnWbOhXuuw922qkw+cIm1+sYPA+DBkUjSz5cfDH84hfOtJYOs/lXIWPGwCuvxC1F5VIJyj/VRUUp2XVXFyWtUOXkt77L7fzPmhVufpttll7xW8u/irn66sZpZvYJDzuXmWneHDZsiLYM37QUlpIr1fWMOtZvKtbyN4yIKLeWZ5B8ZPcn9vkdt9lYvbowefIhri+vQocUlxpr+RtGRFRayz9bqEBwo3Sefz59PONUWrWCFSsazwQPk7iUf1TzFaKi3Fr+InK8iMwRkU0iUpOybYyILBCReSJySCB9qJe2QEQuLKb8isWP9FPKeLNJ5/jjCzsunfIp5xdCLgHov//93KO9tW1bnDxNEbby9+fH9O+feZ8zzyz+GpfzPZIjxZp9ZgPHANODiSLSBxgB9AWGAn8WkWYi0gy4FRgG9AFO8vY1gtxyC1xyiQvLZzh+8pPCjstV+Tz/fGH5x0Fw3H/SCVuJ7rabu5bZIr0V+qLJ1etrmJTrJC9Vnauq89JsGg6MV9V1qvo+sADY2/stUNX3VPW/wHhvXyNI27ZuhEXQv42ROWB9LjQ1zj8XM0lcBF1El2uLNGwlF+bwzST4fyo3s08WOgKLAv/rvLRM6YbRNMuWwWef5XdMuoeq3Dp/O3VqOJ6/nOSPSqmdcQa8/HI0eVcJTRqVRWQakM6hxsWq+s/wRWpQ9ihgFECXLl2iLMooB4rxbtqUwiwXhVoucvqceSZMnw7nnhtuviKF+3vKNf8Kp0nlr6qFuJVcDHQO/O/kpZElPV3Z44BxADU1NWV21xuJoAoe4kSz/fbwxBPR5O0PjPjBDxqWkUuneFIoV5t/FiYDI0RkCxHpBvQEXgVeA3qKSDcR2RzXKTw5IhkMA/bd1y2Do4XK+YUgAqeeGrcUyaBtW2f6mTixYXrQOWI+dOhQvEyFUm42fxE5WkTqgAHAv0VkKoCqzgEmAG8DjwNnq+pGVd0AnANMBeYCE7x9DSMadt3Vta6CYSE7d268XzmZU046KW4JksM++zT0ULr//oUPDAiakUqljMt1kpeqTgImZdg2FmjkfFxVpwBTiinXMIoi3USpclL+RmaKvY4tWsD69eHIknDMvYNhQPKVf9LlM8oOU/6G4XP11TAl4R+l5dxfkVT8fqHhMU45smAuhlECMk2e84PplIJu3eDII/M/zr4AslOIEt1jD9i4sWm/SVFQrjZ/wyhLjjoKBg92kcB8Sv0Qvvdefvtbiz9a4lD8QcpttI9hlCXNm8MzzziFXy6uf43KpFs36NjRhdYsMab8q4WxjQZeGQAHeXMYk+5B1cw9paHU57llS6iri8VZX8LveCM0evaMW4LwWL4c1q0LJ6+HHoJFi4pzGldKzPxTGqrgPFvLv1qopJu5XTv3qRwGrVq5iWBGeePfD6kB7Y2MmPKvFsxsYCSJhx6CuXPDy+/kk91ywIDi8kkXZL1CMeVf6Rx3XNwSGGHgB7M5qBA/iwlkxAgXcjIsxo6FefNgl12Ky+ell1wwpRYtwpErwZjN30guW2wRnm2/3BkwoOHX25tvwrRp8cmTNJo3D8d817NnZfWPZcGUv5FcZs92Ss5oTL9+7mcYBWLK30guPXq4n2EYoWM2f8MwjCrElH+lc/HFbhjcgQfGLYlhGAnCzD6VTr9+bgahYRhGAGv5G4ZhVCGm/A3DMKoQU/6GYRhViCl/wzCMKqQo5S8ix4vIHBHZJCI1gfSuIvK1iMzwfn8JbOsvIrNEZIGI3CJSSR7HDKMMue8+ePrpuKUwSkyxo31mA8cAf02zbaGq9kuTfhswEngFmAIMBR4rUg7DMArllFPilsCIgaJa/qo6V1Xn5bq/iOwIbKOqL6uqAvcCRxUjg2EYhpE/Udr8u4nImyLyHxHZz0vrCAQHndd5aWkRkVEiUisitcuXL49QVMMwjOqiSbOPiEwDdkiz6WJV/WeGwz4BuqjqChHpDzwiIn3zFU5VxwHjAGpqaswhvWEYRkg0qfxVNW8H4qq6Dljnrb8uIguBXYHFQKfArp28NMMwDKOERGL2EZH2ItLMW98F6Am8p6qfAKtFZF9vlM+pQKavB8MwDCMiih3qebSI1AEDgH+LyFRv0yBgpojMAP4B/FxVV3rbzgLuABYAC7GRPoZhGCVHtExiu9bU1GhtbW3cYhiGYZQNIvK6qtak22YzfA3DMKqQsmn5i8hy4MMCD28HfBqiOEnE6lgZVHodK71+kKw67qyq7dNtKBvlXwwiUpvp06dSsDpWBpVex0qvH5RPHc3sYxiGUYWY8jcMw6hCqkX5j4tbgBJgdawMKr2OlV4/KJM6VoXN3zAMw2hItbT8DcMwjACm/A3DMKqQilb+IjJUROZ5UcMujFueKBCRD7zIaDNEpCKmQIvInSKyTERmB9LaisiTIjLfW24Xp4zFkqGOV4jI4kAEvEPjlLFYRKSziDwjIm97Ef/O89Ir5lpmqWPir2XF2vw9x3LvAgfj4ga8Bpykqm/HKljIiMgHQI2qJmVSSdGIyCBgDXCvqu7upV0HrFTVa70X+XaqOjpOOYshQx2vANao6vVxyhYWXvCmHVX1DRFpDbyOC950OhVyLbPU8QQSfi0rueW/N7BAVd9T1f8C44HhMctk5ICqTgdWpiQPB+7x1u+hzCPAZahjRaGqn6jqG976F8BcXPCmirmWWeqYeCpZ+XcEFgX+Z40aVsYo8ISIvC4io+IWJkI6eC7BAZYAHeIUJkLOEZGZnlmobM0hqYhIV+A7uNjdFXktU+oICb+Wlaz8q4WBqroXMAw42zMnVDRe/OdKtFfeBnQH+uGi4f0xVmlCQkS2BiYC56vq6uC2SrmWaeqY+GtZycp/MdA58L8io4ap6mJvuQyYhDN3VSJLPfuqb2ddFrM8oaOqS1V1o6puAm6nAq6liLTAKcUHVPVhL7mirmW6OpbDtaxk5f8a0FNEuonI5sAIYHLMMoWKiGzldTIhIlsBPwBmZz+qbJkMnOatn0YFRoDzFaLH0ZT5tfSi9f0NmKuqNwQ2Vcy1zFTHcriWFTvaB8AbXnUT0Ay4U1XHxitRuHghMid5f5sDD1ZCHUXkIWAwzjXuUuBy4BFgAtAF59r7hEB0uLIjQx0H48wECnwA/CxgGy87RGQg8BwwC9jkJV+Es4lXxLXMUseTSPi1rGjlbxiGYaSnks0+hmEYRgZM+RuGYVQhpvwNwzCqEFP+hmEYVYgpf8MwjCrElL9hGEYVYsrfMAyjCvl/8JDpp4eEnXgAAAAASUVORK5CYII=\n",
      "text/plain": [
       "<Figure size 432x288 with 1 Axes>"
      ]
     },
     "metadata": {
      "needs_background": "light"
     },
     "output_type": "display_data"
    }
   ],
>>>>>>> beaf67d98e8c06b12d56da99c1c62a80a595da8c
   "source": [
    "# Setup the parameters of signal\n",
    "f = 2000\n",
    "\n",
    "\n",
    "# path = r'/home/jerry/GitHub/EMG_regressive_model/data_process/raw_data'\n",
    "# path = r'D:/GitHub/EMG_regressive_model/data_process/raw_data'\n",
<<<<<<< HEAD
    "pathEmg = r'D:/GitHub/UpperLimbEstimator/data_process/raw_data/type2/emg'\n",
    "# pathEmg = r'/home/jerry/GitHub/EMG_regressive_model/data_process/raw_data/type2/emg'\n",
=======
    "# pathEmg = r'D:/GitHub/UpperLimbEstimator/data_process/raw_data/type2'\n",
    "pathEmg = r'/home/jerry/GitHub/EMG_regressive_model/data_process/raw_data/type2/emg'\n",
>>>>>>> beaf67d98e8c06b12d56da99c1c62a80a595da8c
    "\n",
    "emg_files = glob.glob(pathEmg+'/*.csv')\n",
    "dfList = []\n",
    "\n",
    "for filename in emg_files:\n",
    "    headers = [*pd.read_csv(filename, nrows  = 1)]\n",
    "    df = pd.read_csv(filename, usecols=[c for c in headers if c != 'time'])\n",
    "    dfList.append(df)\n",
    "\n",
<<<<<<< HEAD
    "\n",
=======
    "#Concatenate individual column dataframes into one data frame (don't forget axis)\n",
>>>>>>> beaf67d98e8c06b12d56da99c1c62a80a595da8c
    "emgData = pd.concat(dfList, axis = 1)\n",
    "\n",
    "# pathElbow = r'/home/jerry/GitHub/EMG_regressive_model/data_process/raw_data/type2/kin'\n",
    "pathElbow = r'D:/GitHub/UpperLimbEstimator/data_process/raw_data/type2/kin'\n",
    "imu_files = glob.glob(pathElbow+'/*.csv')\n",
    "\n",
    "dfList2 = []\n",
    "\n",
    "for filename in imu_files:\n",
    "    headers = [*pd.read_csv(filename, nrows  = 1)]\n",
    "    df = pd.read_csv(filename, usecols=[c for c in headers if c != 'time'])\n",
    "    dfList2.append(df)\n",
    "# Concatenate individual column dataframes into one data frame (don't forget axis)\n",
    "angleData = pd.concat(dfList2, axis = 1)\n",
    "angle = angleData.to_numpy()\n",
    "angle = angle[:,s]\n",
    "notch = band_stop(angle, fs = 20, fh = 9, fl = 10, order = 4)\n",
    "imu_filter = low_pass(notch, fs = 200, low_pass = 2, order = 2)\n",
    "imu = np.reshape(imu_filter, (-1, 1))\n",
    "# normImu = normalization(imu)\n",
    "                                                              \n",
    "                                                              \n",
    "# print(normImu.shape)\n",
    "\n",
    "\n",
<<<<<<< HEAD
    "# #Convert the dataframe to numpy array\n",
    "# emg = emgData.to_numpy()\n",
    "# time = np.array([i/f for i in range(0, len(emg), 1)]) # sampling rate 2000 Hz\n",
    "# mean = np.mean(emg, axis = 0)\n",
    "# emgAvg = emg - mean\n",
    "# emgSize = emgAvg.shape\n",
    "\n",
    "# bpEmg = np.zeros(emgSize)\n",
    "\n",
    "# for i in range(emgSize[-1]):\n",
    "#     input = emgAvg[:, i]\n",
    "#     iuput = input.T\n",
    "#     notch = band_stop(input, fs = f, fh = 2, fl = 20, order = 2)\n",
    "#     bandpass = low_pass(notch ,fs = f, low_pass = 20, order = 4)\n",
    "#     bpEmg[:, i] = bandpass\n",
    "\n",
    "# # erform the full wave rectification\n",
    "# rectEmg = full_wave_rectify(bpEmg)\n",
    "\n"
=======
    "#Convert the dataframe to numpy array\n",
    "emg = emgData.to_numpy()\n",
    "time = np.array([i/f for i in range(0, len(emg), 1)]) # sampling rate 2000 Hz\n",
    "mean = np.mean(emg, axis = 0)\n",
    "emgAvg = emg - mean\n",
    "emgSize = emgAvg.shape\n",
    "\n",
    "bpEmg = np.zeros(emgSize)\n",
    "\n",
    "for i in range(emgSize[-1]):\n",
    "    input = emgAvg[:, i]\n",
    "    iuput = input.T\n",
    "    notch = band_stop(input, fs = f, fh = 2, fl = 20, order = 2)\n",
    "    bandpass = low_pass(notch ,fs = f, low_pass = 20, order = 4)\n",
    "    bpEmg[:, i] = bandpass\n",
    "\n",
    "# erform the full wave rectification\n",
    "rectEmg = full_wave_rectify(bpEmg)\n",
    "fig, ax = plt.subplots()\n",
    "# Plot \"true\" linear fit.\n",
    "sns.lineplot(x=time, y=emg[:, 1], color='blue', label='EMG', ax=ax)\n",
    "# # Plot prediction. \n",
    "# sns.lineplot(x=x_star, y=y_pred, color='green', label='pred', ax=ax)\n",
    "ax.set(title=f'Prediction GaussianProcessRegressor')\n",
    "# ax.legend(loc='upper right');      \n",
    "\n",
    "# print(rectEmg.shape)\n",
    "\n",
    "# #Feature extraction\n",
    "# emgFeatures = getEMGfeatures(rectEmg, 10, 10)\n",
    "# emgNorm = normalization(emgFeatures)\n",
    "# print(emgNorm.shape)\n",
    "\n",
    "# #Concatenate emg data and elbow data\n",
    "# dataset = np.hstack((emgNorm, normImu))\n",
    "# print(dataset.shape)\n",
    "\n",
    "# a = ['ch '+ str(x) for x in range(1, 16)]\n",
    "# a.append('angle')\n",
    "# dfFeatures = toDataframe(dataset,\n",
    "#         head = a,\n",
    "#         save = True,\n",
    "#         path = r'/home/jerry/GitHub/EMG_regressive_model/data_process/data/export.csv')\n"
>>>>>>> beaf67d98e8c06b12d56da99c1c62a80a595da8c
   ]
  },
  {
   "cell_type": "code",
<<<<<<< HEAD
   "execution_count": 14,
   "id": "c4dd2820-2a05-4cae-823d-f4c509dd3d46",
   "metadata": {},
   "outputs": [
    {
     "ename": "AttributeError",
     "evalue": "'NoneType' object has no attribute 'shape'",
     "output_type": "error",
     "traceback": [
      "\u001b[1;31m---------------------------------------------------------------------------\u001b[0m",
      "\u001b[1;31mAttributeError\u001b[0m                            Traceback (most recent call last)",
      "\u001b[1;32m<ipython-input-14-acbd1a709bae>\u001b[0m in \u001b[0;36m<module>\u001b[1;34m\u001b[0m\n\u001b[1;32m----> 1\u001b[1;33m \u001b[0mprint\u001b[0m\u001b[1;33m(\u001b[0m\u001b[0mimu_filter\u001b[0m\u001b[1;33m.\u001b[0m\u001b[0mshape\u001b[0m\u001b[1;33m)\u001b[0m\u001b[1;33m\u001b[0m\u001b[1;33m\u001b[0m\u001b[0m\n\u001b[0m",
      "\u001b[1;31mAttributeError\u001b[0m: 'NoneType' object has no attribute 'shape'"
     ]
    }
   ],
   "source": [
    "print(imu_filter.shape)"
   ]
  },
  {
   "cell_type": "code",
   "execution_count": null,
   "id": "c4265061-80e1-4243-b88a-b4f7c82e7528",
   "metadata": {},
   "outputs": [],
   "source": [
    "fig = plt.figure()\n",
    "plt.plot(time, c[:, -1])\n",
    "fig.set_size_inches(w=11,h=7)\n",
    "plt.show()"
   ]
  },
  {
   "cell_type": "code",
   "execution_count": null,
   "id": "a52455a0-656d-4325-9a40-907bd758b0c6",
   "metadata": {},
   "outputs": [],
   "source": []
  },
  {
   "cell_type": "code",
   "execution_count": null,
=======
   "execution_count": 16,
>>>>>>> beaf67d98e8c06b12d56da99c1c62a80a595da8c
   "id": "5e81d180-8eb2-49d2-91fd-554fc8183b2d",
   "metadata": {},
   "outputs": [
    {
     "data": {
      "text/html": [
       "<div>\n",
       "<style scoped>\n",
       "    .dataframe tbody tr th:only-of-type {\n",
       "        vertical-align: middle;\n",
       "    }\n",
       "\n",
       "    .dataframe tbody tr th {\n",
       "        vertical-align: top;\n",
       "    }\n",
       "\n",
       "    .dataframe thead th {\n",
       "        text-align: right;\n",
       "    }\n",
       "</style>\n",
       "<table border=\"1\" class=\"dataframe\">\n",
       "  <thead>\n",
       "    <tr style=\"text-align: right;\">\n",
       "      <th></th>\n",
       "      <th>value</th>\n",
       "      <th>value</th>\n",
       "      <th>value</th>\n",
       "    </tr>\n",
       "  </thead>\n",
       "  <tbody>\n",
       "    <tr>\n",
       "      <th>0</th>\n",
       "      <td>-0.862506</td>\n",
       "      <td>-1.005723</td>\n",
       "      <td>4.615131</td>\n",
       "    </tr>\n",
       "    <tr>\n",
       "      <th>1</th>\n",
       "      <td>-0.862506</td>\n",
       "      <td>0.215055</td>\n",
       "      <td>4.615131</td>\n",
       "    </tr>\n",
       "    <tr>\n",
       "      <th>2</th>\n",
       "      <td>-0.862506</td>\n",
       "      <td>0.520249</td>\n",
       "      <td>3.394354</td>\n",
       "    </tr>\n",
       "    <tr>\n",
       "      <th>3</th>\n",
       "      <td>-0.862506</td>\n",
       "      <td>-0.090140</td>\n",
       "      <td>1.868382</td>\n",
       "    </tr>\n",
       "    <tr>\n",
       "      <th>4</th>\n",
       "      <td>-1.167700</td>\n",
       "      <td>-0.700529</td>\n",
       "      <td>1.563187</td>\n",
       "    </tr>\n",
       "  </tbody>\n",
       "</table>\n",
       "</div>"
      ],
      "text/plain": [
       "      value     value     value\n",
       "0 -0.862506 -1.005723  4.615131\n",
       "1 -0.862506  0.215055  4.615131\n",
       "2 -0.862506  0.520249  3.394354\n",
       "3 -0.862506 -0.090140  1.868382\n",
       "4 -1.167700 -0.700529  1.563187"
      ]
     },
     "execution_count": 16,
     "metadata": {},
     "output_type": "execute_result"
    }
   ],
   "source": [
    "emgData.head()"
   ]
  },
  {
   "cell_type": "code",
   "execution_count": 17,
   "id": "0c6861ed-de88-4994-a118-5d3ccf46f189",
   "metadata": {},
   "outputs": [
    {
     "data": {
      "text/plain": [
       "array([[nan, nan, nan],\n",
       "       [nan, nan, nan],\n",
       "       [nan, nan, nan],\n",
       "       ...,\n",
       "       [nan, nan, nan],\n",
       "       [nan, nan, nan],\n",
       "       [nan, nan, nan]])"
      ]
     },
     "execution_count": 17,
     "metadata": {},
     "output_type": "execute_result"
    }
   ],
   "source": [
    "bpEmg"
   ]
  },
  {
   "cell_type": "code",
   "execution_count": null,
   "id": "23d090fa-07d0-4e79-8a9c-7f30fec1e71a",
   "metadata": {},
   "outputs": [],
   "source": []
  },
  {
   "cell_type": "code",
   "execution_count": null,
   "id": "c80cfdda-1b74-41da-a212-6389f9bd0226",
   "metadata": {},
   "outputs": [],
   "source": []
  }
 ],
 "metadata": {
  "kernelspec": {
   "display_name": "Python 3",
   "language": "python",
   "name": "python3"
  },
  "language_info": {
   "codemirror_mode": {
    "name": "ipython",
    "version": 3
   },
   "file_extension": ".py",
   "mimetype": "text/x-python",
   "name": "python",
   "nbconvert_exporter": "python",
   "pygments_lexer": "ipython3",
   "version": "3.8.10"
  }
 },
 "nbformat": 4,
 "nbformat_minor": 5
}
