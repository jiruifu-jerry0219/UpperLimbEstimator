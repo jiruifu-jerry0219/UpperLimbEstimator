{
 "cells": [
  {
   "cell_type": "code",
   "execution_count": 5,
   "id": "85a66cb1",
   "metadata": {},
   "outputs": [],
   "source": [
    "import os\n",
    "import glob\n",
    "\n",
    "import numpy as np\n",
    "import pandas as pd\n",
    "import matplotlib.pyplot as plt\n",
    "import seaborn as sns\n",
    "\n",
    "import scipy\n",
    "from scipy import signal\n",
    "from scipy.signal import freqz\n",
    "\n",
    "import math\n",
    "\n",
    "from butterworth import band_pass, low_pass, high_pass, band_stop\n",
    "from utils import full_wave_rectify, plot_signal_one, plot_multiple\n",
    "from utils import getEMGfeatures, toDataframe, normalization"
   ]
  },
  {
   "cell_type": "code",
   "execution_count": 10,
   "id": "1a405fb5",
   "metadata": {},
   "outputs": [],
   "source": [
    "# Setup the parameters of signal\n",
    "f = 2000\n",
    "\n",
    "\n",
    "# path = r'/home/jerry/GitHub/EMG_regressive_model/data_process/raw_data'\n",
    "# path = r'D:/GitHub/EMG_regressive_model/data_process/raw_data'\n",
    "pathEmg = r'D:/GitHub/UpperLimbEstimator/data_process/raw_data/type2/emg'\n",
    "# pathEmg = r'/home/jerry/GitHub/EMG_regressive_model/data_process/raw_data/type2/emg'\n",
    "\n",
    "emg_files = glob.glob(pathEmg+'/*.csv')\n",
    "dfList = []\n",
    "\n",
    "for filename in emg_files:\n",
    "    headers = [*pd.read_csv(filename, nrows  = 1)]\n",
    "    df = pd.read_csv(filename, usecols=[c for c in headers if c != 'time'])\n",
    "    dfList.append(df)\n",
    "\n",
    "\n",
    "emgData = pd.concat(dfList, axis = 1)\n",
    "\n",
    "# pathElbow = r'/home/jerry/GitHub/EMG_regressive_model/data_process/raw_data/type2/kin'\n",
    "pathElbow = r'D:/GitHub/UpperLimbEstimator/data_process/raw_data/type2/kin'\n",
    "imu_files = glob.glob(pathElbow+'/*.csv')\n",
    "\n",
    "dfList2 = []\n",
    "\n",
    "for filename in imu_files:\n",
    "    headers = [*pd.read_csv(filename, nrows  = 1)]\n",
    "    df = pd.read_csv(filename, usecols=[c for c in headers if c != 'time'])\n",
    "    dfList2.append(df)\n",
    "# Concatenate individual column dataframes into one data frame (don't forget axis)\n",
    "angleData = pd.concat(dfList2, axis = 1)\n",
    "angle = angleData.to_numpy()\n",
    "angle = angle[:,s]\n",
    "notch = band_stop(angle, fs = 20, fh = 9, fl = 10, order = 4)\n",
    "imu_filter = low_pass(notch, fs = 200, low_pass = 2, order = 2)\n",
    "imu = np.reshape(imu_filter, (-1, 1))\n",
    "# normImu = normalization(imu)\n",
    "                                                              \n",
    "                                                              \n",
    "# print(normImu.shape)\n",
    "\n",
    "\n",
    "# #Convert the dataframe to numpy array\n",
    "# emg = emgData.to_numpy()\n",
    "# time = np.array([i/f for i in range(0, len(emg), 1)]) # sampling rate 2000 Hz\n",
    "# mean = np.mean(emg, axis = 0)\n",
    "# emgAvg = emg - mean\n",
    "# emgSize = emgAvg.shape\n",
    "\n",
    "# bpEmg = np.zeros(emgSize)\n",
    "\n",
    "# for i in range(emgSize[-1]):\n",
    "#     input = emgAvg[:, i]\n",
    "#     iuput = input.T\n",
    "#     notch = band_stop(input, fs = f, fh = 2, fl = 20, order = 2)\n",
    "#     bandpass = low_pass(notch ,fs = f, low_pass = 20, order = 4)\n",
    "#     bpEmg[:, i] = bandpass\n",
    "\n",
    "# # erform the full wave rectification\n",
    "# rectEmg = full_wave_rectify(bpEmg)\n",
    "\n"
   ]
  },
  {
   "cell_type": "code",
   "execution_count": 14,
   "id": "c4dd2820-2a05-4cae-823d-f4c509dd3d46",
   "metadata": {},
   "outputs": [
    {
     "ename": "AttributeError",
     "evalue": "'NoneType' object has no attribute 'shape'",
     "output_type": "error",
     "traceback": [
      "\u001b[1;31m---------------------------------------------------------------------------\u001b[0m",
      "\u001b[1;31mAttributeError\u001b[0m                            Traceback (most recent call last)",
      "\u001b[1;32m<ipython-input-14-acbd1a709bae>\u001b[0m in \u001b[0;36m<module>\u001b[1;34m\u001b[0m\n\u001b[1;32m----> 1\u001b[1;33m \u001b[0mprint\u001b[0m\u001b[1;33m(\u001b[0m\u001b[0mimu_filter\u001b[0m\u001b[1;33m.\u001b[0m\u001b[0mshape\u001b[0m\u001b[1;33m)\u001b[0m\u001b[1;33m\u001b[0m\u001b[1;33m\u001b[0m\u001b[0m\n\u001b[0m",
      "\u001b[1;31mAttributeError\u001b[0m: 'NoneType' object has no attribute 'shape'"
     ]
    }
   ],
   "source": [
    "print(imu_filter.shape)"
   ]
  },
  {
   "cell_type": "code",
   "execution_count": null,
   "id": "c4265061-80e1-4243-b88a-b4f7c82e7528",
   "metadata": {},
   "outputs": [],
   "source": [
    "fig = plt.figure()\n",
    "plt.plot(time, c[:, -1])\n",
    "fig.set_size_inches(w=11,h=7)\n",
    "plt.show()"
   ]
  },
  {
   "cell_type": "code",
   "execution_count": null,
   "id": "a52455a0-656d-4325-9a40-907bd758b0c6",
   "metadata": {},
   "outputs": [],
   "source": []
  },
  {
   "cell_type": "code",
   "execution_count": null,
   "id": "5e81d180-8eb2-49d2-91fd-554fc8183b2d",
   "metadata": {},
   "outputs": [],
   "source": []
  }
 ],
 "metadata": {
  "kernelspec": {
   "display_name": "Python 3",
   "language": "python",
   "name": "python3"
  },
  "language_info": {
   "codemirror_mode": {
    "name": "ipython",
    "version": 3
   },
   "file_extension": ".py",
   "mimetype": "text/x-python",
   "name": "python",
   "nbconvert_exporter": "python",
   "pygments_lexer": "ipython3",
   "version": "3.9.5"
  }
 },
 "nbformat": 4,
 "nbformat_minor": 5
}
