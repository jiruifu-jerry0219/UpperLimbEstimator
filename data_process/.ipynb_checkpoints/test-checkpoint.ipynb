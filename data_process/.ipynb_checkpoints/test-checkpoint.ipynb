{
 "cells": [
  {
   "cell_type": "code",
   "execution_count": 1,
   "id": "baee4f84",
   "metadata": {},
   "outputs": [],
   "source": [
    "import numpy as np"
   ]
  },
  {
   "cell_type": "code",
   "execution_count": 5,
   "id": "f2e3b512",
   "metadata": {},
   "outputs": [],
   "source": [
    "a = np.random.rand(1000, 1)"
   ]
  },
  {
   "cell_type": "code",
   "execution_count": 11,
   "id": "beb7ed49",
   "metadata": {},
   "outputs": [
    {
     "data": {
      "text/plain": [
       "1000"
      ]
     },
     "execution_count": 11,
     "metadata": {},
     "output_type": "execute_result"
    }
   ],
   "source": [
    "endPt = a.shape[0]\n",
    "endPt"
   ]
  },
  {
   "cell_type": "code",
   "execution_count": 12,
   "id": "c6aa4e4e",
   "metadata": {},
   "outputs": [],
   "source": [
    "pts = np.arange(10, endPt, 10)"
   ]
  },
  {
   "cell_type": "code",
   "execution_count": 13,
   "id": "00c72354",
   "metadata": {},
   "outputs": [
    {
     "name": "stdout",
     "output_type": "stream",
     "text": [
      "[ 10  20  30  40  50  60  70  80  90 100 110 120 130 140 150 160 170 180\n",
      " 190 200 210 220 230 240 250 260 270 280 290 300 310 320 330 340 350 360\n",
      " 370 380 390 400 410 420 430 440 450 460 470 480 490 500 510 520 530 540\n",
      " 550 560 570 580 590 600 610 620 630 640 650 660 670 680 690 700 710 720\n",
      " 730 740 750 760 770 780 790 800 810 820 830 840 850 860 870 880 890 900\n",
      " 910 920 930 940 950 960 970 980 990]\n"
     ]
    }
   ],
   "source": [
    "print(pts)"
   ]
  },
  {
   "cell_type": "code",
   "execution_count": 15,
   "id": "d525bc40",
   "metadata": {},
   "outputs": [
    {
     "name": "stdout",
     "output_type": "stream",
     "text": [
      "10\n",
      "100\n",
      "190\n",
      "280\n",
      "370\n",
      "460\n",
      "550\n",
      "640\n",
      "730\n",
      "820\n",
      "910\n"
     ]
    }
   ],
   "source": [
    "for i in range(len(pts)):\n",
    "    if i % 10 == 0:\n",
    "        print(pts[i])"
   ]
  },
  {
   "cell_type": "code",
   "execution_count": null,
   "id": "3027d057",
   "metadata": {},
   "outputs": [],
   "source": []
  }
 ],
 "metadata": {
  "kernelspec": {
   "display_name": "Python 3",
   "language": "python",
   "name": "python3"
  },
  "language_info": {
   "codemirror_mode": {
    "name": "ipython",
    "version": 3
   },
   "file_extension": ".py",
   "mimetype": "text/x-python",
   "name": "python",
   "nbconvert_exporter": "python",
   "pygments_lexer": "ipython3",
   "version": "3.8.10"
  }
 },
 "nbformat": 4,
 "nbformat_minor": 5
}
