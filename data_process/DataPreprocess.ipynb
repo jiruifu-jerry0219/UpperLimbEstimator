{
 "cells": [
  {
   "cell_type": "markdown",
   "id": "8f101386-95ef-40a5-8157-9e034f5c4fd2",
   "metadata": {},
   "source": [
    "### Note:\n",
    "- This notebook only process three types of experiment data which are:\n",
    "1. EMG measurement from three channels\n",
    "2. Elbow flexion / extension"
   ]
  },
  {
   "cell_type": "code",
   "execution_count": 1,
   "id": "c20f8fd6-23e2-473d-9f37-8692131d0cde",
   "metadata": {},
   "outputs": [],
   "source": [
    "import os\n",
    "import glob\n",
    "\n",
    "import numpy as np\n",
    "import pandas as pd\n",
    "import matplotlib.pyplot as plt\n",
    "import seaborn\n",
    "\n",
    "import scipy\n",
    "from scipy import signal\n",
    "from scipy.signal import freqz\n",
    "\n",
    "import math\n",
    "\n",
    "from butterworth import band_pass, low_pass, high_pass\n",
    "from utils import full_wave_rectify, plot_signal_one, plot_multiple"
   ]
  },
  {
   "cell_type": "code",
   "execution_count": 2,
   "id": "06f02d14-a8f5-4924-aad3-24350192d138",
   "metadata": {},
   "outputs": [
    {
     "name": "stdout",
     "output_type": "stream",
     "text": [
      "35.625\n",
      "2.0\n"
     ]
    }
   ],
   "source": [
    "x = [1, 2, 3, 4, 5, 6, 7, 8, 9]\n",
    "xa = np.asarray(x)\n",
    "vara = (1 / (len(xa) - 1)) * np.sum([s ** 2 for s in xa])\n",
    "print(vara)\n",
    "a = 4\n",
    "print(np.sqrt(a))"
   ]
  },
  {
   "cell_type": "markdown",
   "id": "6329cdf9-782e-4ba2-a1f7-7208cb12f0ef",
   "metadata": {},
   "source": [
    "### Prepare feature extraction functions"
   ]
  },
  {
   "cell_type": "code",
   "execution_count": 3,
   "id": "0c66fc7d-ac91-41a4-b1d9-e06dd8064bda",
   "metadata": {},
   "outputs": [
    {
     "name": "stdout",
     "output_type": "stream",
     "text": [
      "583\n"
     ]
    }
   ],
   "source": [
    "a = np.arange(10, 5831, 10)\n",
    "j = 0\n",
    "for i in range(len(a)):\n",
    "    j += 1\n",
    "print(j)"
   ]
  },
  {
   "cell_type": "code",
   "execution_count": 4,
   "id": "8067518f-dc9e-4647-bfd9-1e4d37eb6e20",
   "metadata": {},
   "outputs": [],
   "source": [
    "def getEMGfeatures(emg, window = 1, step = 1):\n",
    "    \"\"\"\n",
    "    emg: filtered rectified EMG signal\n",
    "    window: size of sliding windows\n",
    "    step: number of step between two windows\n",
    "    \"\"\"\n",
    "    endPt = len(emg)\n",
    "    pts = np.arange(window, endPt, step)\n",
    "    j = 0\n",
    "    for i in range(len(pts)):\n",
    "        j += 1\n",
    "        sampleEMG = emg[pts[i] - window + 1:pts[i], :]\n",
    "        pass\n",
    "        \n",
    "    \n",
    "def getfeaturesTD(emg):\n",
    "    pass\n",
    "    "
   ]
  },
  {
   "cell_type": "markdown",
   "id": "4427736a-22e2-4d05-a412-78759981f022",
   "metadata": {},
   "source": [
    "### Data Preprocessing\n",
    "1. Full-wave rectification\n",
    "2. Remove the noise from data by using Butterworth Filter\n",
    "3. Feature extraction\n",
    "4. Dimensionality Reduction (*Optional)\n",
    "5. Save the data as '.csv' file"
   ]
  },
  {
   "cell_type": "code",
   "execution_count": 5,
   "id": "d0072719-ac68-4bde-a5f7-59a24c87db41",
   "metadata": {},
   "outputs": [],
   "source": [
    "# Setup the parameters of signal\n",
    "f = 2000"
   ]
  },
  {
   "cell_type": "code",
   "execution_count": 6,
   "id": "18460ceb-f562-445e-8461-2160ea1e68d6",
   "metadata": {},
   "outputs": [],
   "source": [
    "# path = r'/home/jerry/GitHub/EMG_regressive_model/data_process/raw_data'\n",
    "path = r'D:/GitHub/EMG_regressive_model/data_process/raw_data'\n",
    "all_files = glob.glob(path+'/*.csv')\n",
    "dfList = []"
   ]
  },
  {
   "cell_type": "code",
   "execution_count": 7,
   "id": "2c1a4e4a-4667-4a40-9b27-ac78b3549bf4",
   "metadata": {},
   "outputs": [
    {
     "name": "stdout",
     "output_type": "stream",
     "text": [
      "D:/GitHub/EMG_regressive_model/data_process/raw_data\\2021-06-08-13-13_CUBE elbow data collection_2.75_T_1.csv\n"
     ]
    },
    {
     "name": "stderr",
     "output_type": "stream",
     "text": [
      "C:\\ProgramData\\Anaconda3\\envs\\torch\\lib\\site-packages\\IPython\\core\\interactiveshell.py:3169: DtypeWarning: Columns (1) have mixed types.Specify dtype option on import or set low_memory=False.\n",
      "  has_raised = await self.run_ast_nodes(code_ast.body, cell_name,\n"
     ]
    }
   ],
   "source": [
    "# Read .csv file by using panda\n",
    "# for filename in all_files:\n",
    "file = all_files[0]\n",
    "saveName = file[-11:-4]\n",
    "print(file)\n",
    "allData = pd.read_csv(file, skiprows = 4, header = None)\n"
   ]
  },
  {
   "cell_type": "code",
   "execution_count": 8,
   "id": "07499eff-1c6d-421d-b820-081d478adca4",
   "metadata": {},
   "outputs": [
    {
     "name": "stdout",
     "output_type": "stream",
     "text": [
      "2\n"
     ]
    }
   ],
   "source": [
    "# Create the dataframe for EMG data and Joint angle\n",
    "emgData = allData.iloc[:, 3:6]\n",
    "angleData = allData.iloc[:, 32:33]\n",
    "\n",
    "#Convert the dataframe to numpy array\n",
    "emg = emgData.to_numpy()\n",
    "time = np.array([i/f for i in range(0, len(emg), 1)]) # sampling rate 2000 Hz\n",
    "mean = np.mean(emg, axis = 0)\n",
    "emgAvg = emg - mean\n",
    "\n",
    "angle = angleData.to_numpy()\n",
    "# Perform the full wave rectification\n",
    "rectEmg = full_wave_rectify(emgAvg)\n",
    "print(rectEmg.shape[-1] - 1)\n",
    "bpEmg = band_pass(rectEmg, fs = f, high_band = 200, low_band = 10, order = 6, padB = True, axs = -1, pad = 0)\n",
    "# features = getEMGfeatures(bpEmg, window = 10, step = 10)\n",
    "# print(len(angle))\n",
    "# print(len(bpEmg))\n",
    "# print(angle.shape[0] - 1)\n",
    "bpAngle = band_pass(angle, fs = f, high_band = 100, low_band = 10, order = 4, axs = -1, padB = True, pad = 0)\n"
   ]
  },
  {
   "cell_type": "code",
   "execution_count": 9,
   "id": "9eaad5bc-1d2f-4089-9530-4131ffd4a298",
   "metadata": {},
   "outputs": [
    {
     "ename": "AssertionError",
     "evalue": "Length of signals must equal to length of time and total number of plots",
     "output_type": "error",
     "traceback": [
      "\u001b[1;31m---------------------------------------------------------------------------\u001b[0m",
      "\u001b[1;31mAssertionError\u001b[0m                            Traceback (most recent call last)",
      "\u001b[1;32m<ipython-input-9-42fbca9f7492>\u001b[0m in \u001b[0;36m<module>\u001b[1;34m\u001b[0m\n\u001b[0;32m      1\u001b[0m \u001b[0mtit\u001b[0m \u001b[1;33m=\u001b[0m \u001b[1;33m[\u001b[0m\u001b[1;34m'EMG CH1'\u001b[0m\u001b[1;33m,\u001b[0m \u001b[1;34m'EMG CH2'\u001b[0m\u001b[1;33m,\u001b[0m \u001b[1;34m'EMG CH3'\u001b[0m\u001b[1;33m]\u001b[0m\u001b[1;33m\u001b[0m\u001b[1;33m\u001b[0m\u001b[0m\n\u001b[0;32m      2\u001b[0m \u001b[0mfilename\u001b[0m \u001b[1;33m=\u001b[0m \u001b[1;34m'emgvstime.png'\u001b[0m\u001b[1;33m\u001b[0m\u001b[1;33m\u001b[0m\u001b[0m\n\u001b[1;32m----> 3\u001b[1;33m \u001b[0mplot_multiple\u001b[0m\u001b[1;33m(\u001b[0m\u001b[0mbpEmg\u001b[0m\u001b[1;33m,\u001b[0m \u001b[0mtime\u001b[0m\u001b[1;33m,\u001b[0m \u001b[1;36m3\u001b[0m\u001b[1;33m,\u001b[0m \u001b[1;34m'Time'\u001b[0m\u001b[1;33m,\u001b[0m \u001b[1;34m'EMG'\u001b[0m\u001b[1;33m,\u001b[0m \u001b[0mtit\u001b[0m\u001b[1;33m,\u001b[0m \u001b[0mfilename\u001b[0m\u001b[1;33m)\u001b[0m\u001b[1;33m\u001b[0m\u001b[1;33m\u001b[0m\u001b[0m\n\u001b[0m",
      "\u001b[1;32mD:\\GitHub\\EMG_regressive_model\\data_process\\utils.py\u001b[0m in \u001b[0;36mplot_multiple\u001b[1;34m(signal, time, num_of_plot, xlabel, ylabel, title, fname)\u001b[0m\n\u001b[0;32m     25\u001b[0m     \u001b[0mrow_num\u001b[0m \u001b[1;33m=\u001b[0m \u001b[0mmath\u001b[0m\u001b[1;33m.\u001b[0m\u001b[0mceil\u001b[0m\u001b[1;33m(\u001b[0m\u001b[0mnum_of_plot\u001b[0m \u001b[1;33m/\u001b[0m \u001b[1;36m2\u001b[0m\u001b[1;33m)\u001b[0m\u001b[1;33m\u001b[0m\u001b[1;33m\u001b[0m\u001b[0m\n\u001b[0;32m     26\u001b[0m     \u001b[0mfig\u001b[0m\u001b[1;33m,\u001b[0m \u001b[0ma\u001b[0m \u001b[1;33m=\u001b[0m \u001b[0mplt\u001b[0m\u001b[1;33m.\u001b[0m\u001b[0msubplots\u001b[0m\u001b[1;33m(\u001b[0m\u001b[0mrow_num\u001b[0m\u001b[1;33m,\u001b[0m \u001b[1;36m2\u001b[0m\u001b[1;33m)\u001b[0m\u001b[1;33m\u001b[0m\u001b[1;33m\u001b[0m\u001b[0m\n\u001b[1;32m---> 27\u001b[1;33m     \u001b[1;32massert\u001b[0m \u001b[0mlen\u001b[0m\u001b[1;33m(\u001b[0m\u001b[0msignal\u001b[0m\u001b[1;33m)\u001b[0m\u001b[1;33m==\u001b[0m\u001b[0mlen\u001b[0m\u001b[1;33m(\u001b[0m\u001b[0mtime\u001b[0m\u001b[1;33m)\u001b[0m\u001b[1;33m==\u001b[0m\u001b[0mnum_of_plot\u001b[0m\u001b[1;33m,\u001b[0m \u001b[1;34m\"Length of signals must equal to length of time and total number of plots\"\u001b[0m\u001b[1;33m\u001b[0m\u001b[1;33m\u001b[0m\u001b[0m\n\u001b[0m\u001b[0;32m     28\u001b[0m     \u001b[0mn\u001b[0m \u001b[1;33m=\u001b[0m \u001b[1;36m0\u001b[0m\u001b[1;33m\u001b[0m\u001b[1;33m\u001b[0m\u001b[0m\n\u001b[0;32m     29\u001b[0m     \u001b[1;32mfor\u001b[0m \u001b[0mi\u001b[0m \u001b[1;32min\u001b[0m \u001b[0mrange\u001b[0m\u001b[1;33m(\u001b[0m\u001b[0mrow_num\u001b[0m\u001b[1;33m)\u001b[0m\u001b[1;33m:\u001b[0m\u001b[1;33m\u001b[0m\u001b[1;33m\u001b[0m\u001b[0m\n",
      "\u001b[1;31mAssertionError\u001b[0m: Length of signals must equal to length of time and total number of plots"
     ]
    },
    {
     "data": {
      "image/png": "[encoded data removed]",
      "text/plain": [
       "<Figure size 432x288 with 4 Axes>"
      ]
     },
     "metadata": {
      "needs_background": "light"
     },
     "output_type": "display_data"
    }
   ],
   "source": [
    "tit = ['EMG CH1', 'EMG CH2', 'EMG CH3']\n",
    "filename = 'emgvstime.png'\n",
    "plot_multiple(bpEmg, time, 3, 'Time', 'EMG', tit, filename)"
   ]
  },
  {
   "cell_type": "code",
   "execution_count": null,
   "id": "095ec5a6-f2fb-4687-bce5-3810ffda3f6f",
   "metadata": {},
   "outputs": [],
   "source": []
  },
  {
   "cell_type": "code",
   "execution_count": 11,
   "id": "94e9b36b-989f-4c70-aafc-54b6e7dcd70d",
   "metadata": {},
   "outputs": [
    {
     "name": "stdout",
     "output_type": "stream",
     "text": [
      "0 and 0\n",
      "0 and 1\n",
      "1 and 0\n",
      "1 and 1\n",
      "2 and 0\n",
      "2 and 1\n",
      "3 and 0\n",
      "3 and 1\n",
      "4 and 0\n",
      "4 and 1\n",
      "5 and 0\n",
      "5 and 1\n",
      "6 and 0\n",
      "6 and 1\n",
      "7 and 0\n",
      "7 and 1\n",
      "8 and 0\n",
      "8 and 1\n",
      "9 and 0\n",
      "9 and 1\n",
      "10 and 0\n",
      "10 and 1\n"
     ]
    }
   ],
   "source": [
    "row = 10\n",
    "for i in range(11):\n",
    "    for j in range(2):\n",
    "        print(i, 'and', j)"
   ]
  },
  {
   "cell_type": "code",
   "execution_count": null,
   "id": "a093be4b-feed-4f7b-9a6e-0b553e52ff74",
   "metadata": {},
   "outputs": [],
   "source": []
  }
 ],
 "metadata": {
  "kernelspec": {
   "display_name": "Python 3",
   "language": "python",
   "name": "python3"
  },
  "language_info": {
   "codemirror_mode": {
    "name": "ipython",
    "version": 3
   },
   "file_extension": ".py",
   "mimetype": "text/x-python",
   "name": "python",
   "nbconvert_exporter": "python",
   "pygments_lexer": "ipython3",
   "version": "3.9.5"
  }
 },
 "nbformat": 4,
 "nbformat_minor": 5
}
