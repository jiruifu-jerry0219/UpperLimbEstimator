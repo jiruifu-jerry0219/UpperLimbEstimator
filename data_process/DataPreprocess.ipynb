{
 "cells": [
  {
   "cell_type": "markdown",
   "id": "8f101386-95ef-40a5-8157-9e034f5c4fd2",
   "metadata": {},
   "source": [
    "### Note:\n",
    "- This notebook only process three types of experiment data which are:\n",
    "1. EMG measurement from three channels\n",
    "2. Elbow flexion / extension"
   ]
  },
  {
   "cell_type": "code",
   "execution_count": 2,
   "id": "c20f8fd6-23e2-473d-9f37-8692131d0cde",
   "metadata": {},
   "outputs": [],
   "source": [
    "import os\n",
    "import glob\n",
    "\n",
    "import numpy as np\n",
    "import pandas as pd\n",
    "import matplotlib.pyplot as plt\n",
    "import seaborn\n",
    "\n",
    "import scipy\n",
    "from scipy import signal\n",
    "from scipy.signal import freqz\n",
    "\n",
    "import math\n",
    "\n",
    "# from butterworth import band_pass, low_pass, high_pass\n",
    "# from utils import full_wave_rectify, plot_signal_one, plot_multiple"
   ]
  },
  {
   "cell_type": "markdown",
   "id": "4427736a-22e2-4d05-a412-78759981f022",
   "metadata": {},
   "source": [
    "### Data Preprocessing\n",
    "1. Full-wave rectification\n",
    "2. Remove the noise from data by using Butterworth Filter\n",
    "3. Feature extraction\n",
    "4. Dimensionality Reduction (*Optional)\n",
    "5. Save the data as '.csv' file"
   ]
  },
  {
   "cell_type": "code",
   "execution_count": 3,
   "id": "d0072719-ac68-4bde-a5f7-59a24c87db41",
   "metadata": {},
   "outputs": [],
   "source": [
    "# Setup the parameters of signal\n",
    "f = 2000"
   ]
  },
  {
   "cell_type": "code",
   "execution_count": 4,
   "id": "18460ceb-f562-445e-8461-2160ea1e68d6",
   "metadata": {},
   "outputs": [],
   "source": [
    "path = r'/home/jerry/GitHub/EMG_regressive_model/data_process/raw_data'\n",
    "# path = r'D:/GitHub/EMG_regressive_model/data_process/raw_data'\n",
    "all_files = glob.glob(path+'/*.csv')\n",
    "dfList = []"
   ]
  },
  {
   "cell_type": "code",
   "execution_count": 5,
   "id": "2c1a4e4a-4667-4a40-9b27-ac78b3549bf4",
   "metadata": {},
   "outputs": [
    {
     "name": "stdout",
     "output_type": "stream",
     "text": [
      "/home/jerry/GitHub/EMG_regressive_model/data_process/raw_data/2021-06-08-13-30_CUBE elbow data collection_4.4_T_3.csv\n"
     ]
    },
    {
     "name": "stderr",
     "output_type": "stream",
     "text": [
      "/home/jerry/anaconda3/envs/torch/lib/python3.8/site-packages/IPython/core/interactiveshell.py:3169: DtypeWarning: Columns (1) have mixed types.Specify dtype option on import or set low_memory=False.\n",
      "  has_raised = await self.run_ast_nodes(code_ast.body, cell_name,\n"
     ]
    }
   ],
   "source": [
    "# Read .csv file by using panda\n",
    "# for filename in all_files:\n",
    "file = all_files[0]\n",
    "saveName = file[-11:-4]\n",
    "print(file)\n",
    "allData = pd.read_csv(file, skiprows = 4, header = None)\n"
   ]
  },
  {
   "cell_type": "code",
   "execution_count": 10,
   "id": "07499eff-1c6d-421d-b820-081d478adca4",
   "metadata": {},
   "outputs": [
    {
     "name": "stdout",
     "output_type": "stream",
     "text": [
      "(51840,)\n"
     ]
    }
   ],
   "source": [
    "# Create the dataframe for EMG data and Joint angle\n",
    "emgData = allData.iloc[:, 3:6]\n",
    "angleData = allData.iloc[:, 32:33]\n",
    "\n",
    "#Convert the dataframe to numpy array\n",
    "emg = emgData.to_numpy()\n",
    "\n",
    "a = emg[:, 0]\n",
    "a.reshape((a.size,))\n",
    "print(a.T.shape)\n",
    "# time = np.array([i/f for i in range(0, len(emg), 1)]) # sampling rate 2000 Hz\n",
    "# mean = np.mean(emg, axis = 0)\n",
    "# emgAvg = emg - mean\n",
    "\n",
    "# angle = angleData.to_numpy()\n",
    "\n",
    "# emgSize = emgAvg.shape\n",
    "\n",
    "# bpEmg = np.zeros(emgSize)\n",
    "\n",
    "# for i in range(emgSize[-1]):\n",
    "#     bandpass = low_pass(emgAvg[:, i],fs = f, low_pass = 600, order = 2)\n",
    "#     bpEmg[:, i] = bandpass\n",
    "\n",
    "\n",
    "# # Perform the full wave rectification\n",
    "# rectEmg = full_wave_rectify(bpEmg)\n",
    "\n",
    "\n",
    "# bpAngle = band_pass(angle, fs = f, high_band = 100, low_band = 10, order = 4, axs = -1, padB = True, pad = 0)\n"
   ]
  },
  {
   "cell_type": "code",
   "execution_count": null,
   "id": "a093be4b-feed-4f7b-9a6e-0b553e52ff74",
   "metadata": {},
   "outputs": [],
   "source": []
  }
 ],
 "metadata": {
  "kernelspec": {
   "display_name": "Python 3",
   "language": "python",
   "name": "python3"
  },
  "language_info": {
   "codemirror_mode": {
    "name": "ipython",
    "version": 3
   },
   "file_extension": ".py",
   "mimetype": "text/x-python",
   "name": "python",
   "nbconvert_exporter": "python",
   "pygments_lexer": "ipython3",
   "version": "3.8.10"
  }
 },
 "nbformat": 4,
 "nbformat_minor": 5
}
