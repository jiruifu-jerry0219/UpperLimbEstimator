{
 "cells": [
  {
   "cell_type": "markdown",
   "id": "49da4185-f1c7-40dc-aafb-872e63de3cb3",
   "metadata": {},
   "source": [
    "### Note:\n",
    "This notebook is used to estimate the number of load from elbow's EMG signal. The EMG data were collected during the elbow flexion and extension experiment with different loads. During the experiment, three types of loads are measured which are 5.5lbs, 8.8lbs, and 11.1lbs."
   ]
  },
  {
   "cell_type": "code",
   "execution_count": null,
   "id": "8d26fd29-ecee-4c4b-930c-9cd93ff6b27c",
   "metadata": {},
   "outputs": [],
   "source": [
    "import os\n",
    "import glob\n",
    "from tqdm import tqdm\n",
    "\n",
    "import torch\n",
    "import torch.nn as nn\n",
    "from torch.autograd import Variable\n",
    "import torch.nn.functional as F\n",
    "import torch.utils.data as Data\n",
    "import torch.optim as optim\n",
    "from torch.utils.data import Dataset, DataLoader, WeightedRandomSampler\n",
    "\n",
    "from sklearn.preprocessing import MinMaxScaler    \n",
    "from sklearn.model_selection import train_test_split\n",
    "from sklearn.metrics import mean_squared_error, r2_score\n",
    "\n",
    "import matplotlib.pyplot as plt\n",
    "import seaborn as sns\n",
    "\n",
    "import numpy as np\n",
    "import imageio\n",
    "\n",
    "import pandas as pd\n",
    "\n",
    "%matplotlib inline"
   ]
  },
  {
   "cell_type": "markdown",
   "id": "d7e6fad5-3cd3-474a-9b91-5bc75da38771",
   "metadata": {},
   "source": [
    "### Data preprocessing"
   ]
  },
  {
   "cell_type": "code",
   "execution_count": 3,
   "id": "8af7c0a1-ee2d-44c4-adf1-98def57f2def",
   "metadata": {},
   "outputs": [
    {
     "data": {
      "text/html": [
       "<div>\n",
       "<style scoped>\n",
       "    .dataframe tbody tr th:only-of-type {\n",
       "        vertical-align: middle;\n",
       "    }\n",
       "\n",
       "    .dataframe tbody tr th {\n",
       "        vertical-align: top;\n",
       "    }\n",
       "\n",
       "    .dataframe thead th {\n",
       "        text-align: right;\n",
       "    }\n",
       "</style>\n",
       "<table border=\"1\" class=\"dataframe\">\n",
       "  <thead>\n",
       "    <tr style=\"text-align: right;\">\n",
       "      <th></th>\n",
       "      <th>ch1</th>\n",
       "      <th>ch2</th>\n",
       "      <th>ch3</th>\n",
       "      <th>ch4</th>\n",
       "      <th>ch5</th>\n",
       "      <th>ch6</th>\n",
       "      <th>ch7</th>\n",
       "      <th>ch8</th>\n",
       "      <th>ch9</th>\n",
       "      <th>ch10</th>\n",
       "      <th>ch11</th>\n",
       "      <th>ch12</th>\n",
       "      <th>ch13</th>\n",
       "      <th>ch14</th>\n",
       "      <th>ch15</th>\n",
       "      <th>load</th>\n",
       "    </tr>\n",
       "  </thead>\n",
       "  <tbody>\n",
       "    <tr>\n",
       "      <th>0</th>\n",
       "      <td>-0.084833</td>\n",
       "      <td>0.336391</td>\n",
       "      <td>0.727666</td>\n",
       "      <td>0.284861</td>\n",
       "      <td>0.157216</td>\n",
       "      <td>0.150551</td>\n",
       "      <td>0.299531</td>\n",
       "      <td>0.145583</td>\n",
       "      <td>-0.026877</td>\n",
       "      <td>0.055283</td>\n",
       "      <td>0.000155</td>\n",
       "      <td>-0.111373</td>\n",
       "      <td>0.082754</td>\n",
       "      <td>0.028478</td>\n",
       "      <td>-0.023124</td>\n",
       "      <td>5.5</td>\n",
       "    </tr>\n",
       "    <tr>\n",
       "      <th>1</th>\n",
       "      <td>-0.046846</td>\n",
       "      <td>0.289916</td>\n",
       "      <td>0.538304</td>\n",
       "      <td>0.174659</td>\n",
       "      <td>0.194968</td>\n",
       "      <td>0.062330</td>\n",
       "      <td>0.227172</td>\n",
       "      <td>0.090609</td>\n",
       "      <td>0.020410</td>\n",
       "      <td>0.020337</td>\n",
       "      <td>-0.002328</td>\n",
       "      <td>-0.095761</td>\n",
       "      <td>0.071228</td>\n",
       "      <td>0.015774</td>\n",
       "      <td>-0.012425</td>\n",
       "      <td>5.5</td>\n",
       "    </tr>\n",
       "    <tr>\n",
       "      <th>2</th>\n",
       "      <td>-0.047517</td>\n",
       "      <td>0.263150</td>\n",
       "      <td>0.574644</td>\n",
       "      <td>0.187919</td>\n",
       "      <td>0.198232</td>\n",
       "      <td>0.091427</td>\n",
       "      <td>0.166249</td>\n",
       "      <td>0.101292</td>\n",
       "      <td>0.029889</td>\n",
       "      <td>0.016017</td>\n",
       "      <td>-0.003360</td>\n",
       "      <td>-0.094898</td>\n",
       "      <td>0.071989</td>\n",
       "      <td>0.014139</td>\n",
       "      <td>-0.015784</td>\n",
       "      <td>5.5</td>\n",
       "    </tr>\n",
       "    <tr>\n",
       "      <th>3</th>\n",
       "      <td>-0.043622</td>\n",
       "      <td>0.259777</td>\n",
       "      <td>0.472857</td>\n",
       "      <td>0.145080</td>\n",
       "      <td>0.184822</td>\n",
       "      <td>0.000898</td>\n",
       "      <td>0.089452</td>\n",
       "      <td>0.083603</td>\n",
       "      <td>0.053789</td>\n",
       "      <td>-0.008042</td>\n",
       "      <td>-0.007052</td>\n",
       "      <td>-0.088583</td>\n",
       "      <td>0.062830</td>\n",
       "      <td>0.009523</td>\n",
       "      <td>-0.006107</td>\n",
       "      <td>5.5</td>\n",
       "    </tr>\n",
       "    <tr>\n",
       "      <th>4</th>\n",
       "      <td>-0.052821</td>\n",
       "      <td>0.249013</td>\n",
       "      <td>0.505147</td>\n",
       "      <td>0.149475</td>\n",
       "      <td>0.212153</td>\n",
       "      <td>0.056851</td>\n",
       "      <td>0.121410</td>\n",
       "      <td>0.111416</td>\n",
       "      <td>0.107618</td>\n",
       "      <td>-0.001524</td>\n",
       "      <td>-0.003577</td>\n",
       "      <td>-0.089234</td>\n",
       "      <td>0.066249</td>\n",
       "      <td>0.011462</td>\n",
       "      <td>-0.010132</td>\n",
       "      <td>5.5</td>\n",
       "    </tr>\n",
       "  </tbody>\n",
       "</table>\n",
       "</div>"
      ],
      "text/plain": [
       "        ch1       ch2       ch3       ch4       ch5       ch6       ch7  \\\n",
       "0 -0.084833  0.336391  0.727666  0.284861  0.157216  0.150551  0.299531   \n",
       "1 -0.046846  0.289916  0.538304  0.174659  0.194968  0.062330  0.227172   \n",
       "2 -0.047517  0.263150  0.574644  0.187919  0.198232  0.091427  0.166249   \n",
       "3 -0.043622  0.259777  0.472857  0.145080  0.184822  0.000898  0.089452   \n",
       "4 -0.052821  0.249013  0.505147  0.149475  0.212153  0.056851  0.121410   \n",
       "\n",
       "        ch8       ch9      ch10      ch11      ch12      ch13      ch14  \\\n",
       "0  0.145583 -0.026877  0.055283  0.000155 -0.111373  0.082754  0.028478   \n",
       "1  0.090609  0.020410  0.020337 -0.002328 -0.095761  0.071228  0.015774   \n",
       "2  0.101292  0.029889  0.016017 -0.003360 -0.094898  0.071989  0.014139   \n",
       "3  0.083603  0.053789 -0.008042 -0.007052 -0.088583  0.062830  0.009523   \n",
       "4  0.111416  0.107618 -0.001524 -0.003577 -0.089234  0.066249  0.011462   \n",
       "\n",
       "       ch15  load  \n",
       "0 -0.023124   5.5  \n",
       "1 -0.012425   5.5  \n",
       "2 -0.015784   5.5  \n",
       "3 -0.006107   5.5  \n",
       "4 -0.010132   5.5  "
      ]
     },
     "execution_count": 3,
     "metadata": {},
     "output_type": "execute_result"
    }
   ],
   "source": [
    "# For load estimation\n",
    "\n",
    "path = r'D:\\GitHub\\EMG_regressive_model\\data\\1'\n",
    "all_files = glob.glob(path + \"/*csv\")\n",
    "dfList = []\n",
    "\n",
    "for filename in all_files:\n",
    "    df = pd.read_csv(filename)\n",
    "    df.head()\n",
    "    dfList.append(df)\n",
    "frame = pd.concat(dfList, axis = 1, ignore_index = False)\n",
    "frame.head()"
   ]
  },
  {
   "cell_type": "code",
   "execution_count": 4,
   "id": "27b7beea-6dd9-4284-90ea-f5d0f4650d0a",
   "metadata": {},
   "outputs": [
    {
     "data": {
      "text/plain": [
       "<AxesSubplot:xlabel='load', ylabel='count'>"
      ]
     },
     "execution_count": 4,
     "metadata": {},
     "output_type": "execute_result"
    },
    {
     "data": {
      "image/png": "[encoded data removed]",
      "text/plain": [
       "<Figure size 432x288 with 1 Axes>"
      ]
     },
     "metadata": {
      "needs_background": "light"
     },
     "output_type": "display_data"
    }
   ],
   "source": [
    "sns.countplot(x = 'load', data=frame)"
   ]
  },
  {
   "cell_type": "code",
   "execution_count": 6,
   "id": "c5f296bc-6f39-4a2c-8dc8-7edd0d74d836",
   "metadata": {},
   "outputs": [],
   "source": [
    "# create input and output data\n",
    "x = frame.iloc[:, 0:-1]\n",
    "y = frame.iloc[:, -1]\n",
    "\n",
    "# split the data into train, validate, and test set\n",
    "# because there is a class imblance, should use the stratify opton to make each set has identical distribution\n",
    "X_trainval, X_test, y_trainval, y_test = train_test_split(x, y)\n",
    "\n",
    "X_train, X_val, y_train, y_val = train_test_split(X_trainval, y_trainval, test_size=0.1)"
   ]
  },
  {
   "cell_type": "code",
   "execution_count": 7,
   "id": "8c39aa99-df52-46b4-a627-4ad02dd3b4aa",
   "metadata": {},
   "outputs": [],
   "source": [
    "X_train, y_train = np.array(X_train), np.array(y_train)\n",
    "X_val, y_val = np.array(X_val), np.array(y_val)\n",
    "X_test, y_test = np.array(X_test), np.array(y_test)"
   ]
  },
  {
   "cell_type": "code",
   "execution_count": 8,
   "id": "83a1d292-7fd7-49e1-b722-29faa513b984",
   "metadata": {},
   "outputs": [
    {
     "data": {
      "text/plain": [
       "Text(0.5, 1.0, 'Class distribution in test set')"
      ]
     },
     "execution_count": 8,
     "metadata": {},
     "output_type": "execute_result"
    },
    {
     "data": {
      "image/png": "[encoded data removed]",
      "text/plain": [
       "<Figure size 1800x504 with 3 Axes>"
      ]
     },
     "metadata": {
      "needs_background": "light"
     },
     "output_type": "display_data"
    }
   ],
   "source": [
    "def get_load_distribution(obj):\n",
    "    count_dict = {\n",
    "        'load_1': 0,\n",
    "        'load_2': 0,\n",
    "        'load_3': 0,\n",
    "    }\n",
    "    for i in obj:\n",
    "        if i == 5.5:\n",
    "            count_dict['load_1'] += 1\n",
    "        elif i == 8.88:\n",
    "            count_dict['load_2'] += 1\n",
    "        elif i == 11.1:\n",
    "            count_dict['load_3'] += 1\n",
    "        else:\n",
    "            print('Check load labels')\n",
    "    return count_dict\n",
    "fig, axes = plt.subplots(nrows = 1, ncols = 3, figsize = (25, 7))\n",
    "\n",
    "#Train\n",
    "sns.barplot(data=\n",
    "           pd.DataFrame.from_dict([get_load_distribution(y_train)]).melt(),\n",
    "           x = 'variable',\n",
    "           y = 'value',\n",
    "           hue = 'variable',\n",
    "           ax = axes[0]).set_title('Class distribution in train set')\n",
    "\n",
    "#Validation\n",
    "sns.barplot(data=\n",
    "           pd.DataFrame.from_dict([get_load_distribution(y_val)]).melt(),\n",
    "           x = 'variable',\n",
    "           y = 'value',\n",
    "           hue = 'variable',\n",
    "           ax = axes[1]).set_title('Class distribution in validation set')\n",
    "\n",
    "#Test\n",
    "sns.barplot(data=\n",
    "           pd.DataFrame.from_dict([get_load_distribution(y_test)]).melt(),\n",
    "           x = 'variable',\n",
    "           y = 'value',\n",
    "           hue = 'variable',\n",
    "           ax = axes[2]).set_title('Class distribution in test set')\n"
   ]
  },
  {
   "cell_type": "code",
   "execution_count": 9,
   "id": "8be33f3a-5713-4c59-8d92-aed81bc9ae6d",
   "metadata": {},
   "outputs": [],
   "source": [
    "y_train, y_test, y_val = y_train.astype(float), y_test.astype(float), y_val.astype(float)"
   ]
  },
  {
   "cell_type": "markdown",
   "id": "a3312e0b-98ba-4f31-9d53-a4bf3f20be5f",
   "metadata": {},
   "source": [
    "### Setup the Neural Network"
   ]
  },
  {
   "cell_type": "code",
   "execution_count": 10,
   "id": "0970d683",
   "metadata": {},
   "outputs": [
    {
     "data": {
      "text/plain": [
       "<torch._C.Generator at 0x1f34282d1b0>"
      ]
     },
     "execution_count": 10,
     "metadata": {},
     "output_type": "execute_result"
    }
   ],
   "source": [
    "#Reproducible\n",
    "torch.manual_seed(1)"
   ]
  },
  {
   "cell_type": "markdown",
   "id": "ad6a11ce",
   "metadata": {},
   "source": [
    "### Check whether the GPU is available"
   ]
  },
  {
   "cell_type": "code",
   "execution_count": 11,
   "id": "570fcf1f",
   "metadata": {},
   "outputs": [
    {
     "name": "stdout",
     "output_type": "stream",
     "text": [
      "cuda:0\n"
     ]
    }
   ],
   "source": [
    "device = torch.device(\"cuda:0\" if torch.cuda.is_available() else \"cpu\")\n",
    "print(device)"
   ]
  },
  {
   "cell_type": "code",
   "execution_count": 12,
   "id": "be20de9e-8b63-4f17-b347-d91dc1b83e4a",
   "metadata": {},
   "outputs": [],
   "source": [
    "class RegressionDataset(Dataset):\n",
    "    def __init__(self, x_data, y_data):\n",
    "        self.x_data = x_data\n",
    "        self.y_data = y_data\n",
    "    \n",
    "    def __getitem__(self, index):\n",
    "        return self.x_data[index], self.y_data[index]\n",
    "    \n",
    "    def __len__(self):\n",
    "        return len(self.x_data)"
   ]
  },
  {
   "cell_type": "code",
   "execution_count": 13,
   "id": "b72d4bb6-c5cf-43f7-9694-5a28e6800f1d",
   "metadata": {},
   "outputs": [],
   "source": [
    "train_dataset = RegressionDataset(torch.from_numpy(X_train).float(),\n",
    "                                 torch.from_numpy(y_train).float())\n",
    "test_dataset = RegressionDataset(torch.from_numpy(X_test).float(),\n",
    "                                torch.from_numpy(y_test).float())\n",
    "val_dataset = RegressionDataset(torch.from_numpy(X_val).float(),\n",
    "                               torch.from_numpy(y_val).float())"
   ]
  },
  {
   "cell_type": "markdown",
   "id": "70a908cc",
   "metadata": {},
   "source": [
    "### Build the feedforward neural network"
   ]
  },
  {
   "cell_type": "code",
   "execution_count": 14,
   "id": "f6b414c1-d7be-4044-8eb1-741b08bbe2a1",
   "metadata": {},
   "outputs": [],
   "source": [
    "class MultipleRegression(nn.Module):\n",
    "    def __init__(self, num_features):\n",
    "        super(MultipleRegression, self).__init__()\n",
    "        self.fc1 = nn.Linear(num_features, 64)\n",
    "        self.fc2 = nn.Linear(64, 128)\n",
    "        self.fc3 = nn.Linear(128, 64)\n",
    "        self.output = nn.Linear(64, 1)\n",
    "        \n",
    "        self.relu = nn.ReLU()\n",
    "    \n",
    "    def forward(self, inputs):\n",
    "        x = self.relu(self.fc1(inputs))\n",
    "        x = self.relu(self.fc2(x))\n",
    "        x = self.relu(self.fc3(x))\n",
    "        x = self.output(x)\n",
    "        \n",
    "        return x\n",
    "    \n",
    "    def predict(self, test_inputs):\n",
    "        x = self.relu(self.fc1(test_inputs))\n",
    "        x = self.relu(self.fc2(x))\n",
    "        x = self.relu(self.fc3(x))\n",
    "        x = self.output(x)\n",
    "        \n",
    "        return x\n",
    "        \n",
    "        "
   ]
  },
  {
   "cell_type": "code",
   "execution_count": 15,
   "id": "daa2e008-c244-4e0f-bce5-461688252fc1",
   "metadata": {},
   "outputs": [],
   "source": [
    "EPOCHS = 150\n",
    "BATCH_SIZE = 16\n",
    "LEARNING_RATE = 0.001\n",
    "NUM_FEATURES = len(x.columns)"
   ]
  },
  {
   "cell_type": "code",
   "execution_count": 16,
   "id": "cbcbfaf6-52ea-4fca-91f8-2e73d8449dbb",
   "metadata": {},
   "outputs": [],
   "source": [
    "train_loader = DataLoader(dataset=train_dataset, batch_size=BATCH_SIZE, shuffle=True)\n",
    "val_loader = DataLoader(dataset=val_dataset, batch_size=1)\n",
    "test_loader = DataLoader(dataset=test_dataset, batch_size=1)"
   ]
  },
  {
   "cell_type": "code",
   "execution_count": 17,
   "id": "f9ddb3a2-59b3-48a9-8161-b000d6798f54",
   "metadata": {},
   "outputs": [
    {
     "name": "stdout",
     "output_type": "stream",
     "text": [
      "MultipleRegression(\n",
      "  (fc1): Linear(in_features=15, out_features=64, bias=True)\n",
      "  (fc2): Linear(in_features=64, out_features=128, bias=True)\n",
      "  (fc3): Linear(in_features=128, out_features=64, bias=True)\n",
      "  (output): Linear(in_features=64, out_features=1, bias=True)\n",
      "  (relu): ReLU()\n",
      ")\n"
     ]
    }
   ],
   "source": [
    "model = MultipleRegression(NUM_FEATURES)\n",
    "model.to(device)\n",
    "\n",
    "print(model)\n",
    "\n",
    "criterion = nn.MSELoss()\n",
    "optimizer = optim.Adam(model.parameters(), lr = LEARNING_RATE)"
   ]
  },
  {
   "cell_type": "code",
   "execution_count": 18,
   "id": "769e1ada-e089-4f67-b8a2-a5b673e5f3b6",
   "metadata": {},
   "outputs": [],
   "source": [
    "# Define a dictionary which will store the loss / epoch for both train and validation sets\n",
    "loss_stats = {\n",
    "    'train':[],\n",
    "    'val':[]\n",
    "}"
   ]
  },
  {
   "cell_type": "markdown",
   "id": "b53da8ba",
   "metadata": {},
   "source": [
    "### Train the network"
   ]
  },
  {
   "cell_type": "code",
   "execution_count": 20,
   "id": "8781069c",
   "metadata": {},
   "outputs": [
    {
     "name": "stdout",
     "output_type": "stream",
     "text": [
      "=========Begin Training=========\n",
      "Epoch 001: | Train Loss: 0.00016 | Val Loss: 0.00152\n",
      "Epoch 002: | Train Loss: 0.00041 | Val Loss: 0.00139\n",
      "Epoch 003: | Train Loss: 0.00018 | Val Loss: 0.00259\n",
      "Epoch 004: | Train Loss: 0.00075 | Val Loss: 0.00246\n",
      "Epoch 005: | Train Loss: 0.00047 | Val Loss: 0.00665\n",
      "Epoch 006: | Train Loss: 0.00078 | Val Loss: 0.00145\n",
      "Epoch 007: | Train Loss: 0.00051 | Val Loss: 0.00185\n",
      "Epoch 008: | Train Loss: 0.00031 | Val Loss: 0.00277\n",
      "Epoch 009: | Train Loss: 0.00121 | Val Loss: 0.03233\n",
      "Epoch 010: | Train Loss: 0.00638 | Val Loss: 0.00770\n",
      "Epoch 011: | Train Loss: 0.00011 | Val Loss: 0.00222\n",
      "Epoch 012: | Train Loss: 0.00010 | Val Loss: 0.00287\n",
      "Epoch 013: | Train Loss: 0.00010 | Val Loss: 0.00363\n",
      "Epoch 014: | Train Loss: 0.00027 | Val Loss: 0.00383\n",
      "Epoch 015: | Train Loss: 0.00032 | Val Loss: 0.00371\n",
      "Epoch 016: | Train Loss: 0.00126 | Val Loss: 0.00190\n",
      "Epoch 017: | Train Loss: 0.00016 | Val Loss: 0.00362\n",
      "Epoch 018: | Train Loss: 0.00011 | Val Loss: 0.00349\n",
      "Epoch 019: | Train Loss: 0.00056 | Val Loss: 0.00440\n",
      "Epoch 020: | Train Loss: 0.00033 | Val Loss: 0.00390\n",
      "Epoch 021: | Train Loss: 0.00220 | Val Loss: 0.02074\n",
      "Epoch 022: | Train Loss: 0.00276 | Val Loss: 0.00288\n",
      "Epoch 023: | Train Loss: 0.00025 | Val Loss: 0.00047\n",
      "Epoch 024: | Train Loss: 0.00016 | Val Loss: 0.00051\n",
      "Epoch 025: | Train Loss: 0.00020 | Val Loss: 0.00059\n",
      "Epoch 026: | Train Loss: 0.00027 | Val Loss: 0.00047\n",
      "Epoch 027: | Train Loss: 0.00050 | Val Loss: 0.00126\n",
      "Epoch 028: | Train Loss: 0.00030 | Val Loss: 0.00028\n",
      "Epoch 029: | Train Loss: 0.00045 | Val Loss: 0.00054\n",
      "Epoch 030: | Train Loss: 0.00029 | Val Loss: 0.00093\n",
      "Epoch 031: | Train Loss: 0.00048 | Val Loss: 0.00108\n",
      "Epoch 032: | Train Loss: 0.00027 | Val Loss: 0.00189\n",
      "Epoch 033: | Train Loss: 0.00036 | Val Loss: 0.00330\n",
      "Epoch 034: | Train Loss: 0.00038 | Val Loss: 0.00236\n",
      "Epoch 035: | Train Loss: 0.00039 | Val Loss: 0.00324\n",
      "Epoch 036: | Train Loss: 0.00102 | Val Loss: 0.02616\n",
      "Epoch 037: | Train Loss: 0.00547 | Val Loss: 0.01129\n",
      "Epoch 038: | Train Loss: 0.00012 | Val Loss: 0.00541\n",
      "Epoch 039: | Train Loss: 0.00014 | Val Loss: 0.00613\n",
      "Epoch 040: | Train Loss: 0.00010 | Val Loss: 0.00638\n",
      "Epoch 041: | Train Loss: 0.00023 | Val Loss: 0.00715\n",
      "Epoch 042: | Train Loss: 0.00034 | Val Loss: 0.00654\n",
      "Epoch 043: | Train Loss: 0.00053 | Val Loss: 0.00636\n",
      "Epoch 044: | Train Loss: 0.00080 | Val Loss: 0.00703\n",
      "Epoch 045: | Train Loss: 0.00013 | Val Loss: 0.00164\n",
      "Epoch 046: | Train Loss: 0.00036 | Val Loss: 0.00508\n",
      "Epoch 047: | Train Loss: 0.00046 | Val Loss: 0.00449\n",
      "Epoch 048: | Train Loss: 0.00012 | Val Loss: 0.00399\n",
      "Epoch 049: | Train Loss: 0.00025 | Val Loss: 0.00366\n",
      "Epoch 050: | Train Loss: 0.00053 | Val Loss: 0.00378\n",
      "Epoch 051: | Train Loss: 0.00016 | Val Loss: 0.00506\n",
      "Epoch 052: | Train Loss: 0.00032 | Val Loss: 0.00628\n",
      "Epoch 053: | Train Loss: 0.00040 | Val Loss: 0.00080\n",
      "Epoch 054: | Train Loss: 0.00011 | Val Loss: 0.00072\n",
      "Epoch 055: | Train Loss: 0.00049 | Val Loss: 0.00266\n",
      "Epoch 056: | Train Loss: 0.00091 | Val Loss: 0.00223\n",
      "Epoch 057: | Train Loss: 0.00222 | Val Loss: 0.00818\n",
      "Epoch 058: | Train Loss: 0.00006 | Val Loss: 0.00859\n",
      "Epoch 059: | Train Loss: 0.00006 | Val Loss: 0.00847\n",
      "Epoch 060: | Train Loss: 0.00013 | Val Loss: 0.00966\n",
      "Epoch 061: | Train Loss: 0.00047 | Val Loss: 0.00722\n",
      "Epoch 062: | Train Loss: 0.00050 | Val Loss: 0.00773\n",
      "Epoch 063: | Train Loss: 0.00020 | Val Loss: 0.00588\n",
      "Epoch 064: | Train Loss: 0.00013 | Val Loss: 0.00789\n",
      "Epoch 065: | Train Loss: 0.00040 | Val Loss: 0.00762\n",
      "Epoch 066: | Train Loss: 0.00024 | Val Loss: 0.01036\n",
      "Epoch 067: | Train Loss: 0.00011 | Val Loss: 0.00672\n",
      "Epoch 068: | Train Loss: 0.00035 | Val Loss: 0.00743\n",
      "Epoch 069: | Train Loss: 0.00666 | Val Loss: 0.00018\n",
      "Epoch 070: | Train Loss: 0.00009 | Val Loss: 0.00161\n",
      "Epoch 071: | Train Loss: 0.00006 | Val Loss: 0.00224\n",
      "Epoch 072: | Train Loss: 0.00006 | Val Loss: 0.00260\n",
      "Epoch 073: | Train Loss: 0.00009 | Val Loss: 0.00324\n",
      "Epoch 074: | Train Loss: 0.00026 | Val Loss: 0.00461\n",
      "Epoch 075: | Train Loss: 0.00035 | Val Loss: 0.00421\n",
      "Epoch 076: | Train Loss: 0.00820 | Val Loss: 0.01558\n",
      "Epoch 077: | Train Loss: 0.00123 | Val Loss: 0.00018\n",
      "Epoch 078: | Train Loss: 0.00012 | Val Loss: 0.00931\n",
      "Epoch 079: | Train Loss: 0.00005 | Val Loss: 0.00830\n",
      "Epoch 080: | Train Loss: 0.00004 | Val Loss: 0.00830\n",
      "Epoch 081: | Train Loss: 0.00012 | Val Loss: 0.00706\n",
      "Epoch 082: | Train Loss: 0.00020 | Val Loss: 0.00700\n",
      "Epoch 083: | Train Loss: 0.00022 | Val Loss: 0.00676\n",
      "Epoch 084: | Train Loss: 0.00020 | Val Loss: 0.00763\n",
      "Epoch 085: | Train Loss: 0.00023 | Val Loss: 0.00710\n",
      "Epoch 086: | Train Loss: 0.00040 | Val Loss: 0.00671\n",
      "Epoch 087: | Train Loss: 0.00012 | Val Loss: 0.00681\n",
      "Epoch 088: | Train Loss: 0.00022 | Val Loss: 0.00586\n",
      "Epoch 089: | Train Loss: 0.01118 | Val Loss: 0.00397\n",
      "Epoch 090: | Train Loss: 0.00008 | Val Loss: 0.00361\n",
      "Epoch 091: | Train Loss: 0.00005 | Val Loss: 0.00453\n",
      "Epoch 092: | Train Loss: 0.00004 | Val Loss: 0.00496\n",
      "Epoch 093: | Train Loss: 0.00005 | Val Loss: 0.00564\n",
      "Epoch 094: | Train Loss: 0.00008 | Val Loss: 0.00509\n",
      "Epoch 095: | Train Loss: 0.00015 | Val Loss: 0.00562\n",
      "Epoch 096: | Train Loss: 0.00058 | Val Loss: 0.00721\n",
      "Epoch 097: | Train Loss: 0.00748 | Val Loss: 0.00480\n",
      "Epoch 098: | Train Loss: 0.00015 | Val Loss: 0.00078\n",
      "Epoch 099: | Train Loss: 0.00012 | Val Loss: 0.00108\n",
      "Epoch 100: | Train Loss: 0.00014 | Val Loss: 0.00059\n",
      "Epoch 101: | Train Loss: 0.00011 | Val Loss: 0.00065\n",
      "Epoch 102: | Train Loss: 0.00018 | Val Loss: 0.00043\n",
      "Epoch 103: | Train Loss: 0.00025 | Val Loss: 0.00054\n",
      "Epoch 104: | Train Loss: 0.00025 | Val Loss: 0.00078\n",
      "Epoch 105: | Train Loss: 0.00018 | Val Loss: 0.00042\n",
      "Epoch 106: | Train Loss: 0.00026 | Val Loss: 0.00017\n",
      "Epoch 107: | Train Loss: 0.00032 | Val Loss: 0.00010\n",
      "Epoch 108: | Train Loss: 0.00722 | Val Loss: 0.00023\n",
      "Epoch 109: | Train Loss: 0.00043 | Val Loss: 0.00218\n",
      "Epoch 110: | Train Loss: 0.00005 | Val Loss: 0.00198\n",
      "Epoch 111: | Train Loss: 0.00007 | Val Loss: 0.00206\n",
      "Epoch 112: | Train Loss: 0.00009 | Val Loss: 0.00269\n",
      "Epoch 113: | Train Loss: 0.00013 | Val Loss: 0.00579\n",
      "Epoch 114: | Train Loss: 0.00017 | Val Loss: 0.00149\n",
      "Epoch 115: | Train Loss: 0.00044 | Val Loss: 0.00097\n",
      "Epoch 116: | Train Loss: 0.00022 | Val Loss: 0.00143\n",
      "Epoch 117: | Train Loss: 0.00038 | Val Loss: 0.00172\n",
      "Epoch 118: | Train Loss: 0.00019 | Val Loss: 0.00057\n",
      "Epoch 119: | Train Loss: 0.00010 | Val Loss: 0.00072\n",
      "Epoch 120: | Train Loss: 0.00026 | Val Loss: 0.00058\n",
      "Epoch 121: | Train Loss: 0.00020 | Val Loss: 0.00070\n",
      "Epoch 122: | Train Loss: 0.00025 | Val Loss: 0.00049\n",
      "Epoch 123: | Train Loss: 0.00009 | Val Loss: 0.00062\n",
      "Epoch 124: | Train Loss: 0.00047 | Val Loss: 0.00040\n",
      "Epoch 125: | Train Loss: 0.00009 | Val Loss: 0.00200\n",
      "Epoch 126: | Train Loss: 0.00016 | Val Loss: 0.00084\n",
      "Epoch 127: | Train Loss: 0.00013 | Val Loss: 0.00177\n",
      "Epoch 128: | Train Loss: 0.00062 | Val Loss: 0.00246\n",
      "Epoch 129: | Train Loss: 0.00710 | Val Loss: 0.00012\n",
      "Epoch 130: | Train Loss: 0.00010 | Val Loss: 0.00006\n",
      "Epoch 131: | Train Loss: 0.00004 | Val Loss: 0.00013\n",
      "Epoch 132: | Train Loss: 0.00003 | Val Loss: 0.00018\n",
      "Epoch 133: | Train Loss: 0.00004 | Val Loss: 0.00030\n",
      "Epoch 134: | Train Loss: 0.00010 | Val Loss: 0.00389\n",
      "Epoch 135: | Train Loss: 0.00023 | Val Loss: 0.00036\n",
      "Epoch 136: | Train Loss: 0.00021 | Val Loss: 0.00057\n",
      "Epoch 137: | Train Loss: 0.00012 | Val Loss: 0.00075\n",
      "Epoch 138: | Train Loss: 0.00024 | Val Loss: 0.00073\n",
      "Epoch 139: | Train Loss: 0.00015 | Val Loss: 0.00126\n",
      "Epoch 140: | Train Loss: 0.00034 | Val Loss: 0.00164\n",
      "Epoch 141: | Train Loss: 0.00005 | Val Loss: 0.00129\n",
      "Epoch 142: | Train Loss: 0.00117 | Val Loss: 0.00226\n",
      "Epoch 143: | Train Loss: 0.00212 | Val Loss: 0.00378\n",
      "Epoch 144: | Train Loss: 0.00005 | Val Loss: 0.00195\n",
      "Epoch 145: | Train Loss: 0.00004 | Val Loss: 0.00225\n",
      "Epoch 146: | Train Loss: 0.00003 | Val Loss: 0.00265\n",
      "Epoch 147: | Train Loss: 0.00008 | Val Loss: 0.00252\n",
      "Epoch 148: | Train Loss: 0.00019 | Val Loss: 0.00340\n",
      "Epoch 149: | Train Loss: 0.00025 | Val Loss: 0.00325\n",
      "Epoch 150: | Train Loss: 0.00010 | Val Loss: 0.00310\n"
     ]
    }
   ],
   "source": [
    "print('=========Begin Training=========')\n",
    "for e in range(1, EPOCHS+1):\n",
    "    \n",
    "    #TRAINING\n",
    "    train_epoch_loss = 0\n",
    "    model.train()\n",
    "    \n",
    "    for X_train_batch, y_train_batch in train_loader:\n",
    "        X_train_batch, y_train_batch = X_train_batch.to(device), y_train_batch.to(device)\n",
    "        optimizer.zero_grad()\n",
    "        \n",
    "        y_train_pred = model(X_train_batch)\n",
    "        \n",
    "        train_loss = criterion(y_train_pred, y_train_batch.unsqueeze(1))\n",
    "        \n",
    "        train_loss.backward()\n",
    "        optimizer.step()\n",
    "        \n",
    "        train_epoch_loss += train_loss.item()\n",
    "    \n",
    "    #VALIDATION\n",
    "    with torch.no_grad():\n",
    "        \n",
    "        val_epoch_loss = 0\n",
    "        \n",
    "        model.eval()\n",
    "        for X_val_batch, y_val_batch in val_loader:\n",
    "            X_val_batch, y_val_batch = X_val_batch.to(device), y_val_batch.to(device)\n",
    "            \n",
    "            y_val_pred = model(X_val_batch)\n",
    "            \n",
    "            val_loss = criterion(y_val_pred, y_val_batch.unsqueeze(1))\n",
    "            \n",
    "            val_epoch_loss += val_loss.item()\n",
    "            \n",
    "    loss_stats['train'].append(train_epoch_loss / len(train_loader))\n",
    "    loss_stats['val'].append(val_epoch_loss / len(val_loader))\n",
    "    \n",
    "    print(f'Epoch {e+0:03}: | Train Loss: {train_epoch_loss/len(train_loader):.5f} | Val Loss: {val_epoch_loss/len(val_loader):.5f}')\n",
    "    \n",
    "    "
   ]
  },
  {
   "cell_type": "markdown",
   "id": "bb69f83d-0464-49bb-a32f-b73e1ef0e17b",
   "metadata": {},
   "source": [
    "### Post processing\n",
    "1. Vsiualize loss and accuracy\n",
    "2. Test trained model"
   ]
  },
  {
   "cell_type": "code",
   "execution_count": 22,
   "id": "3c1a58b7-8a54-4cff-a3c4-a3ebc18ddc13",
   "metadata": {},
   "outputs": [
    {
     "data": {
      "text/plain": [
       "Text(0.5, 1.0, 'Train-Val Loss/Epoch')"
      ]
     },
     "execution_count": 22,
     "metadata": {},
     "output_type": "execute_result"
    },
    {
     "data": {
      "image/png": "[encoded data removed]",
      "text/plain": [
       "<Figure size 1080x576 with 1 Axes>"
      ]
     },
     "metadata": {
      "needs_background": "light"
     },
     "output_type": "display_data"
    }
   ],
   "source": [
    "train_val_loss_df = pd.DataFrame.from_dict(loss_stats).reset_index().melt(id_vars=['index']).rename(columns={\"index\":\"epochs\"})\n",
    "plt.figure(figsize=(15,8))\n",
    "sns.lineplot(data=train_val_loss_df, x = \"epochs\", y=\"value\", hue=\"variable\").set_title('Train-Val Loss/Epoch')"
   ]
  },
  {
   "cell_type": "code",
   "execution_count": 23,
   "id": "84433825-4df5-4452-a367-e854d6cffd42",
   "metadata": {},
   "outputs": [],
   "source": [
    "y_pred_list = []\n",
    "\n",
    "with torch.no_grad():\n",
    "    model.eval()\n",
    "    for X_batch, _ in test_loader:\n",
    "        X_batch = X_batch.to(device)\n",
    "        y_test_pred = model(X_batch)\n",
    "        y_pred_list.append(y_test_pred.cpu().numpy())"
   ]
  },
  {
   "cell_type": "code",
   "execution_count": 24,
   "id": "3e570b69-85dd-4ae4-93f2-5945d19d083c",
   "metadata": {},
   "outputs": [],
   "source": [
    "y_pred_list = [a.squeeze().tolist() for a in y_pred_list]"
   ]
  },
  {
   "cell_type": "code",
   "execution_count": 25,
   "id": "6a35e059-ee8a-4982-906a-ddf40b1eb72b",
   "metadata": {},
   "outputs": [
    {
     "name": "stdout",
     "output_type": "stream",
     "text": [
      "Mean Squared Error : 0.0006865468554288525\n",
      "R^2 : 0.9998673104370672\n"
     ]
    }
   ],
   "source": [
    "mse = mean_squared_error(y_test, y_pred_list)\n",
    "r_square = r2_score(y_test, y_pred_list)\n",
    "\n",
    "print(\"Mean Squared Error :\",mse)\n",
    "print(\"R^2 :\",r_square)"
   ]
  },
  {
   "cell_type": "code",
   "execution_count": null,
   "id": "27e17b7e-7c91-4b94-a3bc-14f2ab8b76bd",
   "metadata": {},
   "outputs": [],
   "source": []
  }
 ],
 "metadata": {
  "kernelspec": {
   "display_name": "Python 3",
   "language": "python",
   "name": "python3"
  },
  "language_info": {
   "codemirror_mode": {
    "name": "ipython",
    "version": 3
   },
   "file_extension": ".py",
   "mimetype": "text/x-python",
   "name": "python",
   "nbconvert_exporter": "python",
   "pygments_lexer": "ipython3",
   "version": "3.9.5"
  }
 },
 "nbformat": 4,
 "nbformat_minor": 5
}
