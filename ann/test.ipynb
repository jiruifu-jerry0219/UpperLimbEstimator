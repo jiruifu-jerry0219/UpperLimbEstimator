{
 "cells": [
  {
   "cell_type": "code",
   "execution_count": 1,
   "id": "ac513e02-c4a8-4434-9ee1-144d5c253aeb",
   "metadata": {},
   "outputs": [],
   "source": [
    "import torch\n",
    "import torch.nn as nn\n",
    "from torch.autograd import Variable\n",
    "import torch.nn.functional as F\n",
    "import torch.utils.data as Data\n",
    "import torch.optim as optim\n",
    "from torch.utils.data import Dataset, DataLoader, WeightedRandomSampler"
   ]
  },
  {
   "cell_type": "code",
   "execution_count": 14,
   "id": "04cf0cfa-653a-410e-9e12-a614c26be09e",
   "metadata": {},
   "outputs": [
    {
     "name": "stdout",
     "output_type": "stream",
     "text": [
      "1 and 2\n",
      "2 and 3\n",
      "3 and 4\n",
      "4 and 5\n",
      "5 and 6\n",
      "6 and 7\n",
      "7 and 8\n",
      "8 and 9\n",
      "9 and 10\n",
      "10 and 11\n",
      "11 and 12\n",
      "12 and 13\n",
      "13 and 14\n",
      "14 and 15\n",
      "15 and 16\n",
      "16 and 17\n",
      "17 and 18\n",
      "18 and 19\n",
      "19 and 20\n",
      "20 and 21\n",
      "21 and 22\n",
      "22 and 23\n",
      "23 and 24\n",
      "24 and 25\n",
      "25 and 26\n",
      "26 and 27\n",
      "27 and 28\n",
      "28 and 29\n",
      "29 and 30\n",
      "30 and 31\n",
      "31 and 32\n",
      "32 and 33\n",
      "33 and 34\n",
      "34 and 35\n"
     ]
    }
   ],
   "source": [
    "a = [x for x in range(1, 36) ]\n",
    "\n",
    "for i in range(len(a) - 1):\n",
    "    print(a[i], 'and', a[i + 1])"
   ]
  },
  {
   "cell_type": "code",
   "execution_count": 4,
   "id": "f8e0e8a2-8a26-4396-8218-387b00a9fa3f",
   "metadata": {},
   "outputs": [
    {
     "data": {
      "text/plain": [
       "1"
      ]
     },
     "execution_count": 4,
     "metadata": {},
     "output_type": "execute_result"
    }
   ],
   "source": [
    "class MLP(nn.Module):\n",
    "    def __init__(self, in_size, h_size, out_size):\n",
    "        super(MLP, self).__init__()\n",
    "        self.input = nn.Linear(in_size, h_size[0])\n",
    "        self.hidden = nn.ModuleList()\n",
    "        for k in range(len(h_size) - 1):\n",
    "            self.hidden.append(nn.Linear(h_size[k]))"
   ]
  },
  {
   "cell_type": "code",
   "execution_count": null,
   "id": "3a398620-1935-437a-944b-2f0fec2060d4",
   "metadata": {},
   "outputs": [],
   "source": []
  }
 ],
 "metadata": {
  "kernelspec": {
   "display_name": "Python 3",
   "language": "python",
   "name": "python3"
  },
  "language_info": {
   "codemirror_mode": {
    "name": "ipython",
    "version": 3
   },
   "file_extension": ".py",
   "mimetype": "text/x-python",
   "name": "python",
   "nbconvert_exporter": "python",
   "pygments_lexer": "ipython3",
   "version": "3.9.5"
  }
 },
 "nbformat": 4,
 "nbformat_minor": 5
}
