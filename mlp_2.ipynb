{
 "cells": [
  {
   "cell_type": "markdown",
   "id": "455480b6-7d8b-4be6-a827-6d68f00bfa0a",
   "metadata": {},
   "source": []
  },
  {
   "cell_type": "code",
   "execution_count": 1,
   "id": "280f3c3b-cdac-49ec-b42c-5eecf507d360",
   "metadata": {},
   "outputs": [],
   "source": [
    "import os\n",
    "import glob\n",
    "from tqdm import tqdm\n",
    "\n",
    "import torch\n",
    "import torch.nn as nn\n",
    "from torch.autograd import Variable\n",
    "import torch.nn.functional as F\n",
    "import torch.utils.data as Data\n",
    "import torch.optim as optim\n",
    "from torch.utils.data import Dataset, DataLoader, WeightedRandomSampler\n",
    "\n",
    "from sklearn.preprocessing import MinMaxScaler    \n",
    "from sklearn.model_selection import train_test_split\n",
    "from sklearn.metrics import mean_squared_error, r2_score\n",
    "\n",
    "import matplotlib.pyplot as plt\n",
    "import seaborn as sns\n",
    "\n",
    "import numpy as np\n",
    "import imageio\n",
    "\n",
    "import pandas as pd\n",
    "\n",
    "%matplotlib inline"
   ]
  },
  {
   "cell_type": "markdown",
   "id": "d7e6fad5-3cd3-474a-9b91-5bc75da38771",
   "metadata": {},
   "source": [
    "### Data preprocessing"
   ]
  },
  {
   "cell_type": "code",
   "execution_count": 2,
   "id": "8af7c0a1-ee2d-44c4-adf1-98def57f2def",
   "metadata": {},
   "outputs": [
    {
     "data": {
      "text/html": [
       "<div>\n",
       "<style scoped>\n",
       "    .dataframe tbody tr th:only-of-type {\n",
       "        vertical-align: middle;\n",
       "    }\n",
       "\n",
       "    .dataframe tbody tr th {\n",
       "        vertical-align: top;\n",
       "    }\n",
       "\n",
       "    .dataframe thead th {\n",
       "        text-align: right;\n",
       "    }\n",
       "</style>\n",
       "<table border=\"1\" class=\"dataframe\">\n",
       "  <thead>\n",
       "    <tr style=\"text-align: right;\">\n",
       "      <th></th>\n",
       "      <th>ch1</th>\n",
       "      <th>ch2</th>\n",
       "      <th>ch3</th>\n",
       "      <th>ch4</th>\n",
       "      <th>ch5</th>\n",
       "      <th>ch6</th>\n",
       "      <th>ch7</th>\n",
       "      <th>ch8</th>\n",
       "      <th>ch9</th>\n",
       "      <th>ch10</th>\n",
       "      <th>ch11</th>\n",
       "      <th>ch12</th>\n",
       "      <th>ch13</th>\n",
       "      <th>ch14</th>\n",
       "      <th>ch15</th>\n",
       "      <th>joint_angle</th>\n",
       "    </tr>\n",
       "  </thead>\n",
       "  <tbody>\n",
       "    <tr>\n",
       "      <th>0</th>\n",
       "      <td>0.000000</td>\n",
       "      <td>0.000000</td>\n",
       "      <td>0.000017</td>\n",
       "      <td>0.001201</td>\n",
       "      <td>0.000000</td>\n",
       "      <td>0.002466</td>\n",
       "      <td>2.690000e-06</td>\n",
       "      <td>0.000000e+00</td>\n",
       "      <td>0.000011</td>\n",
       "      <td>0.25</td>\n",
       "      <td>0.666667</td>\n",
       "      <td>0.0</td>\n",
       "      <td>0.5</td>\n",
       "      <td>1.0</td>\n",
       "      <td>0.0</td>\n",
       "      <td>1.195211</td>\n",
       "    </tr>\n",
       "    <tr>\n",
       "      <th>1</th>\n",
       "      <td>0.001852</td>\n",
       "      <td>0.000148</td>\n",
       "      <td>0.001041</td>\n",
       "      <td>0.004637</td>\n",
       "      <td>0.000448</td>\n",
       "      <td>0.013558</td>\n",
       "      <td>2.840000e-05</td>\n",
       "      <td>4.030000e-07</td>\n",
       "      <td>0.000208</td>\n",
       "      <td>0.00</td>\n",
       "      <td>0.000000</td>\n",
       "      <td>0.0</td>\n",
       "      <td>0.0</td>\n",
       "      <td>0.0</td>\n",
       "      <td>0.5</td>\n",
       "      <td>1.190142</td>\n",
       "    </tr>\n",
       "    <tr>\n",
       "      <th>2</th>\n",
       "      <td>0.004361</td>\n",
       "      <td>0.000536</td>\n",
       "      <td>0.010023</td>\n",
       "      <td>0.003521</td>\n",
       "      <td>0.000924</td>\n",
       "      <td>0.017291</td>\n",
       "      <td>1.720000e-05</td>\n",
       "      <td>5.460000e-07</td>\n",
       "      <td>0.000349</td>\n",
       "      <td>0.00</td>\n",
       "      <td>0.333333</td>\n",
       "      <td>0.0</td>\n",
       "      <td>0.0</td>\n",
       "      <td>0.0</td>\n",
       "      <td>0.0</td>\n",
       "      <td>1.185074</td>\n",
       "    </tr>\n",
       "    <tr>\n",
       "      <th>3</th>\n",
       "      <td>0.005189</td>\n",
       "      <td>0.000417</td>\n",
       "      <td>0.008359</td>\n",
       "      <td>0.000692</td>\n",
       "      <td>0.002204</td>\n",
       "      <td>0.025504</td>\n",
       "      <td>8.370000e-07</td>\n",
       "      <td>4.080000e-06</td>\n",
       "      <td>0.000714</td>\n",
       "      <td>0.25</td>\n",
       "      <td>0.333333</td>\n",
       "      <td>0.0</td>\n",
       "      <td>0.0</td>\n",
       "      <td>0.5</td>\n",
       "      <td>0.0</td>\n",
       "      <td>1.180009</td>\n",
       "    </tr>\n",
       "    <tr>\n",
       "      <th>4</th>\n",
       "      <td>0.003663</td>\n",
       "      <td>0.000805</td>\n",
       "      <td>0.008346</td>\n",
       "      <td>0.004482</td>\n",
       "      <td>0.005426</td>\n",
       "      <td>0.041961</td>\n",
       "      <td>2.580000e-05</td>\n",
       "      <td>3.220000e-05</td>\n",
       "      <td>0.001778</td>\n",
       "      <td>0.00</td>\n",
       "      <td>0.000000</td>\n",
       "      <td>0.0</td>\n",
       "      <td>0.0</td>\n",
       "      <td>0.5</td>\n",
       "      <td>0.5</td>\n",
       "      <td>1.174926</td>\n",
       "    </tr>\n",
       "  </tbody>\n",
       "</table>\n",
       "</div>"
      ],
      "text/plain": [
       "        ch1       ch2       ch3       ch4       ch5       ch6           ch7  \\\n",
       "0  0.000000  0.000000  0.000017  0.001201  0.000000  0.002466  2.690000e-06   \n",
       "1  0.001852  0.000148  0.001041  0.004637  0.000448  0.013558  2.840000e-05   \n",
       "2  0.004361  0.000536  0.010023  0.003521  0.000924  0.017291  1.720000e-05   \n",
       "3  0.005189  0.000417  0.008359  0.000692  0.002204  0.025504  8.370000e-07   \n",
       "4  0.003663  0.000805  0.008346  0.004482  0.005426  0.041961  2.580000e-05   \n",
       "\n",
       "            ch8       ch9  ch10      ch11  ch12  ch13  ch14  ch15  joint_angle  \n",
       "0  0.000000e+00  0.000011  0.25  0.666667   0.0   0.5   1.0   0.0     1.195211  \n",
       "1  4.030000e-07  0.000208  0.00  0.000000   0.0   0.0   0.0   0.5     1.190142  \n",
       "2  5.460000e-07  0.000349  0.00  0.333333   0.0   0.0   0.0   0.0     1.185074  \n",
       "3  4.080000e-06  0.000714  0.25  0.333333   0.0   0.0   0.5   0.0     1.180009  \n",
       "4  3.220000e-05  0.001778  0.00  0.000000   0.0   0.0   0.5   0.5     1.174926  "
      ]
     },
     "execution_count": 2,
     "metadata": {},
     "output_type": "execute_result"
    }
   ],
   "source": [
    "# For load estimation\n",
    "\n",
    "path = r'D:\\GitHub\\EMG_regressive_model\\data\\2'\n",
    "all_files = glob.glob(path + \"/*csv\")\n",
    "dfList = []\n",
    "\n",
    "for filename in all_files:\n",
    "    df = pd.read_csv(filename)\n",
    "    df.head()\n",
    "    dfList.append(df)\n",
    "frame = pd.concat(dfList, axis = 1, ignore_index = False)\n",
    "frame.head()"
   ]
  },
  {
   "cell_type": "code",
   "execution_count": 3,
   "id": "c5f296bc-6f39-4a2c-8dc8-7edd0d74d836",
   "metadata": {},
   "outputs": [],
   "source": [
    "# create input and output data\n",
    "x = frame.iloc[:, 0:-1]\n",
    "y = frame.iloc[:, -1]\n",
    "\n",
    "# split the data into train, validate, and test set\n",
    "# because there is a class imblance, should use the stratify opton to make each set has identical distribution\n",
    "X_trainval, X_test, y_trainval, y_test = train_test_split(x, y)\n",
    "\n",
    "X_train, X_val, y_train, y_val = train_test_split(X_trainval, y_trainval, test_size=0.1)"
   ]
  },
  {
   "cell_type": "code",
   "execution_count": 4,
   "id": "8c39aa99-df52-46b4-a627-4ad02dd3b4aa",
   "metadata": {},
   "outputs": [],
   "source": [
    "X_train, y_train = np.array(X_train), np.array(y_train)\n",
    "X_val, y_val = np.array(X_val), np.array(y_val)\n",
    "X_test, y_test = np.array(X_test), np.array(y_test)"
   ]
  },
  {
   "cell_type": "code",
   "execution_count": 5,
   "id": "8be33f3a-5713-4c59-8d92-aed81bc9ae6d",
   "metadata": {},
   "outputs": [],
   "source": [
    "y_train, y_test, y_val = y_train.astype(float), y_test.astype(float), y_val.astype(float)"
   ]
  },
  {
   "cell_type": "markdown",
   "id": "a3312e0b-98ba-4f31-9d53-a4bf3f20be5f",
   "metadata": {},
   "source": [
    "### Setup the Neural Network"
   ]
  },
  {
   "cell_type": "code",
   "execution_count": 6,
   "id": "0970d683",
   "metadata": {},
   "outputs": [
    {
     "data": {
      "text/plain": [
       "<torch._C.Generator at 0x1ee59f920b0>"
      ]
     },
     "execution_count": 6,
     "metadata": {},
     "output_type": "execute_result"
    }
   ],
   "source": [
    "#Reproducible\n",
    "torch.manual_seed(1)"
   ]
  },
  {
   "cell_type": "markdown",
   "id": "ad6a11ce",
   "metadata": {},
   "source": [
    "### Check whether the GPU is available"
   ]
  },
  {
   "cell_type": "code",
   "execution_count": 7,
   "id": "570fcf1f",
   "metadata": {},
   "outputs": [
    {
     "name": "stdout",
     "output_type": "stream",
     "text": [
      "cuda:0\n"
     ]
    }
   ],
   "source": [
    "device = torch.device(\"cuda:0\" if torch.cuda.is_available() else \"cpu\")\n",
    "print(device)"
   ]
  },
  {
   "cell_type": "code",
   "execution_count": 8,
   "id": "be20de9e-8b63-4f17-b347-d91dc1b83e4a",
   "metadata": {},
   "outputs": [],
   "source": [
    "class RegressionDataset(Dataset):\n",
    "    def __init__(self, x_data, y_data):\n",
    "        self.x_data = x_data\n",
    "        self.y_data = y_data\n",
    "    \n",
    "    def __getitem__(self, index):\n",
    "        return self.x_data[index], self.y_data[index]\n",
    "    \n",
    "    def __len__(self):\n",
    "        return len(self.x_data)"
   ]
  },
  {
   "cell_type": "code",
   "execution_count": 9,
   "id": "b72d4bb6-c5cf-43f7-9694-5a28e6800f1d",
   "metadata": {},
   "outputs": [],
   "source": [
    "train_dataset = RegressionDataset(torch.from_numpy(X_train).float(),\n",
    "                                 torch.from_numpy(y_train).float())\n",
    "test_dataset = RegressionDataset(torch.from_numpy(X_test).float(),\n",
    "                                torch.from_numpy(y_test).float())\n",
    "val_dataset = RegressionDataset(torch.from_numpy(X_val).float(),\n",
    "                               torch.from_numpy(y_val).float())"
   ]
  },
  {
   "cell_type": "markdown",
   "id": "70a908cc",
   "metadata": {},
   "source": [
    "### Build the feedforward neural network"
   ]
  },
  {
   "cell_type": "code",
   "execution_count": 10,
   "id": "f6b414c1-d7be-4044-8eb1-741b08bbe2a1",
   "metadata": {},
   "outputs": [],
   "source": [
    "class MultipleRegression(nn.Module):\n",
    "    def __init__(self, num_features):\n",
    "        super(MultipleRegression, self).__init__()\n",
    "        self.fc1 = nn.Linear(num_features, 64)\n",
    "        self.fc2 = nn.Linear(64, 128)\n",
    "        self.fc3 = nn.Linear(128, 64)\n",
    "        self.output = nn.Linear(64, 1)\n",
    "        \n",
    "        self.relu = nn.ReLU()\n",
    "    \n",
    "    def forward(self, inputs):\n",
    "        x = self.relu(self.fc1(inputs))\n",
    "        x = self.relu(self.fc2(x))\n",
    "        x = self.relu(self.fc3(x))\n",
    "        x = self.output(x)\n",
    "        \n",
    "        return x\n",
    "    \n",
    "    def predict(self, test_inputs):\n",
    "        x = self.relu(self.fc1(test_inputs))\n",
    "        x = self.relu(self.fc2(x))\n",
    "        x = self.relu(self.fc3(x))\n",
    "        x = self.output(x)\n",
    "        \n",
    "        return x\n",
    "        \n",
    "        "
   ]
  },
  {
   "cell_type": "code",
   "execution_count": 11,
   "id": "daa2e008-c244-4e0f-bce5-461688252fc1",
   "metadata": {},
   "outputs": [],
   "source": [
    "EPOCHS = 150\n",
    "BATCH_SIZE = 1\n",
    "LEARNING_RATE = 0.001\n",
    "NUM_FEATURES = len(x.columns)"
   ]
  },
  {
   "cell_type": "code",
   "execution_count": 12,
   "id": "cbcbfaf6-52ea-4fca-91f8-2e73d8449dbb",
   "metadata": {},
   "outputs": [],
   "source": [
    "train_loader = DataLoader(dataset=train_dataset, batch_size=BATCH_SIZE, shuffle=True)\n",
    "val_loader = DataLoader(dataset=val_dataset, batch_size=1)\n",
    "test_loader = DataLoader(dataset=test_dataset, batch_size=1)"
   ]
  },
  {
   "cell_type": "code",
   "execution_count": 13,
   "id": "f9ddb3a2-59b3-48a9-8161-b000d6798f54",
   "metadata": {},
   "outputs": [
    {
     "name": "stdout",
     "output_type": "stream",
     "text": [
      "MultipleRegression(\n",
      "  (fc1): Linear(in_features=15, out_features=64, bias=True)\n",
      "  (fc2): Linear(in_features=64, out_features=128, bias=True)\n",
      "  (fc3): Linear(in_features=128, out_features=64, bias=True)\n",
      "  (output): Linear(in_features=64, out_features=1, bias=True)\n",
      "  (relu): ReLU()\n",
      ")\n"
     ]
    }
   ],
   "source": [
    "model = MultipleRegression(NUM_FEATURES)\n",
    "model.to(device)\n",
    "\n",
    "print(model)\n",
    "\n",
    "criterion = nn.MSELoss()\n",
    "optimizer = optim.Adam(model.parameters(), lr = LEARNING_RATE)"
   ]
  },
  {
   "cell_type": "code",
   "execution_count": 14,
   "id": "769e1ada-e089-4f67-b8a2-a5b673e5f3b6",
   "metadata": {},
   "outputs": [],
   "source": [
    "# Define a dictionary which will store the loss / epoch for both train and validation sets\n",
    "loss_stats = {\n",
    "    'train':[],\n",
    "    'val':[]\n",
    "}"
   ]
  },
  {
   "cell_type": "markdown",
   "id": "b53da8ba",
   "metadata": {},
   "source": [
    "### Train the network"
   ]
  },
  {
   "cell_type": "code",
   "execution_count": 15,
   "id": "8781069c",
   "metadata": {},
   "outputs": [
    {
     "name": "stdout",
     "output_type": "stream",
     "text": [
      "=========Begin Training=========\n",
      "Epoch 001: | Train Loss: 2414.69449 | Val Loss: 2150.98090\n",
      "Epoch 002: | Train Loss: 2014.97834 | Val Loss: 2062.44646\n",
      "Epoch 003: | Train Loss: 1958.61181 | Val Loss: 1953.99220\n",
      "Epoch 004: | Train Loss: 1886.48849 | Val Loss: 1909.29521\n",
      "Epoch 005: | Train Loss: 1843.19790 | Val Loss: 1803.43370\n",
      "Epoch 006: | Train Loss: 1791.13093 | Val Loss: 1856.50688\n",
      "Epoch 007: | Train Loss: 1759.51733 | Val Loss: 1703.25730\n",
      "Epoch 008: | Train Loss: 1726.60880 | Val Loss: 1925.28699\n",
      "Epoch 009: | Train Loss: 1692.57221 | Val Loss: 1725.88783\n",
      "Epoch 010: | Train Loss: 1660.00641 | Val Loss: 1642.45264\n",
      "Epoch 011: | Train Loss: 1621.90035 | Val Loss: 1711.50716\n",
      "Epoch 012: | Train Loss: 1612.75083 | Val Loss: 1688.83759\n",
      "Epoch 013: | Train Loss: 1592.70862 | Val Loss: 1727.87130\n",
      "Epoch 014: | Train Loss: 1583.81696 | Val Loss: 1611.55417\n",
      "Epoch 015: | Train Loss: 1568.55149 | Val Loss: 1608.82995\n",
      "Epoch 016: | Train Loss: 1559.09909 | Val Loss: 1648.70178\n",
      "Epoch 017: | Train Loss: 1553.24647 | Val Loss: 1732.66633\n",
      "Epoch 018: | Train Loss: 1550.32169 | Val Loss: 1619.99397\n",
      "Epoch 019: | Train Loss: 1524.05106 | Val Loss: 1649.73948\n",
      "Epoch 020: | Train Loss: 1520.52774 | Val Loss: 1674.34041\n",
      "Epoch 021: | Train Loss: 1512.91644 | Val Loss: 1733.30072\n",
      "Epoch 022: | Train Loss: 1510.11394 | Val Loss: 1680.10637\n",
      "Epoch 023: | Train Loss: 1506.80958 | Val Loss: 1621.79675\n",
      "Epoch 024: | Train Loss: 1492.27874 | Val Loss: 1689.01989\n",
      "Epoch 025: | Train Loss: 1493.76155 | Val Loss: 1626.84360\n",
      "Epoch 026: | Train Loss: 1479.82691 | Val Loss: 1755.19027\n",
      "Epoch 027: | Train Loss: 1476.24894 | Val Loss: 1653.10445\n",
      "Epoch 028: | Train Loss: 1460.06548 | Val Loss: 1674.25324\n",
      "Epoch 029: | Train Loss: 1471.21167 | Val Loss: 1633.89336\n",
      "Epoch 030: | Train Loss: 1459.66410 | Val Loss: 1626.18977\n",
      "Epoch 031: | Train Loss: 1449.85022 | Val Loss: 1753.75972\n",
      "Epoch 032: | Train Loss: 1440.57060 | Val Loss: 1685.35317\n",
      "Epoch 033: | Train Loss: 1441.65043 | Val Loss: 1760.22876\n",
      "Epoch 034: | Train Loss: 1448.92785 | Val Loss: 1675.41363\n",
      "Epoch 035: | Train Loss: 1429.71779 | Val Loss: 1622.22370\n",
      "Epoch 036: | Train Loss: 1436.03995 | Val Loss: 1652.59310\n",
      "Epoch 037: | Train Loss: 1420.30201 | Val Loss: 1686.69445\n",
      "Epoch 038: | Train Loss: 1425.59863 | Val Loss: 1727.73648\n",
      "Epoch 039: | Train Loss: 1415.89333 | Val Loss: 1713.48094\n",
      "Epoch 040: | Train Loss: 1420.76424 | Val Loss: 1689.56098\n",
      "Epoch 041: | Train Loss: 1410.31139 | Val Loss: 1665.95361\n",
      "Epoch 042: | Train Loss: 1402.73430 | Val Loss: 1662.97253\n",
      "Epoch 043: | Train Loss: 1396.68531 | Val Loss: 1636.76120\n",
      "Epoch 044: | Train Loss: 1398.28201 | Val Loss: 1636.49764\n",
      "Epoch 045: | Train Loss: 1389.29979 | Val Loss: 1651.43132\n",
      "Epoch 046: | Train Loss: 1403.38194 | Val Loss: 1630.77823\n",
      "Epoch 047: | Train Loss: 1384.71043 | Val Loss: 1718.27301\n",
      "Epoch 048: | Train Loss: 1373.05044 | Val Loss: 1657.06339\n",
      "Epoch 049: | Train Loss: 1380.03238 | Val Loss: 1648.08502\n",
      "Epoch 050: | Train Loss: 1372.00134 | Val Loss: 1615.19242\n",
      "Epoch 051: | Train Loss: 1363.22300 | Val Loss: 1644.13048\n",
      "Epoch 052: | Train Loss: 1369.16370 | Val Loss: 1659.70466\n",
      "Epoch 053: | Train Loss: 1366.73020 | Val Loss: 1675.87021\n",
      "Epoch 054: | Train Loss: 1356.05711 | Val Loss: 1701.76486\n",
      "Epoch 055: | Train Loss: 1368.89385 | Val Loss: 1698.70823\n",
      "Epoch 056: | Train Loss: 1351.85887 | Val Loss: 1691.29440\n",
      "Epoch 057: | Train Loss: 1351.93693 | Val Loss: 1613.61141\n",
      "Epoch 058: | Train Loss: 1340.35719 | Val Loss: 1676.69344\n",
      "Epoch 059: | Train Loss: 1339.97782 | Val Loss: 1812.97919\n",
      "Epoch 060: | Train Loss: 1343.67679 | Val Loss: 1667.80962\n",
      "Epoch 061: | Train Loss: 1333.32495 | Val Loss: 1703.16049\n",
      "Epoch 062: | Train Loss: 1322.68701 | Val Loss: 1686.91232\n",
      "Epoch 063: | Train Loss: 1309.02610 | Val Loss: 1685.78011\n",
      "Epoch 064: | Train Loss: 1317.03340 | Val Loss: 1673.63415\n",
      "Epoch 065: | Train Loss: 1316.35558 | Val Loss: 1688.75469\n",
      "Epoch 066: | Train Loss: 1318.04262 | Val Loss: 1769.51096\n",
      "Epoch 067: | Train Loss: 1307.51342 | Val Loss: 1706.34501\n",
      "Epoch 068: | Train Loss: 1299.30543 | Val Loss: 1749.33400\n",
      "Epoch 069: | Train Loss: 1287.92618 | Val Loss: 1780.85361\n",
      "Epoch 070: | Train Loss: 1295.44463 | Val Loss: 1636.60374\n",
      "Epoch 071: | Train Loss: 1293.98048 | Val Loss: 1703.28410\n",
      "Epoch 072: | Train Loss: 1281.62933 | Val Loss: 1734.28571\n",
      "Epoch 073: | Train Loss: 1282.39158 | Val Loss: 1671.38594\n",
      "Epoch 074: | Train Loss: 1275.15780 | Val Loss: 1760.92945\n",
      "Epoch 075: | Train Loss: 1278.03888 | Val Loss: 1733.74945\n",
      "Epoch 076: | Train Loss: 1275.39552 | Val Loss: 1692.27557\n",
      "Epoch 077: | Train Loss: 1271.08258 | Val Loss: 1708.28436\n",
      "Epoch 078: | Train Loss: 1261.69320 | Val Loss: 1722.04583\n",
      "Epoch 079: | Train Loss: 1250.54478 | Val Loss: 1741.04940\n",
      "Epoch 080: | Train Loss: 1238.29009 | Val Loss: 1674.85269\n",
      "Epoch 081: | Train Loss: 1242.55141 | Val Loss: 1690.55880\n",
      "Epoch 082: | Train Loss: 1222.19657 | Val Loss: 1834.47671\n",
      "Epoch 083: | Train Loss: 1247.73455 | Val Loss: 1662.93016\n",
      "Epoch 084: | Train Loss: 1223.96461 | Val Loss: 1779.41035\n",
      "Epoch 085: | Train Loss: 1240.53727 | Val Loss: 1751.22519\n",
      "Epoch 086: | Train Loss: 1219.61580 | Val Loss: 1742.32860\n",
      "Epoch 087: | Train Loss: 1214.75057 | Val Loss: 1762.92282\n",
      "Epoch 088: | Train Loss: 1203.50832 | Val Loss: 1765.58255\n",
      "Epoch 089: | Train Loss: 1206.75838 | Val Loss: 1744.84265\n",
      "Epoch 090: | Train Loss: 1195.19301 | Val Loss: 1746.59528\n",
      "Epoch 091: | Train Loss: 1192.70326 | Val Loss: 1822.11366\n",
      "Epoch 092: | Train Loss: 1194.12724 | Val Loss: 1747.52263\n",
      "Epoch 093: | Train Loss: 1179.25340 | Val Loss: 1711.24469\n",
      "Epoch 094: | Train Loss: 1185.57896 | Val Loss: 1796.47911\n",
      "Epoch 095: | Train Loss: 1172.06952 | Val Loss: 1758.71627\n",
      "Epoch 096: | Train Loss: 1171.95434 | Val Loss: 1752.11369\n",
      "Epoch 097: | Train Loss: 1161.11608 | Val Loss: 1821.92333\n",
      "Epoch 098: | Train Loss: 1146.72856 | Val Loss: 1768.63853\n",
      "Epoch 099: | Train Loss: 1144.46544 | Val Loss: 1767.47656\n",
      "Epoch 100: | Train Loss: 1144.42811 | Val Loss: 1827.26674\n",
      "Epoch 101: | Train Loss: 1139.91501 | Val Loss: 1821.87583\n",
      "Epoch 102: | Train Loss: 1133.82082 | Val Loss: 1753.67918\n",
      "Epoch 103: | Train Loss: 1126.89632 | Val Loss: 1773.05661\n",
      "Epoch 104: | Train Loss: 1125.97091 | Val Loss: 1812.11966\n",
      "Epoch 105: | Train Loss: 1116.76416 | Val Loss: 1888.48058\n",
      "Epoch 106: | Train Loss: 1108.37175 | Val Loss: 1857.55253\n",
      "Epoch 107: | Train Loss: 1092.69806 | Val Loss: 1872.80538\n",
      "Epoch 108: | Train Loss: 1105.15378 | Val Loss: 1882.23662\n",
      "Epoch 109: | Train Loss: 1110.95882 | Val Loss: 1799.81540\n",
      "Epoch 110: | Train Loss: 1095.70382 | Val Loss: 1825.76751\n",
      "Epoch 111: | Train Loss: 1084.72008 | Val Loss: 1837.30378\n",
      "Epoch 112: | Train Loss: 1083.57495 | Val Loss: 1943.05037\n",
      "Epoch 113: | Train Loss: 1073.63646 | Val Loss: 1884.74724\n",
      "Epoch 114: | Train Loss: 1061.31338 | Val Loss: 1894.88322\n",
      "Epoch 115: | Train Loss: 1067.07872 | Val Loss: 1878.77139\n",
      "Epoch 116: | Train Loss: 1060.91199 | Val Loss: 1879.02039\n",
      "Epoch 117: | Train Loss: 1069.05015 | Val Loss: 1905.51738\n",
      "Epoch 118: | Train Loss: 1038.88050 | Val Loss: 1848.73071\n",
      "Epoch 119: | Train Loss: 1054.87893 | Val Loss: 1906.43042\n",
      "Epoch 120: | Train Loss: 1034.07737 | Val Loss: 1904.49909\n",
      "Epoch 121: | Train Loss: 1032.77232 | Val Loss: 1871.75906\n",
      "Epoch 122: | Train Loss: 1018.43606 | Val Loss: 1888.99143\n",
      "Epoch 123: | Train Loss: 1025.27503 | Val Loss: 1892.06652\n",
      "Epoch 124: | Train Loss: 1007.36380 | Val Loss: 1954.90166\n",
      "Epoch 125: | Train Loss: 1011.72966 | Val Loss: 1947.97532\n",
      "Epoch 126: | Train Loss: 1005.01995 | Val Loss: 1936.75476\n",
      "Epoch 127: | Train Loss: 1007.17346 | Val Loss: 1897.52197\n",
      "Epoch 128: | Train Loss: 969.40014 | Val Loss: 1988.13411\n",
      "Epoch 129: | Train Loss: 988.39085 | Val Loss: 1922.09713\n",
      "Epoch 130: | Train Loss: 961.69790 | Val Loss: 1961.24011\n",
      "Epoch 131: | Train Loss: 961.13387 | Val Loss: 1900.80910\n",
      "Epoch 132: | Train Loss: 978.25169 | Val Loss: 1949.14952\n",
      "Epoch 133: | Train Loss: 959.18214 | Val Loss: 2002.70599\n",
      "Epoch 134: | Train Loss: 961.51228 | Val Loss: 2024.75463\n",
      "Epoch 135: | Train Loss: 947.66356 | Val Loss: 1986.43345\n",
      "Epoch 136: | Train Loss: 941.02978 | Val Loss: 1959.41288\n",
      "Epoch 137: | Train Loss: 945.69693 | Val Loss: 2044.94537\n",
      "Epoch 138: | Train Loss: 930.62612 | Val Loss: 2043.65660\n",
      "Epoch 139: | Train Loss: 915.49738 | Val Loss: 2023.36095\n",
      "Epoch 140: | Train Loss: 923.20644 | Val Loss: 2023.33808\n",
      "Epoch 141: | Train Loss: 901.75469 | Val Loss: 2161.88599\n",
      "Epoch 142: | Train Loss: 895.53478 | Val Loss: 2026.91985\n",
      "Epoch 143: | Train Loss: 905.10251 | Val Loss: 2031.25788\n",
      "Epoch 144: | Train Loss: 898.15279 | Val Loss: 2041.94213\n",
      "Epoch 145: | Train Loss: 868.75002 | Val Loss: 2118.60331\n",
      "Epoch 146: | Train Loss: 890.26608 | Val Loss: 2121.13263\n",
      "Epoch 147: | Train Loss: 877.61617 | Val Loss: 2164.11018\n",
      "Epoch 148: | Train Loss: 880.65398 | Val Loss: 2052.54324\n",
      "Epoch 149: | Train Loss: 864.86747 | Val Loss: 2024.57428\n",
      "Epoch 150: | Train Loss: 856.78263 | Val Loss: 2110.45418\n"
     ]
    }
   ],
   "source": [
    "print('=========Begin Training=========')\n",
    "for e in range(1, EPOCHS+1):\n",
    "    \n",
    "    #TRAINING\n",
    "    train_epoch_loss = 0\n",
    "    model.train()\n",
    "    \n",
    "    for X_train_batch, y_train_batch in train_loader:\n",
    "        X_train_batch, y_train_batch = X_train_batch.to(device), y_train_batch.to(device)\n",
    "        optimizer.zero_grad()\n",
    "        \n",
    "        y_train_pred = model(X_train_batch)\n",
    "        \n",
    "        train_loss = criterion(y_train_pred, y_train_batch.unsqueeze(1))\n",
    "        \n",
    "        train_loss.backward()\n",
    "        optimizer.step()\n",
    "        \n",
    "        train_epoch_loss += train_loss.item()\n",
    "    \n",
    "    #VALIDATION\n",
    "    with torch.no_grad():\n",
    "        \n",
    "        val_epoch_loss = 0\n",
    "        \n",
    "        model.eval()\n",
    "        for X_val_batch, y_val_batch in val_loader:\n",
    "            X_val_batch, y_val_batch = X_val_batch.to(device), y_val_batch.to(device)\n",
    "            \n",
    "            y_val_pred = model(X_val_batch)\n",
    "            \n",
    "            val_loss = criterion(y_val_pred, y_val_batch.unsqueeze(1))\n",
    "            \n",
    "            val_epoch_loss += val_loss.item()\n",
    "            \n",
    "    loss_stats['train'].append(train_epoch_loss / len(train_loader))\n",
    "    loss_stats['val'].append(val_epoch_loss / len(val_loader))\n",
    "    \n",
    "    print(f'Epoch {e+0:03}: | Train Loss: {train_epoch_loss/len(train_loader):.5f} | Val Loss: {val_epoch_loss/len(val_loader):.5f}')\n",
    "    \n",
    "    "
   ]
  },
  {
   "cell_type": "markdown",
   "id": "bb69f83d-0464-49bb-a32f-b73e1ef0e17b",
   "metadata": {},
   "source": [
    "### Post processing\n",
    "1. Vsiualize loss and accuracy\n",
    "2. Test trained model"
   ]
  },
  {
   "cell_type": "code",
   "execution_count": 151,
   "id": "3c1a58b7-8a54-4cff-a3c4-a3ebc18ddc13",
   "metadata": {},
   "outputs": [
    {
     "data": {
      "text/plain": [
       "Text(0.5, 1.0, 'Train-Val Loss/Epoch')"
      ]
     },
     "execution_count": 151,
     "metadata": {},
     "output_type": "execute_result"
    },
    {
     "data": {
      "image/png": "[encoded data removed]",
      "text/plain": [
       "<Figure size 1080x576 with 1 Axes>"
      ]
     },
     "metadata": {
      "needs_background": "light"
     },
     "output_type": "display_data"
    }
   ],
   "source": [
    "train_val_loss_df = pd.DataFrame.from_dict(loss_stats).reset_index().melt(id_vars=['index']).rename(columns={\"index\":\"epochs\"})\n",
    "plt.figure(figsize=(15,8))\n",
    "sns.lineplot(data=train_val_loss_df, x = \"epochs\", y=\"value\", hue=\"variable\").set_title('Train-Val Loss/Epoch')"
   ]
  },
  {
   "cell_type": "code",
   "execution_count": 152,
   "id": "84433825-4df5-4452-a367-e854d6cffd42",
   "metadata": {},
   "outputs": [],
   "source": [
    "y_pred_list = []\n",
    "\n",
    "with torch.no_grad():\n",
    "    model.eval()\n",
    "    for X_batch, _ in test_loader:\n",
    "        X_batch = X_batch.to(device)\n",
    "        y_test_pred = model(X_batch)\n",
    "        y_pred_list.append(y_test_pred.cpu().numpy())"
   ]
  },
  {
   "cell_type": "code",
   "execution_count": 153,
   "id": "3e570b69-85dd-4ae4-93f2-5945d19d083c",
   "metadata": {},
   "outputs": [],
   "source": [
    "y_pred_list = [a.squeeze().tolist() for a in y_pred_list]"
   ]
  },
  {
   "cell_type": "code",
   "execution_count": 154,
   "id": "6a35e059-ee8a-4982-906a-ddf40b1eb72b",
   "metadata": {},
   "outputs": [
    {
     "name": "stdout",
     "output_type": "stream",
     "text": [
      "Mean Squared Error : 1869.701144728248\n",
      "R^2 : 0.4007045328591635\n"
     ]
    }
   ],
   "source": [
    "mse = mean_squared_error(y_test, y_pred_list)\n",
    "r_square = r2_score(y_test, y_pred_list)\n",
    "\n",
    "print(\"Mean Squared Error :\",mse)\n",
    "print(\"R^2 :\",r_square)"
   ]
  },
  {
   "cell_type": "code",
   "execution_count": null,
   "id": "27e17b7e-7c91-4b94-a3bc-14f2ab8b76bd",
   "metadata": {},
   "outputs": [],
   "source": []
  }
 ],
 "metadata": {
  "kernelspec": {
   "display_name": "Python 3",
   "language": "python",
   "name": "python3"
  },
  "language_info": {
   "codemirror_mode": {
    "name": "ipython",
    "version": 3
   },
   "file_extension": ".py",
   "mimetype": "text/x-python",
   "name": "python",
   "nbconvert_exporter": "python",
   "pygments_lexer": "ipython3",
   "version": "3.9.5"
  }
 },
 "nbformat": 4,
 "nbformat_minor": 5
}
