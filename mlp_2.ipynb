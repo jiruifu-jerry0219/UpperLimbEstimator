{
 "cells": [
  {
   "cell_type": "markdown",
   "id": "455480b6-7d8b-4be6-a827-6d68f00bfa0a",
   "metadata": {},
   "source": [
    "### Note:\n",
    "This notebook is used to estimate the joint angle through the EMG signal"
   ]
  },
  {
   "cell_type": "code",
   "execution_count": 2,
   "id": "3d6b8734-7ba9-4797-bdd3-aafa798db14f",
   "metadata": {},
   "outputs": [
    {
     "name": "stdout",
     "output_type": "stream",
     "text": [
      "Collecting imageio\n",
      "  Downloading imageio-2.9.0-py3-none-any.whl (3.3 MB)\n",
      "\u001b[K     |████████████████████████████████| 3.3 MB 253 kB/s eta 0:00:01\n",
      "\u001b[?25hRequirement already satisfied: pillow in /home/jerry/.virtualenvs/torch/lib/python3.8/site-packages (from imageio) (8.2.0)\n",
      "Requirement already satisfied: numpy in /home/jerry/.virtualenvs/torch/lib/python3.8/site-packages (from imageio) (1.20.3)\n",
      "Installing collected packages: imageio\n",
      "Successfully installed imageio-2.9.0\n",
      "\u001b[33mWARNING: You are using pip version 21.1.1; however, version 21.1.2 is available.\n",
      "You should consider upgrading via the '/home/jerry/.virtualenvs/torch/bin/python -m pip install --upgrade pip' command.\u001b[0m\n"
     ]
    }
   ],
   "source": [
    "!pip install imag"
   ]
  },
  {
   "cell_type": "code",
   "execution_count": 1,
   "id": "280f3c3b-cdac-49ec-b42c-5eecf507d360",
   "metadata": {},
   "outputs": [],
   "source": [
    "import os\n",
    "import glob\n",
    "from tqdm import tqdm\n",
    "\n",
    "import torch\n",
    "import torch.nn as nn\n",
    "from torch.autograd import Variable\n",
    "import torch.nn.functional as F\n",
    "import torch.utils.data as Data\n",
    "import torch.optim as optim\n",
    "from torch.utils.data import Dataset, DataLoader, WeightedRandomSampler\n",
    "\n",
    "from sklearn.preprocessing import MinMaxScaler    \n",
    "from sklearn.model_selection import train_test_split\n",
    "from sklearn.metrics import mean_squared_error, r2_score\n",
    "\n",
    "import matplotlib.pyplot as plt\n",
    "import seaborn as sns\n",
    "\n",
    "import numpy as np\n",
    "import imageio\n",
    "\n",
    "import pandas as pd\n",
    "\n",
    "%matplotlib inline"
   ]
  },
  {
   "cell_type": "markdown",
   "id": "d7e6fad5-3cd3-474a-9b91-5bc75da38771",
   "metadata": {},
   "source": [
    "### Data preprocessing"
   ]
  },
  {
   "cell_type": "code",
   "execution_count": 2,
   "id": "8af7c0a1-ee2d-44c4-adf1-98def57f2def",
   "metadata": {},
   "outputs": [
    {
     "data": {
      "text/html": [
       "<div>\n",
       "<style scoped>\n",
       "    .dataframe tbody tr th:only-of-type {\n",
       "        vertical-align: middle;\n",
       "    }\n",
       "\n",
       "    .dataframe tbody tr th {\n",
       "        vertical-align: top;\n",
       "    }\n",
       "\n",
       "    .dataframe thead th {\n",
       "        text-align: right;\n",
       "    }\n",
       "</style>\n",
       "<table border=\"1\" class=\"dataframe\">\n",
       "  <thead>\n",
       "    <tr style=\"text-align: right;\">\n",
       "      <th></th>\n",
       "      <th>ch1</th>\n",
       "      <th>ch2</th>\n",
       "      <th>ch3</th>\n",
       "      <th>ch4</th>\n",
       "      <th>ch5</th>\n",
       "      <th>ch6</th>\n",
       "      <th>ch7</th>\n",
       "      <th>ch8</th>\n",
       "      <th>ch9</th>\n",
       "      <th>ch10</th>\n",
       "      <th>ch11</th>\n",
       "      <th>ch12</th>\n",
       "      <th>ch13</th>\n",
       "      <th>ch14</th>\n",
       "      <th>ch15</th>\n",
       "      <th>joint_angle</th>\n",
       "    </tr>\n",
       "  </thead>\n",
       "  <tbody>\n",
       "    <tr>\n",
       "      <th>0</th>\n",
       "      <td>0.000000</td>\n",
       "      <td>0.000000</td>\n",
       "      <td>0.000017</td>\n",
       "      <td>0.001201</td>\n",
       "      <td>0.000000</td>\n",
       "      <td>0.002466</td>\n",
       "      <td>2.690000e-06</td>\n",
       "      <td>0.000000e+00</td>\n",
       "      <td>0.000011</td>\n",
       "      <td>0.25</td>\n",
       "      <td>0.666667</td>\n",
       "      <td>0.0</td>\n",
       "      <td>0.5</td>\n",
       "      <td>1.0</td>\n",
       "      <td>0.0</td>\n",
       "      <td>1.195211</td>\n",
       "    </tr>\n",
       "    <tr>\n",
       "      <th>1</th>\n",
       "      <td>0.001852</td>\n",
       "      <td>0.000148</td>\n",
       "      <td>0.001041</td>\n",
       "      <td>0.004637</td>\n",
       "      <td>0.000448</td>\n",
       "      <td>0.013558</td>\n",
       "      <td>2.840000e-05</td>\n",
       "      <td>4.030000e-07</td>\n",
       "      <td>0.000208</td>\n",
       "      <td>0.00</td>\n",
       "      <td>0.000000</td>\n",
       "      <td>0.0</td>\n",
       "      <td>0.0</td>\n",
       "      <td>0.0</td>\n",
       "      <td>0.5</td>\n",
       "      <td>1.190142</td>\n",
       "    </tr>\n",
       "    <tr>\n",
       "      <th>2</th>\n",
       "      <td>0.004361</td>\n",
       "      <td>0.000536</td>\n",
       "      <td>0.010023</td>\n",
       "      <td>0.003521</td>\n",
       "      <td>0.000924</td>\n",
       "      <td>0.017291</td>\n",
       "      <td>1.720000e-05</td>\n",
       "      <td>5.460000e-07</td>\n",
       "      <td>0.000349</td>\n",
       "      <td>0.00</td>\n",
       "      <td>0.333333</td>\n",
       "      <td>0.0</td>\n",
       "      <td>0.0</td>\n",
       "      <td>0.0</td>\n",
       "      <td>0.0</td>\n",
       "      <td>1.185074</td>\n",
       "    </tr>\n",
       "    <tr>\n",
       "      <th>3</th>\n",
       "      <td>0.005189</td>\n",
       "      <td>0.000417</td>\n",
       "      <td>0.008359</td>\n",
       "      <td>0.000692</td>\n",
       "      <td>0.002204</td>\n",
       "      <td>0.025504</td>\n",
       "      <td>8.370000e-07</td>\n",
       "      <td>4.080000e-06</td>\n",
       "      <td>0.000714</td>\n",
       "      <td>0.25</td>\n",
       "      <td>0.333333</td>\n",
       "      <td>0.0</td>\n",
       "      <td>0.0</td>\n",
       "      <td>0.5</td>\n",
       "      <td>0.0</td>\n",
       "      <td>1.180009</td>\n",
       "    </tr>\n",
       "    <tr>\n",
       "      <th>4</th>\n",
       "      <td>0.003663</td>\n",
       "      <td>0.000805</td>\n",
       "      <td>0.008346</td>\n",
       "      <td>0.004482</td>\n",
       "      <td>0.005426</td>\n",
       "      <td>0.041961</td>\n",
       "      <td>2.580000e-05</td>\n",
       "      <td>3.220000e-05</td>\n",
       "      <td>0.001778</td>\n",
       "      <td>0.00</td>\n",
       "      <td>0.000000</td>\n",
       "      <td>0.0</td>\n",
       "      <td>0.0</td>\n",
       "      <td>0.5</td>\n",
       "      <td>0.5</td>\n",
       "      <td>1.174926</td>\n",
       "    </tr>\n",
       "  </tbody>\n",
       "</table>\n",
       "</div>"
      ],
      "text/plain": [
       "        ch1       ch2       ch3       ch4       ch5       ch6           ch7  \\\n",
       "0  0.000000  0.000000  0.000017  0.001201  0.000000  0.002466  2.690000e-06   \n",
       "1  0.001852  0.000148  0.001041  0.004637  0.000448  0.013558  2.840000e-05   \n",
       "2  0.004361  0.000536  0.010023  0.003521  0.000924  0.017291  1.720000e-05   \n",
       "3  0.005189  0.000417  0.008359  0.000692  0.002204  0.025504  8.370000e-07   \n",
       "4  0.003663  0.000805  0.008346  0.004482  0.005426  0.041961  2.580000e-05   \n",
       "\n",
       "            ch8       ch9  ch10      ch11  ch12  ch13  ch14  ch15  joint_angle  \n",
       "0  0.000000e+00  0.000011  0.25  0.666667   0.0   0.5   1.0   0.0     1.195211  \n",
       "1  4.030000e-07  0.000208  0.00  0.000000   0.0   0.0   0.0   0.5     1.190142  \n",
       "2  5.460000e-07  0.000349  0.00  0.333333   0.0   0.0   0.0   0.0     1.185074  \n",
       "3  4.080000e-06  0.000714  0.25  0.333333   0.0   0.0   0.5   0.0     1.180009  \n",
       "4  3.220000e-05  0.001778  0.00  0.000000   0.0   0.0   0.5   0.5     1.174926  "
      ]
     },
     "execution_count": 2,
     "metadata": {},
     "output_type": "execute_result"
    }
   ],
   "source": [
    "# For load estimation\n",
    "\n",
    "# path = r'/home/jerry/ghworkspace/EMG_regressive_model/data/2'\n",
    "path = r'D:\\GitHub\\EMG_regressive_model\\data\\2'\n",
    "all_files = glob.glob(path + \"/*csv\")\n",
    "dfList = []\n",
    "\n",
    "for filename in all_files:\n",
    "    df = pd.read_csv(filename)\n",
    "    df.head()\n",
    "    dfList.append(df)\n",
    "frame = pd.concat(dfList, axis = 1, ignore_index = False)\n",
    "frame.head()"
   ]
  },
  {
   "cell_type": "code",
   "execution_count": 3,
   "id": "c5f296bc-6f39-4a2c-8dc8-7edd0d74d836",
   "metadata": {},
   "outputs": [],
   "source": [
    "# create input and output data\n",
    "x = frame.iloc[:, 0:-1]\n",
    "y = frame.iloc[:, -1]\n",
    "\n",
    "# split the data into train, validate, and test set\n",
    "# because there is a class imblance, should use the stratify opton to make each set has identical distribution\n",
    "X_trainval, X_test, y_trainval, y_test = train_test_split(x, y)\n",
    "\n",
    "X_train, X_val, y_train, y_val = train_test_split(X_trainval, y_trainval, test_size=0.1)"
   ]
  },
  {
   "cell_type": "code",
   "execution_count": 4,
   "id": "8c39aa99-df52-46b4-a627-4ad02dd3b4aa",
   "metadata": {},
   "outputs": [],
   "source": [
    "X_train, y_train = np.array(X_train), np.array(y_train)\n",
    "X_val, y_val = np.array(X_val), np.array(y_val)\n",
    "X_test, y_test = np.array(X_test), np.array(y_test)"
   ]
  },
  {
   "cell_type": "code",
   "execution_count": 5,
   "id": "8be33f3a-5713-4c59-8d92-aed81bc9ae6d",
   "metadata": {},
   "outputs": [],
   "source": [
    "y_train, y_test, y_val = y_train.astype(float), y_test.astype(float), y_val.astype(float)"
   ]
  },
  {
   "cell_type": "markdown",
   "id": "a3312e0b-98ba-4f31-9d53-a4bf3f20be5f",
   "metadata": {},
   "source": [
    "### Setup the Neural Network"
   ]
  },
  {
   "cell_type": "code",
   "execution_count": 6,
   "id": "0970d683",
   "metadata": {},
   "outputs": [
    {
     "data": {
      "text/plain": [
       "<torch._C.Generator at 0x248da83b0d0>"
      ]
     },
     "execution_count": 6,
     "metadata": {},
     "output_type": "execute_result"
    }
   ],
   "source": [
    "#Reproducible\n",
    "torch.manual_seed(1)"
   ]
  },
  {
   "cell_type": "markdown",
   "id": "ad6a11ce",
   "metadata": {},
   "source": [
    "### Check whether the GPU is available"
   ]
  },
  {
   "cell_type": "code",
   "execution_count": 7,
   "id": "570fcf1f",
   "metadata": {},
   "outputs": [
    {
     "name": "stdout",
     "output_type": "stream",
     "text": [
      "cuda:0\n"
     ]
    }
   ],
   "source": [
    "device = torch.device(\"cuda:0\" if torch.cuda.is_available() else \"cpu\")\n",
    "print(device)"
   ]
  },
  {
   "cell_type": "code",
   "execution_count": 8,
   "id": "be20de9e-8b63-4f17-b347-d91dc1b83e4a",
   "metadata": {},
   "outputs": [],
   "source": [
    "class RegressionDataset(Dataset):\n",
    "    def __init__(self, x_data, y_data):\n",
    "        self.x_data = x_data\n",
    "        self.y_data = y_data\n",
    "    \n",
    "    def __getitem__(self, index):\n",
    "        return self.x_data[index], self.y_data[index]\n",
    "    \n",
    "    def __len__(self):\n",
    "        return len(self.x_data)"
   ]
  },
  {
   "cell_type": "code",
   "execution_count": 9,
   "id": "b72d4bb6-c5cf-43f7-9694-5a28e6800f1d",
   "metadata": {},
   "outputs": [],
   "source": [
    "train_dataset = RegressionDataset(torch.from_numpy(X_train).float(),\n",
    "                                 torch.from_numpy(y_train).float())\n",
    "test_dataset = RegressionDataset(torch.from_numpy(X_test).float(),\n",
    "                                torch.from_numpy(y_test).float())\n",
    "val_dataset = RegressionDataset(torch.from_numpy(X_val).float(),\n",
    "                               torch.from_numpy(y_val).float())"
   ]
  },
  {
   "cell_type": "markdown",
   "id": "70a908cc",
   "metadata": {},
   "source": [
    "\n",
    "### Build the feedforward neural network"
   ]
  },
  {
   "cell_type": "code",
   "execution_count": 26,
   "id": "f6b414c1-d7be-4044-8eb1-741b08bbe2a1",
   "metadata": {},
   "outputs": [],
   "source": [
    "class MultipleRegression(nn.Module):\n",
    "    def __init__(self, num_features):\n",
    "        super(MultipleRegression, self).__init__()\n",
    "        self.fc1 = nn.Linear(num_features, 64)\n",
    "        self.fc2 = nn.Linear(64, 128)\n",
    "#         self.fc3 = nn.Linear(128, 64)\n",
    "        self.output = nn.Linear(128, 1)\n",
    "        \n",
    "        self.act = nn.Sigmoid()\n",
    "    \n",
    "    def forward(self, inputs):\n",
    "        x = self.act(self.fc1(inputs))\n",
    "        x = self.act(self.fc2(x))\n",
    "#         x = self.act(self.fc3(x))\n",
    "        x = self.output(x)\n",
    "        \n",
    "        return x\n",
    "    \n",
    "    def predict(self, test_inputs):\n",
    "        x = self.act(self.fc1(test_inputs))\n",
    "        x = self.act(self.fc2(x))\n",
    "#         x = self.act(self.fc3(x))\n",
    "        x = self.output(x)\n",
    "        \n",
    "        return x\n",
    "        \n",
    "        "
   ]
  },
  {
   "cell_type": "code",
   "execution_count": 27,
   "id": "daa2e008-c244-4e0f-bce5-461688252fc1",
   "metadata": {},
   "outputs": [],
   "source": [
    "EPOCHS = 1000\n",
    "BATCH_SIZE = 1\n",
    "LEARNING_RATE = 0.1\n",
    "NUM_FEATURES = len(x.columns)"
   ]
  },
  {
   "cell_type": "code",
   "execution_count": 28,
   "id": "cbcbfaf6-52ea-4fca-91f8-2e73d8449dbb",
   "metadata": {},
   "outputs": [],
   "source": [
    "train_loader = DataLoader(dataset=train_dataset, batch_size=BATCH_SIZE, shuffle=True)\n",
    "val_loader = DataLoader(dataset=val_dataset, batch_size=1)\n",
    "test_loader = DataLoader(dataset=test_dataset, batch_size=1)"
   ]
  },
  {
   "cell_type": "code",
   "execution_count": 29,
   "id": "f9ddb3a2-59b3-48a9-8161-b000d6798f54",
   "metadata": {},
   "outputs": [
    {
     "name": "stdout",
     "output_type": "stream",
     "text": [
      "MultipleRegression(\n",
      "  (fc1): Linear(in_features=15, out_features=64, bias=True)\n",
      "  (fc2): Linear(in_features=64, out_features=128, bias=True)\n",
      "  (output): Linear(in_features=128, out_features=1, bias=True)\n",
      "  (act): Sigmoid()\n",
      ")\n"
     ]
    }
   ],
   "source": [
    "model = MultipleRegression(NUM_FEATURES)\n",
    "model.to(device)\n",
    "\n",
    "print(model)\n",
    "\n",
    "criterion = nn.MSELoss()\n",
    "optimizer = optim.Adam(model.parameters(), lr = LEARNING_RATE)"
   ]
  },
  {
   "cell_type": "code",
   "execution_count": 30,
   "id": "769e1ada-e089-4f67-b8a2-a5b673e5f3b6",
   "metadata": {},
   "outputs": [],
   "source": [
    "# Define a dictionary which will store the loss / epoch for both train and validation sets\n",
    "loss_stats = {\n",
    "    'train':[],\n",
    "    'val':[]\n",
    "}"
   ]
  },
  {
   "cell_type": "markdown",
   "id": "b53da8ba",
   "metadata": {},
   "source": [
    "### Train the network"
   ]
  },
  {
   "cell_type": "code",
   "execution_count": 31,
   "id": "8781069c",
   "metadata": {},
   "outputs": [
    {
     "name": "stdout",
     "output_type": "stream",
     "text": [
      "=========Begin Training=========\n",
      "Epoch 010: | Train Loss: 2062.22787 | Val Loss: 2068.87531\n",
      "Epoch 020: | Train Loss: 1984.50430 | Val Loss: 1996.37432\n",
      "Epoch 030: | Train Loss: 1974.61966 | Val Loss: 1922.56884\n",
      "Epoch 040: | Train Loss: 1990.60896 | Val Loss: 1971.22594\n",
      "Epoch 050: | Train Loss: 1939.42071 | Val Loss: 2083.78601\n",
      "Epoch 060: | Train Loss: 1893.31822 | Val Loss: 1989.26047\n",
      "Epoch 070: | Train Loss: 1884.61993 | Val Loss: 1838.15894\n",
      "Epoch 080: | Train Loss: 1903.13217 | Val Loss: 1920.49961\n",
      "Epoch 090: | Train Loss: 1887.41693 | Val Loss: 1957.23057\n",
      "Epoch 100: | Train Loss: 1887.80391 | Val Loss: 1950.50665\n",
      "Epoch 110: | Train Loss: 1804.01232 | Val Loss: 1878.13180\n",
      "Epoch 120: | Train Loss: 1859.21233 | Val Loss: 1974.31758\n",
      "Epoch 130: | Train Loss: 1839.31511 | Val Loss: 1865.51978\n",
      "Epoch 140: | Train Loss: 1842.78236 | Val Loss: 1869.38698\n",
      "Epoch 150: | Train Loss: 1804.45583 | Val Loss: 1750.40263\n",
      "Epoch 160: | Train Loss: 1806.50229 | Val Loss: 1932.16858\n",
      "Epoch 170: | Train Loss: 1848.64184 | Val Loss: 1905.91480\n",
      "Epoch 180: | Train Loss: 1812.91593 | Val Loss: 1815.43039\n",
      "Epoch 190: | Train Loss: 1824.47473 | Val Loss: 1898.03192\n",
      "Epoch 200: | Train Loss: 1779.36178 | Val Loss: 1808.67498\n",
      "Epoch 210: | Train Loss: 1752.03653 | Val Loss: 1884.58562\n",
      "Epoch 220: | Train Loss: 1747.93787 | Val Loss: 1871.19696\n",
      "Epoch 230: | Train Loss: 1731.16885 | Val Loss: 1911.46523\n",
      "Epoch 240: | Train Loss: 1785.32398 | Val Loss: 1805.61006\n",
      "Epoch 250: | Train Loss: 1755.49083 | Val Loss: 1873.50877\n",
      "Epoch 260: | Train Loss: 1763.73391 | Val Loss: 1890.15514\n",
      "Epoch 270: | Train Loss: 1761.27429 | Val Loss: 1833.99625\n",
      "Epoch 280: | Train Loss: 1752.03921 | Val Loss: 1878.11092\n",
      "Epoch 290: | Train Loss: 1788.81644 | Val Loss: 1834.01165\n",
      "Epoch 300: | Train Loss: 1757.11526 | Val Loss: 1839.14364\n",
      "Epoch 310: | Train Loss: 1790.72363 | Val Loss: 1834.99754\n",
      "Epoch 320: | Train Loss: 1717.92346 | Val Loss: 1909.67734\n",
      "Epoch 330: | Train Loss: 1759.19300 | Val Loss: 1873.54688\n",
      "Epoch 340: | Train Loss: 1773.08832 | Val Loss: 2305.78558\n",
      "Epoch 350: | Train Loss: 1782.36120 | Val Loss: 1872.88066\n",
      "Epoch 360: | Train Loss: 1744.93897 | Val Loss: 1876.57402\n",
      "Epoch 370: | Train Loss: 1779.96440 | Val Loss: 2046.10224\n",
      "Epoch 380: | Train Loss: 1732.97830 | Val Loss: 2070.14468\n",
      "Epoch 390: | Train Loss: 1819.44798 | Val Loss: 1940.14950\n",
      "Epoch 400: | Train Loss: 1789.19809 | Val Loss: 1850.07569\n",
      "Epoch 410: | Train Loss: 1730.67324 | Val Loss: 1931.79934\n",
      "Epoch 420: | Train Loss: 1706.75060 | Val Loss: 2141.24641\n",
      "Epoch 430: | Train Loss: 1740.11346 | Val Loss: 2037.66192\n",
      "Epoch 440: | Train Loss: 1738.75004 | Val Loss: 1794.35378\n",
      "Epoch 450: | Train Loss: 1757.60049 | Val Loss: 2007.22439\n",
      "Epoch 460: | Train Loss: 1777.60758 | Val Loss: 1936.15177\n",
      "Epoch 470: | Train Loss: 1770.60963 | Val Loss: 2115.40544\n",
      "Epoch 480: | Train Loss: 1751.71205 | Val Loss: 1819.08943\n",
      "Epoch 490: | Train Loss: 1759.84620 | Val Loss: 1842.62119\n",
      "Epoch 500: | Train Loss: 1763.11037 | Val Loss: 1860.59899\n",
      "Epoch 510: | Train Loss: 1778.96601 | Val Loss: 1910.11507\n",
      "Epoch 520: | Train Loss: 1737.71325 | Val Loss: 1940.54403\n",
      "Epoch 530: | Train Loss: 1773.50334 | Val Loss: 2076.42407\n",
      "Epoch 540: | Train Loss: 1754.40566 | Val Loss: 1851.32354\n",
      "Epoch 550: | Train Loss: 1759.82560 | Val Loss: 1845.81267\n",
      "Epoch 560: | Train Loss: 1729.79524 | Val Loss: 1908.75778\n",
      "Epoch 570: | Train Loss: 1746.90197 | Val Loss: 1798.55098\n",
      "Epoch 580: | Train Loss: 1736.21118 | Val Loss: 1898.81900\n",
      "Epoch 590: | Train Loss: 1704.90001 | Val Loss: 1895.03007\n",
      "Epoch 600: | Train Loss: 1727.16858 | Val Loss: 1880.81218\n",
      "Epoch 610: | Train Loss: 1734.41705 | Val Loss: 1900.01561\n",
      "Epoch 620: | Train Loss: 1778.24016 | Val Loss: 1901.11770\n",
      "Epoch 630: | Train Loss: 1750.60423 | Val Loss: 1959.55153\n",
      "Epoch 640: | Train Loss: 1773.99053 | Val Loss: 2063.06685\n",
      "Epoch 650: | Train Loss: 1743.33230 | Val Loss: 1923.51374\n",
      "Epoch 660: | Train Loss: 1736.82549 | Val Loss: 1850.32322\n",
      "Epoch 670: | Train Loss: 1724.31070 | Val Loss: 1791.61783\n",
      "Epoch 680: | Train Loss: 1736.21409 | Val Loss: 1955.18053\n",
      "Epoch 690: | Train Loss: 1769.17559 | Val Loss: 1934.77212\n",
      "Epoch 700: | Train Loss: 1710.14352 | Val Loss: 1825.59333\n",
      "Epoch 710: | Train Loss: 1805.50443 | Val Loss: 1971.84443\n",
      "Epoch 720: | Train Loss: 1769.69435 | Val Loss: 1958.17485\n",
      "Epoch 730: | Train Loss: 1732.74882 | Val Loss: 1918.31914\n",
      "Epoch 740: | Train Loss: 1742.40078 | Val Loss: 1776.75849\n",
      "Epoch 750: | Train Loss: 1705.02670 | Val Loss: 1771.56281\n",
      "Epoch 760: | Train Loss: 1757.94834 | Val Loss: 1860.27591\n",
      "Epoch 770: | Train Loss: 1761.26669 | Val Loss: 1843.30812\n",
      "Epoch 780: | Train Loss: 1718.62727 | Val Loss: 1934.34178\n",
      "Epoch 790: | Train Loss: 1746.95018 | Val Loss: 1877.75284\n",
      "Epoch 800: | Train Loss: 1757.40221 | Val Loss: 1899.09343\n",
      "Epoch 810: | Train Loss: 1783.00904 | Val Loss: 1905.04813\n",
      "Epoch 820: | Train Loss: 1760.31867 | Val Loss: 2250.71796\n",
      "Epoch 830: | Train Loss: 1733.41886 | Val Loss: 1944.31175\n",
      "Epoch 840: | Train Loss: 1774.59521 | Val Loss: 1901.62910\n",
      "Epoch 850: | Train Loss: 1752.46290 | Val Loss: 1896.05733\n",
      "Epoch 860: | Train Loss: 1777.23158 | Val Loss: 1774.33186\n",
      "Epoch 870: | Train Loss: 1750.40793 | Val Loss: 1737.22210\n",
      "Epoch 880: | Train Loss: 1747.70666 | Val Loss: 1834.41690\n",
      "Epoch 890: | Train Loss: 1782.17787 | Val Loss: 1918.09920\n",
      "Epoch 900: | Train Loss: 1754.04885 | Val Loss: 1929.16387\n",
      "Epoch 910: | Train Loss: 1754.29243 | Val Loss: 1984.49630\n",
      "Epoch 920: | Train Loss: 1707.83731 | Val Loss: 2136.65449\n",
      "Epoch 930: | Train Loss: 1739.50715 | Val Loss: 1909.45556\n",
      "Epoch 940: | Train Loss: 1670.35962 | Val Loss: 2016.13026\n",
      "Epoch 950: | Train Loss: 1731.15440 | Val Loss: 1782.02606\n",
      "Epoch 960: | Train Loss: 1733.61500 | Val Loss: 1894.58763\n",
      "Epoch 970: | Train Loss: 1702.70121 | Val Loss: 1871.85911\n",
      "Epoch 980: | Train Loss: 1737.95056 | Val Loss: 1900.77404\n",
      "Epoch 990: | Train Loss: 1738.65878 | Val Loss: 1961.74141\n",
      "Epoch 1000: | Train Loss: 1755.03211 | Val Loss: 1878.96598\n"
     ]
    }
   ],
   "source": [
    "print('=========Begin Training=========')\n",
    "for e in range(1, EPOCHS+1):\n",
    "    \n",
    "    #TRAINING\n",
    "    train_epoch_loss = 0\n",
    "    model.train()\n",
    "    \n",
    "    for X_train_batch, y_train_batch in train_loader:\n",
    "        X_train_batch, y_train_batch = X_train_batch.to(device), y_train_batch.to(device)\n",
    "        optimizer.zero_grad()\n",
    "        \n",
    "        y_train_pred = model(X_train_batch)\n",
    "        \n",
    "        train_loss = criterion(y_train_pred, y_train_batch.unsqueeze(1))\n",
    "        \n",
    "        train_loss.backward()\n",
    "        optimizer.step()\n",
    "        \n",
    "        train_epoch_loss += train_loss.item()\n",
    "    \n",
    "    #VALIDATION\n",
    "    with torch.no_grad():\n",
    "        \n",
    "        val_epoch_loss = 0\n",
    "        \n",
    "        model.eval()\n",
    "        for X_val_batch, y_val_batch in val_loader:\n",
    "            X_val_batch, y_val_batch = X_val_batch.to(device), y_val_batch.to(device)\n",
    "            \n",
    "            y_val_pred = model(X_val_batch)\n",
    "            \n",
    "            val_loss = criterion(y_val_pred, y_val_batch.unsqueeze(1))\n",
    "            \n",
    "            val_epoch_loss += val_loss.item()\n",
    "            \n",
    "    loss_stats['train'].append(train_epoch_loss / len(train_loader))\n",
    "    loss_stats['val'].append(val_epoch_loss / len(val_loader))\n",
    "    if e%10 == 0:\n",
    "        print(f'Epoch {e+0:03}: | Train Loss: {train_epoch_loss/len(train_loader):.5f} | Val Loss: {val_epoch_loss/len(val_loader):.5f}')\n",
    "    \n",
    "    "
   ]
  },
  {
   "cell_type": "markdown",
   "id": "bb69f83d-0464-49bb-a32f-b73e1ef0e17b",
   "metadata": {},
   "source": [
    "### Post processing\n",
    "1. Vsiualize loss and accuracy\n",
    "2. Test trained model"
   ]
  },
  {
   "cell_type": "code",
   "execution_count": 19,
   "id": "3c1a58b7-8a54-4cff-a3c4-a3ebc18ddc13",
   "metadata": {},
   "outputs": [
    {
     "data": {
      "text/plain": [
       "Text(0.5, 1.0, 'Train-Val Loss/Epoch')"
      ]
     },
     "execution_count": 19,
     "metadata": {},
     "output_type": "execute_result"
    },
    {
     "data": {
      "image/png": "[encoded data removed]",
      "text/plain": [
       "<Figure size 1080x576 with 1 Axes>"
      ]
     },
     "metadata": {
      "needs_background": "light"
     },
     "output_type": "display_data"
    }
   ],
   "source": [
    "train_val_loss_df = pd.DataFrame.from_dict(loss_stats).reset_index().melt(id_vars=['index']).rename(columns={\"index\":\"epochs\"})\n",
    "plt.figure(figsize=(15,8))\n",
    "sns.lineplot(data=train_val_loss_df, x = \"epochs\", y=\"value\", hue=\"variable\").set_title('Train-Val Loss/Epoch')"
   ]
  },
  {
   "cell_type": "code",
   "execution_count": 20,
   "id": "84433825-4df5-4452-a367-e854d6cffd42",
   "metadata": {},
   "outputs": [],
   "source": [
    "y_pred_list = []\n",
    "\n",
    "with torch.no_grad():\n",
    "    model.eval()\n",
    "    for X_batch, _ in test_loader:\n",
    "        X_batch = X_batch.to(device)\n",
    "        y_test_pred = model(X_batch)\n",
    "        y_pred_list.append(y_test_pred.cpu().numpy())"
   ]
  },
  {
   "cell_type": "code",
   "execution_count": 21,
   "id": "3e570b69-85dd-4ae4-93f2-5945d19d083c",
   "metadata": {},
   "outputs": [],
   "source": [
    "y_pred_list = [a.squeeze().tolist() for a in y_pred_list]"
   ]
  },
  {
   "cell_type": "markdown",
   "id": "73f06e88-cda7-4d5a-84a5-d02b4fb9cc67",
   "metadata": {},
   "source": [
    "### Batch = 1, Epoches = 1000"
   ]
  },
  {
   "cell_type": "code",
   "execution_count": 22,
   "id": "2db24f1f-20d6-43c5-8f09-680ddd6a271b",
   "metadata": {},
   "outputs": [
    {
     "name": "stdout",
     "output_type": "stream",
     "text": [
      "Mean Squared Error : 2763.1209712983223\n",
      "R^2 : 0.12098335521374537\n"
     ]
    }
   ],
   "source": [
    "mse = mean_squared_error(y_test, y_pred_list)\n",
    "r_square = r2_score(y_test, y_pred_list)\n",
    "\n",
    "print(\"Mean Squared Error :\",mse)\n",
    "print(\"R^2 :\",r_square)"
   ]
  },
  {
   "cell_type": "markdown",
   "id": "6da1c880-95d0-4507-94a7-65bf96a4b6e7",
   "metadata": {},
   "source": [
    "### Batch = 16, Epoches = 10000"
   ]
  },
  {
   "cell_type": "code",
   "execution_count": 39,
   "id": "6a35e059-ee8a-4982-906a-ddf40b1eb72b",
   "metadata": {},
   "outputs": [
    {
     "name": "stdout",
     "output_type": "stream",
     "text": [
      "Mean Squared Error : 3226.338499860271\n",
      "R^2 : -0.020906308162571108\n"
     ]
    }
   ],
   "source": [
    "mse = mean_squared_error(y_test, y_pred_list)\n",
    "r_square = r2_score(y_test, y_pred_list)\n",
    "\n",
    "print(\"Mean Squared Error :\",mse)\n",
    "print(\"R^2 :\",r_square)"
   ]
  },
  {
   "cell_type": "code",
   "execution_count": null,
   "id": "27e17b7e-7c91-4b94-a3bc-14f2ab8b76bd",
   "metadata": {},
   "outputs": [],
   "source": []
  }
 ],
 "metadata": {
  "kernelspec": {
   "display_name": "Python 3",
   "language": "python",
   "name": "python3"
  },
  "language_info": {
   "codemirror_mode": {
    "name": "ipython",
    "version": 3
   },
   "file_extension": ".py",
   "mimetype": "text/x-python",
   "name": "python",
   "nbconvert_exporter": "python",
   "pygments_lexer": "ipython3",
   "version": "3.9.5"
  }
 },
 "nbformat": 4,
 "nbformat_minor": 5
}
